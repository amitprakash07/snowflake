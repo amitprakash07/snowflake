{
 "cells": [
  {
   "cell_type": "code",
   "execution_count": 4,
   "metadata": {},
   "outputs": [
    {
     "name": "stderr",
     "output_type": "stream",
     "text": [
      "UsageError: Line magic function `%pip3` not found.\n"
     ]
    }
   ],
   "source": [
    "pip install -q ipywidgets"
   ]
  },
  {
   "cell_type": "code",
   "execution_count": 12,
   "metadata": {},
   "outputs": [
    {
     "name": "stdout",
     "output_type": "stream",
     "text": [
      "Defaulting to user installation because normal site-packages is not writeable\n",
      "Requirement already satisfied: matplotlib in c:\\users\\amprakash\\appdata\\roaming\\python\\python311\\site-packages (3.8.2)\n",
      "Collecting scipy\n",
      "  Downloading scipy-1.12.0-cp311-cp311-win_amd64.whl.metadata (60 kB)\n",
      "     ---------------------------------------- 0.0/60.4 kB ? eta -:--:--\n",
      "     ---------------------------------------- 60.4/60.4 kB 1.6 MB/s eta 0:00:00\n",
      "Requirement already satisfied: contourpy>=1.0.1 in c:\\users\\amprakash\\appdata\\roaming\\python\\python311\\site-packages (from matplotlib) (1.2.0)\n",
      "Requirement already satisfied: cycler>=0.10 in c:\\users\\amprakash\\appdata\\roaming\\python\\python311\\site-packages (from matplotlib) (0.12.1)\n",
      "Requirement already satisfied: fonttools>=4.22.0 in c:\\users\\amprakash\\appdata\\roaming\\python\\python311\\site-packages (from matplotlib) (4.48.1)\n",
      "Requirement already satisfied: kiwisolver>=1.3.1 in c:\\users\\amprakash\\appdata\\roaming\\python\\python311\\site-packages (from matplotlib) (1.4.5)\n",
      "Requirement already satisfied: numpy<2,>=1.21 in c:\\users\\amprakash\\appdata\\roaming\\python\\python311\\site-packages (from matplotlib) (1.26.4)\n",
      "Requirement already satisfied: packaging>=20.0 in c:\\users\\amprakash\\appdata\\roaming\\python\\python311\\site-packages (from matplotlib) (23.2)\n",
      "Requirement already satisfied: pillow>=8 in c:\\users\\amprakash\\appdata\\roaming\\python\\python311\\site-packages (from matplotlib) (10.2.0)\n",
      "Requirement already satisfied: pyparsing>=2.3.1 in c:\\users\\amprakash\\appdata\\roaming\\python\\python311\\site-packages (from matplotlib) (3.1.1)\n",
      "Requirement already satisfied: python-dateutil>=2.7 in c:\\users\\amprakash\\appdata\\roaming\\python\\python311\\site-packages (from matplotlib) (2.8.2)\n",
      "Requirement already satisfied: six>=1.5 in c:\\users\\amprakash\\appdata\\roaming\\python\\python311\\site-packages (from python-dateutil>=2.7->matplotlib) (1.16.0)\n",
      "Downloading scipy-1.12.0-cp311-cp311-win_amd64.whl (46.2 MB)\n",
      "   ---------------------------------------- 0.0/46.2 MB ? eta -:--:--\n",
      "   ---------------------------------------- 0.5/46.2 MB 10.0 MB/s eta 0:00:05\n",
      "   - -------------------------------------- 1.7/46.2 MB 17.5 MB/s eta 0:00:03\n",
      "   -- ------------------------------------- 3.1/46.2 MB 21.9 MB/s eta 0:00:02\n",
      "   ---- ----------------------------------- 5.2/46.2 MB 27.8 MB/s eta 0:00:02\n",
      "   ----- ---------------------------------- 6.6/46.2 MB 30.3 MB/s eta 0:00:02\n",
      "   ------ --------------------------------- 8.1/46.2 MB 30.4 MB/s eta 0:00:02\n",
      "   ------- -------------------------------- 8.9/46.2 MB 28.6 MB/s eta 0:00:02\n",
      "   -------- ------------------------------- 10.3/46.2 MB 28.5 MB/s eta 0:00:02\n",
      "   --------- ------------------------------ 11.4/46.2 MB 31.2 MB/s eta 0:00:02\n",
      "   ---------- ----------------------------- 12.3/46.2 MB 29.7 MB/s eta 0:00:02\n",
      "   ----------- ---------------------------- 13.7/46.2 MB 28.4 MB/s eta 0:00:02\n",
      "   ------------- -------------------------- 15.2/46.2 MB 27.3 MB/s eta 0:00:02\n",
      "   -------------- ------------------------- 16.8/46.2 MB 27.3 MB/s eta 0:00:02\n",
      "   ---------------- ----------------------- 18.5/46.2 MB 28.5 MB/s eta 0:00:01\n",
      "   ----------------- ---------------------- 20.1/46.2 MB 31.2 MB/s eta 0:00:01\n",
      "   ------------------ --------------------- 21.0/46.2 MB 28.5 MB/s eta 0:00:01\n",
      "   ------------------- -------------------- 22.3/46.2 MB 31.2 MB/s eta 0:00:01\n",
      "   ------------------- -------------------- 22.7/46.2 MB 27.3 MB/s eta 0:00:01\n",
      "   -------------------- ------------------- 23.7/46.2 MB 26.2 MB/s eta 0:00:01\n",
      "   --------------------- ------------------ 25.2/46.2 MB 28.5 MB/s eta 0:00:01\n",
      "   ----------------------- ---------------- 26.6/46.2 MB 27.3 MB/s eta 0:00:01\n",
      "   ------------------------ --------------- 27.8/46.2 MB 26.2 MB/s eta 0:00:01\n",
      "   ------------------------- -------------- 29.6/46.2 MB 27.3 MB/s eta 0:00:01\n",
      "   --------------------------- ------------ 31.5/46.2 MB 29.7 MB/s eta 0:00:01\n",
      "   ---------------------------- ----------- 33.3/46.2 MB 34.6 MB/s eta 0:00:01\n",
      "   ------------------------------ --------- 35.0/46.2 MB 36.4 MB/s eta 0:00:01\n",
      "   ------------------------------- -------- 36.2/46.2 MB 36.4 MB/s eta 0:00:01\n",
      "   -------------------------------- ------- 37.5/46.2 MB 34.4 MB/s eta 0:00:01\n",
      "   --------------------------------- ------ 39.1/46.2 MB 34.4 MB/s eta 0:00:01\n",
      "   ----------------------------------- ---- 41.1/46.2 MB 34.4 MB/s eta 0:00:01\n",
      "   ------------------------------------ --- 42.3/46.2 MB 32.7 MB/s eta 0:00:01\n",
      "   ------------------------------------- -- 42.8/46.2 MB 29.7 MB/s eta 0:00:01\n",
      "   ------------------------------------- -- 43.3/46.2 MB 27.3 MB/s eta 0:00:01\n",
      "   -------------------------------------- - 44.1/46.2 MB 25.2 MB/s eta 0:00:01\n",
      "   ---------------------------------------  45.2/46.2 MB 24.2 MB/s eta 0:00:01\n",
      "   ---------------------------------------  46.2/46.2 MB 25.2 MB/s eta 0:00:01\n",
      "   ---------------------------------------  46.2/46.2 MB 25.2 MB/s eta 0:00:01\n",
      "   ---------------------------------------  46.2/46.2 MB 25.2 MB/s eta 0:00:01\n",
      "   ---------------------------------------- 46.2/46.2 MB 19.2 MB/s eta 0:00:00\n",
      "Installing collected packages: scipy\n",
      "Successfully installed scipy-1.12.0\n",
      "Note: you may need to restart the kernel to use updated packages.\n"
     ]
    }
   ],
   "source": [
    "pip install matplotlib scipy"
   ]
  },
  {
   "cell_type": "code",
   "execution_count": 13,
   "metadata": {},
   "outputs": [],
   "source": [
    "import numpy as np\n",
    "from matplotlib import pyplot as plt\n",
    "from scipy import integrate\n",
    "\n",
    "from ipywidgets import interactive, fixed"
   ]
  },
  {
   "cell_type": "code",
   "execution_count": 14,
   "metadata": {},
   "outputs": [],
   "source": [
    "def solve_lorenz(sigma=10.0, beta=8./3, rho=28.0):\n",
    "    \"\"\"Plot a solution to the Lorenz differential equations.\"\"\"\n",
    "\n",
    "    max_time = 4.0\n",
    "    N = 30\n",
    "\n",
    "    fig = plt.figure(1)\n",
    "    ax = fig.add_axes([0, 0, 1, 1], projection='3d')\n",
    "    ax.axis('off')\n",
    "\n",
    "    # prepare the axes limits\n",
    "    ax.set_xlim((-25, 25))\n",
    "    ax.set_ylim((-35, 35))\n",
    "    ax.set_zlim((5, 55))\n",
    "    \n",
    "    def lorenz_deriv(x_y_z, t0, sigma=sigma, beta=beta, rho=rho):\n",
    "        \"\"\"Compute the time-derivative of a Lorenz system.\"\"\"\n",
    "        x, y, z = x_y_z\n",
    "        return [sigma * (y - x), x * (rho - z) - y, x * y - beta * z]\n",
    "\n",
    "    # Choose random starting points, uniformly distributed from -15 to 15\n",
    "    np.random.seed(1)\n",
    "    x0 = -15 + 30 * np.random.random((N, 3))\n",
    "\n",
    "    # Solve for the trajectories\n",
    "    t = np.linspace(0, max_time, int(250*max_time))\n",
    "    x_t = np.asarray([integrate.odeint(lorenz_deriv, x0i, t)\n",
    "                      for x0i in x0])\n",
    "    \n",
    "    # choose a different color for each trajectory\n",
    "    colors = plt.cm.viridis(np.linspace(0, 1, N))\n",
    "\n",
    "    for i in range(N):\n",
    "        x, y, z = x_t[i,:,:].T\n",
    "        lines = ax.plot(x, y, z, '-', c=colors[i])\n",
    "        plt.setp(lines, linewidth=2)\n",
    "    angle = 104\n",
    "    ax.view_init(30, angle)\n",
    "    plt.show()\n",
    "\n",
    "    return t, x_t"
   ]
  },
  {
   "cell_type": "markdown",
   "metadata": {},
   "source": [
    "We explore the Lorenz system of differential equations:\n",
    "\n",
    "$$\n",
    "\\begin{aligned}\n",
    "\\dot{x} & = \\sigma(y-x) \\\\\n",
    "\\dot{y} & = \\rho x - y - xz \\\\\n",
    "\\dot{z} & = -\\beta z + xy\n",
    "\\end{aligned}\n",
    "$$\n",
    "\n",
    "Let's change (\\\\(\\sigma\\\\), \\\\(\\beta\\\\), \\\\(\\rho\\\\)) with ipywidgets and examine the trajectories."
   ]
  },
  {
   "cell_type": "code",
   "execution_count": 16,
   "metadata": {},
   "outputs": [
    {
     "data": {
      "application/vnd.jupyter.widget-view+json": {
       "model_id": "0d9a01b598604b038a9a75a737243c0d",
       "version_major": 2,
       "version_minor": 0
      },
      "text/plain": [
       "interactive(children=(FloatSlider(value=10.0, description='sigma', max=50.0), FloatSlider(value=2.666666666666…"
      ]
     },
     "execution_count": 16,
     "metadata": {},
     "output_type": "execute_result"
    }
   ],
   "source": [
    "w=interactive(solve_lorenz,sigma=(0.0,50.0),rho=(0.0,50.0))\n",
    "w"
   ]
  },
  {
   "cell_type": "markdown",
   "metadata": {},
   "source": [
    "For the default set of parameters, we see the trajectories swirling around two points, called attractors. \n",
    "\n",
    "The object returned by `interactive` is a `Widget` object and it has attributes that contain the current result and arguments:"
   ]
  },
  {
   "cell_type": "code",
   "execution_count": 18,
   "metadata": {},
   "outputs": [],
   "source": [
    "t, x_t = w.result"
   ]
  },
  {
   "cell_type": "code",
   "execution_count": 19,
   "metadata": {},
   "outputs": [
    {
     "data": {
      "text/plain": [
       "{'sigma': 14.4, 'beta': 2.6333333333333333, 'rho': 34.0}"
      ]
     },
     "execution_count": 19,
     "metadata": {},
     "output_type": "execute_result"
    }
   ],
   "source": [
    "w.kwargs"
   ]
  },
  {
   "cell_type": "markdown",
   "metadata": {},
   "source": [
    "After interacting with the system, we can take the result and perform further computations. In this case, we compute the average positions in \\\\(x\\\\), \\\\(y\\\\) and \\\\(z\\\\)."
   ]
  },
  {
   "cell_type": "code",
   "execution_count": 22,
   "metadata": {},
   "outputs": [],
   "source": [
    "xyz_avg = x_t.mean(axis=1)"
   ]
  },
  {
   "cell_type": "code",
   "execution_count": 23,
   "metadata": {},
   "outputs": [
    {
     "data": {
      "text/plain": [
       "(30, 3)"
      ]
     },
     "execution_count": 23,
     "metadata": {},
     "output_type": "execute_result"
    }
   ],
   "source": [
    "xyz_avg.shape"
   ]
  },
  {
   "cell_type": "markdown",
   "metadata": {},
   "source": [
    "Creating histograms of the average positions (across different trajectories) show that, on average, the trajectories swirl about the attractors."
   ]
  },
  {
   "cell_type": "code",
   "execution_count": 25,
   "metadata": {},
   "outputs": [],
   "source": [
    "from matplotlib import pyplot as plt\n",
    "%matplotlib inline"
   ]
  },
  {
   "cell_type": "code",
   "execution_count": 27,
   "metadata": {},
   "outputs": [
    {
     "data": {
      "image/png": "[encoded data removed]",
      "text/plain": [
       "<Figure size 640x480 with 1 Axes>"
      ]
     },
     "metadata": {},
     "output_type": "display_data"
    }
   ],
   "source": [
    "plt.hist(xyz_avg[:,0])\n",
    "plt.title('Average $x(t)$');"
   ]
  },
  {
   "cell_type": "code",
   "execution_count": 28,
   "metadata": {},
   "outputs": [
    {
     "data": {
      "image/png": "[encoded data removed]",
      "text/plain": [
       "<Figure size 640x480 with 1 Axes>"
      ]
     },
     "metadata": {},
     "output_type": "display_data"
    }
   ],
   "source": [
    "plt.hist(xyz_avg[:,1])\n",
    "plt.title('Average $y(t)$');"
   ]
  }
 ],
 "metadata": {
  "kernelspec": {
   "display_name": "Python 3",
   "language": "python",
   "name": "python3"
  },
  "language_info": {
   "codemirror_mode": {
    "name": "ipython",
    "version": 3
   },
   "file_extension": ".py",
   "mimetype": "text/x-python",
   "name": "python",
   "nbconvert_exporter": "python",
   "pygments_lexer": "ipython3",
   "version": "3.11.2"
  }
 },
 "nbformat": 4,
 "nbformat_minor": 2
}
