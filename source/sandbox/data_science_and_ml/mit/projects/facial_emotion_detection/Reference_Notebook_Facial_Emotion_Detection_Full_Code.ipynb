{
  "cells": [
    {
      "cell_type": "markdown",
      "metadata": {
        "id": "bg-DvjFCyXSr"
      },
      "source": [
        "# **Facial Emotion Detection**"
      ]
    },
    {
      "cell_type": "markdown",
      "metadata": {
        "id": "DYdEI31whyE-"
      },
      "source": [
        "## **Problem Definition**\n",
        "\n",
        "**The context:** Why is this problem important to solve?<br>\n",
        "**The objectives:** What is the intended goal?<br>\n",
        "**The key questions:** What are the key questions that need to be answered?<br>\n",
        "**The problem formulation:** What are we trying to solve using data science?\n",
        "\n",
        "\n",
        "\n",
        "## **About the dataset**\n",
        "\n",
        "The data set consists of 3 folders, i.e., 'test', 'train', and 'validation'. \n",
        "Each of these folders has four subfolders:\n",
        "\n",
        "**‘happy’**: Images of people who have happy facial expressions.<br>\n",
        "**‘sad’**: Images of people with sad or upset facial expressions.<br>\n",
        "**‘surprise’**: Images of people who have shocked or surprised facial expressions.<br>\n",
        "**‘neutral’**: Images of people showing no prominent emotion in their facial expression at all.<br>\n"
      ]
    },
    {
      "cell_type": "markdown",
      "metadata": {
        "id": "HDM89XHyCxrA"
      },
      "source": [
        "## **Mounting the Drive**\n",
        "\n",
        "**NOTE:**  Please use Google Colab from your browser for this notebook. **Google.colab is NOT a library that can be downloaded locally on your device.**"
      ]
    },
    {
      "cell_type": "code",
      "execution_count": null,
      "metadata": {
        "id": "JQi_degJC3dm"
      },
      "outputs": [],
      "source": [
        "# Mounting the drive\n",
        "from google.colab import drive\n",
        "drive.mount('/content/drive')"
      ]
    },
    {
      "cell_type": "markdown",
      "metadata": {
        "id": "UC8-yLUUCcWh"
      },
      "source": [
        "## **Importing the Libraries**"
      ]
    },
    {
      "cell_type": "code",
      "execution_count": 98,
      "metadata": {
        "id": "30fd2144"
      },
      "outputs": [],
      "source": [
        "import zipfile\n",
        "import matplotlib.pyplot as plt\n",
        "import numpy as np\n",
        "import pandas as pd\n",
        "import seaborn as sns\n",
        "import os\n",
        "\n",
        "# Importing Deep Learning Libraries\n",
        "\n",
        "import tensorflow as tf\n",
        "from tensorflow.keras.layers import Dense, Input, Dropout, GlobalAveragePooling2D, Flatten, Conv2D, BatchNormalization, Activation, MaxPooling2D, LeakyReLU\n",
        "from tensorflow.keras.models import Model, Sequential\n",
        "from tensorflow.keras.optimizers import Adam, SGD, RMSprop"
      ]
    },
    {
      "cell_type": "markdown",
      "metadata": {
        "id": "nCqJk2XpCnJi"
      },
      "source": [
        "### **Let us load and unzip the data**"
      ]
    },
    {
      "cell_type": "markdown",
      "metadata": {
        "id": "_syvBdMlDTsr"
      },
      "source": [
        "**Note:** \n",
        "- You must download the dataset from the link provided on Olympus and upload the same on your Google drive before executing the code in the next cell.\n",
        "- In case of any error, please make sure that the path of the file is correct as the path may be different for you."
      ]
    },
    {
      "cell_type": "code",
      "execution_count": null,
      "metadata": {
        "id": "sMfr4tK04C0o"
      },
      "outputs": [],
      "source": [
        "# Storing the path of the data file from the Google drive\n",
        "path = '/content/drive/MyDrive/Facial_emotion_images.zip'\n",
        "out_directory = '/content/drive/MyDrive/Facial_emotion_images'\n",
        "\n",
        "# The data is provided as a zip file so we need to extract the files from the zip file\n",
        "with zipfile.ZipFile(path, 'r') as zip_ref:\n",
        "    zip_ref.extractall()"
      ]
    },
    {
      "cell_type": "code",
      "execution_count": 11,
      "metadata": {},
      "outputs": [],
      "source": [
        "picture_size = 48\n",
        "folder_path = \"Facial_emotion_images/\""
      ]
    },
    {
      "cell_type": "code",
      "execution_count": 110,
      "metadata": {},
      "outputs": [
        {
          "name": "stdout",
          "output_type": "stream",
          "text": [
            "D:\\GitHub\\amitprakash07\\snowflake\\data\\data_science_mit\\Facial_emotion_images\\\n"
          ]
        }
      ],
      "source": [
        "import os.path\n",
        "folder_path = \"D:\\\\GitHub\\\\amitprakash07\\\\snowflake\\\\data\\\\data_science_mit\\\\Facial_emotion_images\\\\\"\n",
        "out_directory = 'D:\\\\GitHub\\\\amitprakash07\\\\snowflake\\\\temp\\\\sandbox\\\\Facial_emotion_images'\n",
        "print(folder_path)"
      ]
    },
    {
      "cell_type": "markdown",
      "metadata": {
        "id": "YpkYTD705Eky"
      },
      "source": [
        "## **Visualizing our Classes**\n",
        "\n",
        "Let's look at our classes. \n",
        "\n",
        "**Write down your observation for each class. What do you think can be a unique feature of each emotion, that separates it from the remaining classes?**"
      ]
    },
    {
      "cell_type": "markdown",
      "metadata": {
        "id": "Mb59IxA35WF-"
      },
      "source": [
        "### **Happy**"
      ]
    },
    {
      "cell_type": "code",
      "execution_count": 99,
      "metadata": {},
      "outputs": [],
      "source": [
        "from tensorflow.keras import utils as tf_utils"
      ]
    },
    {
      "cell_type": "code",
      "execution_count": 162,
      "metadata": {},
      "outputs": [],
      "source": [
        "def show_images(folder_path, expression):\n",
        "    plt.figure(figsize= (8,8))\n",
        "    for i in range(1, 10, 1):\n",
        "        plt.subplot(3, 3, i)\n",
        "\n",
        "        img = tf_utils.load_img(folder_path + \"train/\" + expression + \"/\" +\n",
        "                      os.listdir(folder_path + \"train/\" + expression)[i], target_size = (picture_size, picture_size))\n",
        "        plt.imshow(img)\n",
        "\n",
        "    plt.show()"
      ]
    },
    {
      "cell_type": "code",
      "execution_count": 88,
      "metadata": {
        "id": "GBLc1cUpByfa"
      },
      "outputs": [
        {
          "data": {
            "image/png": "[encoded data removed]",
            "text/plain": [
              "<Figure size 800x800 with 9 Axes>"
            ]
          },
          "metadata": {},
          "output_type": "display_data"
        }
      ],
      "source": [
        "expression = 'happy'\n",
        "show_images(folder_path, expression)"
      ]
    },
    {
      "cell_type": "markdown",
      "metadata": {
        "id": "RWYioRFM5jMJ"
      },
      "source": [
        "**Observations and Insights:__**"
      ]
    },
    {
      "cell_type": "markdown",
      "metadata": {
        "id": "28ZzJwIK6HTH"
      },
      "source": [
        "### **Sad**"
      ]
    },
    {
      "cell_type": "code",
      "execution_count": 89,
      "metadata": {
        "id": "4n0oXebe6b0g"
      },
      "outputs": [
        {
          "data": {
            "image/png": "[encoded data removed]",
            "text/plain": [
              "<Figure size 800x800 with 9 Axes>"
            ]
          },
          "metadata": {},
          "output_type": "display_data"
        }
      ],
      "source": [
        "expression = 'sad'\n",
        "show_images(folder_path, expression)"
      ]
    },
    {
      "cell_type": "markdown",
      "metadata": {
        "id": "5BpviSLK6mLO"
      },
      "source": [
        "**Observations and Insights:__**"
      ]
    },
    {
      "cell_type": "markdown",
      "metadata": {
        "id": "8D3nRj8x7gjK"
      },
      "source": [
        "### **Neutral**"
      ]
    },
    {
      "cell_type": "code",
      "execution_count": 22,
      "metadata": {
        "id": "M9bRAog_7qPl"
      },
      "outputs": [
        {
          "data": {
            "image/png": "[encoded data removed]",
            "text/plain": [
              "<Figure size 800x800 with 9 Axes>"
            ]
          },
          "metadata": {},
          "output_type": "display_data"
        }
      ],
      "source": [
        "expression = 'neutral'\n",
        "show_images(folder_path, expression)"
      ]
    },
    {
      "cell_type": "markdown",
      "metadata": {
        "id": "AjvfkXFE70Wa"
      },
      "source": [
        "**Observations and Insights:__**"
      ]
    },
    {
      "cell_type": "markdown",
      "metadata": {
        "id": "avUJfLm08cgt"
      },
      "source": [
        "### **Surprised**"
      ]
    },
    {
      "cell_type": "code",
      "execution_count": 23,
      "metadata": {
        "id": "tDrkuxNm8mWE"
      },
      "outputs": [
        {
          "data": {
            "image/png": "[encoded data removed]",
            "text/plain": [
              "<Figure size 800x800 with 9 Axes>"
            ]
          },
          "metadata": {},
          "output_type": "display_data"
        }
      ],
      "source": [
        "expression = 'surprise'\n",
        "show_images(folder_path, expression)"
      ]
    },
    {
      "cell_type": "markdown",
      "metadata": {
        "id": "RTnBsUNH_djf"
      },
      "source": [
        "**Observations and Insights:__**"
      ]
    },
    {
      "cell_type": "markdown",
      "metadata": {
        "id": "ZZMfyOH4-YSp"
      },
      "source": [
        "## **Checking Distribution of Classes**"
      ]
    },
    {
      "cell_type": "code",
      "execution_count": 197,
      "metadata": {
        "id": "m7rCOsTl-HbZ"
      },
      "outputs": [
        {
          "name": "stdout",
          "output_type": "stream",
          "text": [
            "['happy', 'neutral', 'sad', 'surprise']\n"
          ]
        }
      ],
      "source": [
        "expressions_train = list(os.listdir(folder_path + \"train\"))\n",
        "print(expressions_train)"
      ]
    },
    {
      "cell_type": "code",
      "execution_count": 30,
      "metadata": {},
      "outputs": [
        {
          "name": "stdout",
          "output_type": "stream",
          "text": [
            "['happy', 'neutral', 'sad', 'surprise']\n"
          ]
        }
      ],
      "source": [
        "expressions_test = list(os.listdir(folder_path + \"test\"))\n",
        "print(expressions_train)"
      ]
    },
    {
      "cell_type": "code",
      "execution_count": 40,
      "metadata": {},
      "outputs": [],
      "source": [
        "def count_expression_data(folder_path, expressions):\n",
        "    expression_count = {}\n",
        "    for expression in expressions:\n",
        "        expression_count[expression] = len(os.listdir(folder_path + expression))\n",
        "    return expression_count"
      ]
    },
    {
      "cell_type": "code",
      "execution_count": 41,
      "metadata": {},
      "outputs": [
        {
          "name": "stdout",
          "output_type": "stream",
          "text": [
            "{'happy': 3976, 'neutral': 3978, 'sad': 3982, 'surprise': 3173}\n"
          ]
        }
      ],
      "source": [
        "expression_train_data = count_expression_data(folder_path + \"train/\", expressions_train)\n",
        "print(expression_train_data)"
      ]
    },
    {
      "cell_type": "code",
      "execution_count": 42,
      "metadata": {},
      "outputs": [
        {
          "name": "stdout",
          "output_type": "stream",
          "text": [
            "{'happy': 32, 'neutral': 32, 'sad': 32, 'surprise': 32}\n"
          ]
        }
      ],
      "source": [
        "expression_test_data = count_expression_data(folder_path + \"test/\", expressions_train)\n",
        "print(expression_test_data)"
      ]
    },
    {
      "cell_type": "code",
      "execution_count": 43,
      "metadata": {},
      "outputs": [
        {
          "name": "stdout",
          "output_type": "stream",
          "text": [
            "{'happy': 1825, 'neutral': 1216, 'sad': 1139, 'surprise': 797}\n"
          ]
        }
      ],
      "source": [
        "expression_validation_data = count_expression_data(folder_path + \"validation/\", expressions_train)\n",
        "print(expression_validation_data)"
      ]
    },
    {
      "cell_type": "code",
      "execution_count": 44,
      "metadata": {},
      "outputs": [
        {
          "data": {
            "image/png": "[encoded data removed]",
            "text/plain": [
              "<Figure size 640x480 with 1 Axes>"
            ]
          },
          "metadata": {},
          "output_type": "display_data"
        }
      ],
      "source": [
        "df = pd.Series(expression_train_data)\n",
        "plt.bar(range(len(df)), df.values, align = 'center')\n",
        "plt.xticks(range(len(df)), df.index.values, size = 'small')\n",
        "plt.show()"
      ]
    },
    {
      "cell_type": "markdown",
      "metadata": {
        "id": "reZRpnmv8qPL"
      },
      "source": [
        "**Observations and Insights:__**"
      ]
    },
    {
      "cell_type": "markdown",
      "metadata": {
        "id": "mfJnIxXC80uZ"
      },
      "source": [
        "**Think About It:** \n",
        "* Are the classes equally distributed? If not, do you think the imbalance is too high? Will it be a problem as we progress?\n",
        "* Are there any Exploratory Data Analysis tasks that we can do here? Would they provide any meaningful insights?"
      ]
    },
    {
      "cell_type": "markdown",
      "metadata": {
        "id": "J7NKTPgdEsgt"
      },
      "source": [
        "## **Creating our Data Loaders**\n",
        "\n",
        "In this section, we are creating data loaders that we will use as inputs to our Neural Network.\n",
        "\n",
        "**You have two options for the color_mode. You can set it to color_mode = 'rgb' or color_mode = 'grayscale'. You will need to try out both and see for yourself which one gives better performance.**"
      ]
    },
    {
      "cell_type": "code",
      "execution_count": 101,
      "metadata": {},
      "outputs": [
        {
          "name": "stdout",
          "output_type": "stream",
          "text": [
            "WARNING:tensorflow:From c:\\Users\\amit_\\anaconda3\\Lib\\site-packages\\keras\\src\\backend\\common\\global_state.py:82: The name tf.reset_default_graph is deprecated. Please use tf.compat.v1.reset_default_graph instead.\n",
            "\n"
          ]
        }
      ],
      "source": [
        "tf.keras.backend.clear_session()"
      ]
    },
    {
      "cell_type": "code",
      "execution_count": 102,
      "metadata": {},
      "outputs": [],
      "source": [
        "np.random.seed(42)\n",
        "import random\n",
        "random.seed(20)\n",
        "tf.random.set_seed(20)"
      ]
    },
    {
      "cell_type": "code",
      "execution_count": 103,
      "metadata": {},
      "outputs": [],
      "source": [
        "def get_data_set(folder_path, mode, batch_size, img_size):\n",
        "    image_data = tf_utils.image_dataset_from_directory(folder_path,\n",
        "                                       image_size = (img_size, img_size),\n",
        "                                       color_mode = mode,\n",
        "                                       batch_size = batch_size,\n",
        "                                       label_mode = 'categorical',\n",
        "                                       shuffle = True)\n",
        "    \n",
        "    return image_data"
      ]
    },
    {
      "cell_type": "code",
      "execution_count": 289,
      "metadata": {},
      "outputs": [],
      "source": [
        "data_labels = ['happy', 'neutral', 'sad', 'surprise']"
      ]
    },
    {
      "cell_type": "code",
      "execution_count": 165,
      "metadata": {},
      "outputs": [],
      "source": [
        "def show_image_data_set(image_data_set: tf.data.Dataset):\n",
        "    total_count = 0\n",
        "    for img_batch, label_batch in image_data_set:\n",
        "        print(img_batch.shape)\n",
        "        print(label_batch.shape)\n",
        "        total_count += img_batch.shape[0]\n",
        "    print(\"Total entry count: \", total_count)"
      ]
    },
    {
      "cell_type": "code",
      "execution_count": 211,
      "metadata": {},
      "outputs": [],
      "source": [
        "def show_tf_dataset_image(image_data, encode_label=None):\n",
        "    expressions = ['happy', 'neutral', 'sad', 'surprise']\n",
        "    plt.figure(figsize = (4, 4))\n",
        "    plt.imshow(image_data.numpy().astype(\"uint8\"), cmap = \"gray\")\n",
        "    plt.title(expressions[int(np.argmax(encode_label))])\n",
        "    plt.show()"
      ]
    },
    {
      "cell_type": "code",
      "execution_count": 104,
      "metadata": {},
      "outputs": [
        {
          "name": "stdout",
          "output_type": "stream",
          "text": [
            "Found 15109 files belonging to 4 classes.\n",
            "<_PrefetchDataset element_spec=(TensorSpec(shape=(None, 48, 48, 1), dtype=tf.float32, name=None), TensorSpec(shape=(None, 4), dtype=tf.float32, name=None))>\n"
          ]
        }
      ],
      "source": [
        "training_data = get_data_set(folder_path + \"train/\", 'grayscale', 32, 48)\n",
        "print(training_data)"
      ]
    },
    {
      "cell_type": "code",
      "execution_count": null,
      "metadata": {},
      "outputs": [],
      "source": [
        "show_image_data_set(training_data)"
      ]
    },
    {
      "cell_type": "code",
      "execution_count": 141,
      "metadata": {},
      "outputs": [
        {
          "data": {
            "text/plain": [
              "['happy', 'neutral', 'sad', 'surprise']"
            ]
          },
          "execution_count": 141,
          "metadata": {},
          "output_type": "execute_result"
        }
      ],
      "source": [
        "training_data.class_names"
      ]
    },
    {
      "cell_type": "code",
      "execution_count": 105,
      "metadata": {},
      "outputs": [
        {
          "name": "stdout",
          "output_type": "stream",
          "text": [
            "Found 4977 files belonging to 4 classes.\n"
          ]
        }
      ],
      "source": [
        "validation_data = get_data_set(folder_path + \"validation/\", 'grayscale', 32, 48)"
      ]
    },
    {
      "cell_type": "code",
      "execution_count": 142,
      "metadata": {},
      "outputs": [
        {
          "data": {
            "text/plain": [
              "['happy', 'neutral', 'sad', 'surprise']"
            ]
          },
          "execution_count": 142,
          "metadata": {},
          "output_type": "execute_result"
        }
      ],
      "source": [
        "validation_data.class_names"
      ]
    },
    {
      "cell_type": "code",
      "execution_count": 106,
      "metadata": {},
      "outputs": [
        {
          "name": "stdout",
          "output_type": "stream",
          "text": [
            "Found 128 files belonging to 4 classes.\n"
          ]
        }
      ],
      "source": [
        "testing_data = get_data_set(folder_path + \"test/\", 'grayscale', 32, 48)"
      ]
    },
    {
      "cell_type": "code",
      "execution_count": 151,
      "metadata": {},
      "outputs": [
        {
          "name": "stdout",
          "output_type": "stream",
          "text": [
            "<_PrefetchDataset element_spec=(TensorSpec(shape=(None, 48, 48, 1), dtype=tf.float32, name=None), TensorSpec(shape=(None, 4), dtype=tf.float32, name=None))>\n"
          ]
        }
      ],
      "source": [
        "print(testing_data)"
      ]
    },
    {
      "cell_type": "code",
      "execution_count": 225,
      "metadata": {},
      "outputs": [
        {
          "name": "stdout",
          "output_type": "stream",
          "text": [
            "[0 1 1 0 1 1 2 0 0 2 0 2 1 0 0 3 3 2 0 0 2 1 2 1 2 2 3 2 1 2 0 0 0 3 3 3 1\n",
            " 1 1 2 2 0 1 3 3 1 2 1 2 2 1 3 1 2 3 3 2 0 3 3 2 1 3 3 0 3 2 0 0 3 0 2 3 1\n",
            " 1 0 2 1 1 0 1 3 0 0 0 1 3 3 0 0 1 1 2 3 2 3 2 2 2 3 0 0 0 3 3 1 2 0 3 2 3\n",
            " 0 1 1 2 2 1 3 1 3 0 1 3 2 0 2 1 3]\n"
          ]
        },
        {
          "data": {
            "text/plain": [
              "(128,)"
            ]
          },
          "execution_count": 225,
          "metadata": {},
          "output_type": "execute_result"
        }
      ],
      "source": [
        "testing_label_decoded = np.zeros((128,), dtype='int32')\n",
        "iter = 0\n",
        "for image_batch, label_batch in testing_data:\n",
        "    for label in label_batch:\n",
        "        testing_label_decoded[iter] = np.argmax(label)\n",
        "        iter += 1\n",
        "\n",
        "print(testing_label_decoded)\n",
        "testing_label_decoded.shape"
      ]
    },
    {
      "cell_type": "code",
      "execution_count": 220,
      "metadata": {},
      "outputs": [
        {
          "data": {
            "image/png": "[encoded data removed]",
            "text/plain": [
              "<Figure size 400x400 with 1 Axes>"
            ]
          },
          "metadata": {},
          "output_type": "display_data"
        },
        {
          "data": {
            "image/png": "[encoded data removed]",
            "text/plain": [
              "<Figure size 400x400 with 1 Axes>"
            ]
          },
          "metadata": {},
          "output_type": "display_data"
        },
        {
          "data": {
            "image/png": "[encoded data removed]",
            "text/plain": [
              "<Figure size 400x400 with 1 Axes>"
            ]
          },
          "metadata": {},
          "output_type": "display_data"
        },
        {
          "data": {
            "image/png": "[encoded data removed]",
            "text/plain": [
              "<Figure size 400x400 with 1 Axes>"
            ]
          },
          "metadata": {},
          "output_type": "display_data"
        },
        {
          "data": {
            "image/png": "[encoded data removed]",
            "text/plain": [
              "<Figure size 400x400 with 1 Axes>"
            ]
          },
          "metadata": {},
          "output_type": "display_data"
        },
        {
          "data": {
            "image/png": "[encoded data removed]",
            "text/plain": [
              "<Figure size 400x400 with 1 Axes>"
            ]
          },
          "metadata": {},
          "output_type": "display_data"
        },
        {
          "data": {
            "image/png": "[encoded data removed]",
            "text/plain": [
              "<Figure size 400x400 with 1 Axes>"
            ]
          },
          "metadata": {},
          "output_type": "display_data"
        },
        {
          "data": {
            "image/png": "[encoded data removed]",
            "text/plain": [
              "<Figure size 400x400 with 1 Axes>"
            ]
          },
          "metadata": {},
          "output_type": "display_data"
        },
        {
          "data": {
            "image/png": "[encoded data removed]",
            "text/plain": [
              "<Figure size 400x400 with 1 Axes>"
            ]
          },
          "metadata": {},
          "output_type": "display_data"
        },
        {
          "name": "stdout",
          "output_type": "stream",
          "text": [
            "1\n"
          ]
        }
      ],
      "source": [
        "ran_count = 0\n",
        "for images, labels in training_data.take(1):\n",
        "    for i in range(9):\n",
        "        show_tf_dataset_image(images[i], labels[i])\n",
        "    ran_count += 1\n",
        "    break;\n",
        "\n",
        "print(ran_count)"
      ]
    },
    {
      "cell_type": "markdown",
      "metadata": {
        "id": "_qGpQC3q1avy"
      },
      "source": [
        "## **Model Building**"
      ]
    },
    {
      "cell_type": "markdown",
      "metadata": {
        "id": "OSl8GqRdAcGq"
      },
      "source": [
        "**Think About It:**\n",
        "* Are Convolutional Neural Networks the right approach? Should we have gone with Artificial Neural Networks instead? \n",
        "* What are the advantages of CNNs over ANNs and are they applicable here?"
      ]
    },
    {
      "cell_type": "markdown",
      "metadata": {
        "id": "0feec0a7"
      },
      "source": [
        "### **Creating the Base Neural Network**"
      ]
    },
    {
      "cell_type": "code",
      "execution_count": 107,
      "metadata": {
        "id": "151077af"
      },
      "outputs": [
        {
          "name": "stderr",
          "output_type": "stream",
          "text": [
            "c:\\Users\\amit_\\anaconda3\\Lib\\site-packages\\keras\\src\\layers\\convolutional\\base_conv.py:107: UserWarning: Do not pass an `input_shape`/`input_dim` argument to a layer. When using Sequential models, prefer using an `Input(shape)` object as the first layer in the model instead.\n",
            "  super().__init__(activity_regularizer=activity_regularizer, **kwargs)\n"
          ]
        },
        {
          "data": {
            "text/html": [
              "<pre style=\"white-space:pre;overflow-x:auto;line-height:normal;font-family:Menlo,'DejaVu Sans Mono',consolas,'Courier New',monospace\"><span style=\"font-weight: bold\">Model: \"sequential\"</span>\n",
              "</pre>\n"
            ],
            "text/plain": [
              "\u001b[1mModel: \"sequential\"\u001b[0m\n"
            ]
          },
          "metadata": {},
          "output_type": "display_data"
        },
        {
          "data": {
            "text/html": [
              "<pre style=\"white-space:pre;overflow-x:auto;line-height:normal;font-family:Menlo,'DejaVu Sans Mono',consolas,'Courier New',monospace\">┏━━━━━━━━━━━━━━━━━━━━━━━━━━━━━━━━━┳━━━━━━━━━━━━━━━━━━━━━━━━┳━━━━━━━━━━━━━━━┓\n",
              "┃<span style=\"font-weight: bold\"> Layer (type)                    </span>┃<span style=\"font-weight: bold\"> Output Shape           </span>┃<span style=\"font-weight: bold\">       Param # </span>┃\n",
              "┡━━━━━━━━━━━━━━━━━━━━━━━━━━━━━━━━━╇━━━━━━━━━━━━━━━━━━━━━━━━╇━━━━━━━━━━━━━━━┩\n",
              "│ conv2d (<span style=\"color: #0087ff; text-decoration-color: #0087ff\">Conv2D</span>)                 │ (<span style=\"color: #00d7ff; text-decoration-color: #00d7ff\">None</span>, <span style=\"color: #00af00; text-decoration-color: #00af00\">48</span>, <span style=\"color: #00af00; text-decoration-color: #00af00\">48</span>, <span style=\"color: #00af00; text-decoration-color: #00af00\">64</span>)     │           <span style=\"color: #00af00; text-decoration-color: #00af00\">320</span> │\n",
              "├─────────────────────────────────┼────────────────────────┼───────────────┤\n",
              "│ max_pooling2d (<span style=\"color: #0087ff; text-decoration-color: #0087ff\">MaxPooling2D</span>)    │ (<span style=\"color: #00d7ff; text-decoration-color: #00d7ff\">None</span>, <span style=\"color: #00af00; text-decoration-color: #00af00\">24</span>, <span style=\"color: #00af00; text-decoration-color: #00af00\">24</span>, <span style=\"color: #00af00; text-decoration-color: #00af00\">64</span>)     │             <span style=\"color: #00af00; text-decoration-color: #00af00\">0</span> │\n",
              "├─────────────────────────────────┼────────────────────────┼───────────────┤\n",
              "│ dropout (<span style=\"color: #0087ff; text-decoration-color: #0087ff\">Dropout</span>)               │ (<span style=\"color: #00d7ff; text-decoration-color: #00d7ff\">None</span>, <span style=\"color: #00af00; text-decoration-color: #00af00\">24</span>, <span style=\"color: #00af00; text-decoration-color: #00af00\">24</span>, <span style=\"color: #00af00; text-decoration-color: #00af00\">64</span>)     │             <span style=\"color: #00af00; text-decoration-color: #00af00\">0</span> │\n",
              "├─────────────────────────────────┼────────────────────────┼───────────────┤\n",
              "│ conv2d_1 (<span style=\"color: #0087ff; text-decoration-color: #0087ff\">Conv2D</span>)               │ (<span style=\"color: #00d7ff; text-decoration-color: #00d7ff\">None</span>, <span style=\"color: #00af00; text-decoration-color: #00af00\">24</span>, <span style=\"color: #00af00; text-decoration-color: #00af00\">24</span>, <span style=\"color: #00af00; text-decoration-color: #00af00\">32</span>)     │         <span style=\"color: #00af00; text-decoration-color: #00af00\">8,224</span> │\n",
              "├─────────────────────────────────┼────────────────────────┼───────────────┤\n",
              "│ max_pooling2d_1 (<span style=\"color: #0087ff; text-decoration-color: #0087ff\">MaxPooling2D</span>)  │ (<span style=\"color: #00d7ff; text-decoration-color: #00d7ff\">None</span>, <span style=\"color: #00af00; text-decoration-color: #00af00\">12</span>, <span style=\"color: #00af00; text-decoration-color: #00af00\">12</span>, <span style=\"color: #00af00; text-decoration-color: #00af00\">32</span>)     │             <span style=\"color: #00af00; text-decoration-color: #00af00\">0</span> │\n",
              "├─────────────────────────────────┼────────────────────────┼───────────────┤\n",
              "│ dropout_1 (<span style=\"color: #0087ff; text-decoration-color: #0087ff\">Dropout</span>)             │ (<span style=\"color: #00d7ff; text-decoration-color: #00d7ff\">None</span>, <span style=\"color: #00af00; text-decoration-color: #00af00\">12</span>, <span style=\"color: #00af00; text-decoration-color: #00af00\">12</span>, <span style=\"color: #00af00; text-decoration-color: #00af00\">32</span>)     │             <span style=\"color: #00af00; text-decoration-color: #00af00\">0</span> │\n",
              "├─────────────────────────────────┼────────────────────────┼───────────────┤\n",
              "│ conv2d_2 (<span style=\"color: #0087ff; text-decoration-color: #0087ff\">Conv2D</span>)               │ (<span style=\"color: #00d7ff; text-decoration-color: #00d7ff\">None</span>, <span style=\"color: #00af00; text-decoration-color: #00af00\">12</span>, <span style=\"color: #00af00; text-decoration-color: #00af00\">12</span>, <span style=\"color: #00af00; text-decoration-color: #00af00\">32</span>)     │         <span style=\"color: #00af00; text-decoration-color: #00af00\">4,128</span> │\n",
              "├─────────────────────────────────┼────────────────────────┼───────────────┤\n",
              "│ max_pooling2d_2 (<span style=\"color: #0087ff; text-decoration-color: #0087ff\">MaxPooling2D</span>)  │ (<span style=\"color: #00d7ff; text-decoration-color: #00d7ff\">None</span>, <span style=\"color: #00af00; text-decoration-color: #00af00\">6</span>, <span style=\"color: #00af00; text-decoration-color: #00af00\">6</span>, <span style=\"color: #00af00; text-decoration-color: #00af00\">32</span>)       │             <span style=\"color: #00af00; text-decoration-color: #00af00\">0</span> │\n",
              "├─────────────────────────────────┼────────────────────────┼───────────────┤\n",
              "│ dropout_2 (<span style=\"color: #0087ff; text-decoration-color: #0087ff\">Dropout</span>)             │ (<span style=\"color: #00d7ff; text-decoration-color: #00d7ff\">None</span>, <span style=\"color: #00af00; text-decoration-color: #00af00\">6</span>, <span style=\"color: #00af00; text-decoration-color: #00af00\">6</span>, <span style=\"color: #00af00; text-decoration-color: #00af00\">32</span>)       │             <span style=\"color: #00af00; text-decoration-color: #00af00\">0</span> │\n",
              "├─────────────────────────────────┼────────────────────────┼───────────────┤\n",
              "│ flatten (<span style=\"color: #0087ff; text-decoration-color: #0087ff\">Flatten</span>)               │ (<span style=\"color: #00d7ff; text-decoration-color: #00d7ff\">None</span>, <span style=\"color: #00af00; text-decoration-color: #00af00\">1152</span>)           │             <span style=\"color: #00af00; text-decoration-color: #00af00\">0</span> │\n",
              "├─────────────────────────────────┼────────────────────────┼───────────────┤\n",
              "│ dense (<span style=\"color: #0087ff; text-decoration-color: #0087ff\">Dense</span>)                   │ (<span style=\"color: #00d7ff; text-decoration-color: #00d7ff\">None</span>, <span style=\"color: #00af00; text-decoration-color: #00af00\">512</span>)            │       <span style=\"color: #00af00; text-decoration-color: #00af00\">590,336</span> │\n",
              "├─────────────────────────────────┼────────────────────────┼───────────────┤\n",
              "│ dropout_3 (<span style=\"color: #0087ff; text-decoration-color: #0087ff\">Dropout</span>)             │ (<span style=\"color: #00d7ff; text-decoration-color: #00d7ff\">None</span>, <span style=\"color: #00af00; text-decoration-color: #00af00\">512</span>)            │             <span style=\"color: #00af00; text-decoration-color: #00af00\">0</span> │\n",
              "├─────────────────────────────────┼────────────────────────┼───────────────┤\n",
              "│ dense_1 (<span style=\"color: #0087ff; text-decoration-color: #0087ff\">Dense</span>)                 │ (<span style=\"color: #00d7ff; text-decoration-color: #00d7ff\">None</span>, <span style=\"color: #00af00; text-decoration-color: #00af00\">4</span>)              │         <span style=\"color: #00af00; text-decoration-color: #00af00\">2,052</span> │\n",
              "└─────────────────────────────────┴────────────────────────┴───────────────┘\n",
              "</pre>\n"
            ],
            "text/plain": [
              "┏━━━━━━━━━━━━━━━━━━━━━━━━━━━━━━━━━┳━━━━━━━━━━━━━━━━━━━━━━━━┳━━━━━━━━━━━━━━━┓\n",
              "┃\u001b[1m \u001b[0m\u001b[1mLayer (type)                   \u001b[0m\u001b[1m \u001b[0m┃\u001b[1m \u001b[0m\u001b[1mOutput Shape          \u001b[0m\u001b[1m \u001b[0m┃\u001b[1m \u001b[0m\u001b[1m      Param #\u001b[0m\u001b[1m \u001b[0m┃\n",
              "┡━━━━━━━━━━━━━━━━━━━━━━━━━━━━━━━━━╇━━━━━━━━━━━━━━━━━━━━━━━━╇━━━━━━━━━━━━━━━┩\n",
              "│ conv2d (\u001b[38;5;33mConv2D\u001b[0m)                 │ (\u001b[38;5;45mNone\u001b[0m, \u001b[38;5;34m48\u001b[0m, \u001b[38;5;34m48\u001b[0m, \u001b[38;5;34m64\u001b[0m)     │           \u001b[38;5;34m320\u001b[0m │\n",
              "├─────────────────────────────────┼────────────────────────┼───────────────┤\n",
              "│ max_pooling2d (\u001b[38;5;33mMaxPooling2D\u001b[0m)    │ (\u001b[38;5;45mNone\u001b[0m, \u001b[38;5;34m24\u001b[0m, \u001b[38;5;34m24\u001b[0m, \u001b[38;5;34m64\u001b[0m)     │             \u001b[38;5;34m0\u001b[0m │\n",
              "├─────────────────────────────────┼────────────────────────┼───────────────┤\n",
              "│ dropout (\u001b[38;5;33mDropout\u001b[0m)               │ (\u001b[38;5;45mNone\u001b[0m, \u001b[38;5;34m24\u001b[0m, \u001b[38;5;34m24\u001b[0m, \u001b[38;5;34m64\u001b[0m)     │             \u001b[38;5;34m0\u001b[0m │\n",
              "├─────────────────────────────────┼────────────────────────┼───────────────┤\n",
              "│ conv2d_1 (\u001b[38;5;33mConv2D\u001b[0m)               │ (\u001b[38;5;45mNone\u001b[0m, \u001b[38;5;34m24\u001b[0m, \u001b[38;5;34m24\u001b[0m, \u001b[38;5;34m32\u001b[0m)     │         \u001b[38;5;34m8,224\u001b[0m │\n",
              "├─────────────────────────────────┼────────────────────────┼───────────────┤\n",
              "│ max_pooling2d_1 (\u001b[38;5;33mMaxPooling2D\u001b[0m)  │ (\u001b[38;5;45mNone\u001b[0m, \u001b[38;5;34m12\u001b[0m, \u001b[38;5;34m12\u001b[0m, \u001b[38;5;34m32\u001b[0m)     │             \u001b[38;5;34m0\u001b[0m │\n",
              "├─────────────────────────────────┼────────────────────────┼───────────────┤\n",
              "│ dropout_1 (\u001b[38;5;33mDropout\u001b[0m)             │ (\u001b[38;5;45mNone\u001b[0m, \u001b[38;5;34m12\u001b[0m, \u001b[38;5;34m12\u001b[0m, \u001b[38;5;34m32\u001b[0m)     │             \u001b[38;5;34m0\u001b[0m │\n",
              "├─────────────────────────────────┼────────────────────────┼───────────────┤\n",
              "│ conv2d_2 (\u001b[38;5;33mConv2D\u001b[0m)               │ (\u001b[38;5;45mNone\u001b[0m, \u001b[38;5;34m12\u001b[0m, \u001b[38;5;34m12\u001b[0m, \u001b[38;5;34m32\u001b[0m)     │         \u001b[38;5;34m4,128\u001b[0m │\n",
              "├─────────────────────────────────┼────────────────────────┼───────────────┤\n",
              "│ max_pooling2d_2 (\u001b[38;5;33mMaxPooling2D\u001b[0m)  │ (\u001b[38;5;45mNone\u001b[0m, \u001b[38;5;34m6\u001b[0m, \u001b[38;5;34m6\u001b[0m, \u001b[38;5;34m32\u001b[0m)       │             \u001b[38;5;34m0\u001b[0m │\n",
              "├─────────────────────────────────┼────────────────────────┼───────────────┤\n",
              "│ dropout_2 (\u001b[38;5;33mDropout\u001b[0m)             │ (\u001b[38;5;45mNone\u001b[0m, \u001b[38;5;34m6\u001b[0m, \u001b[38;5;34m6\u001b[0m, \u001b[38;5;34m32\u001b[0m)       │             \u001b[38;5;34m0\u001b[0m │\n",
              "├─────────────────────────────────┼────────────────────────┼───────────────┤\n",
              "│ flatten (\u001b[38;5;33mFlatten\u001b[0m)               │ (\u001b[38;5;45mNone\u001b[0m, \u001b[38;5;34m1152\u001b[0m)           │             \u001b[38;5;34m0\u001b[0m │\n",
              "├─────────────────────────────────┼────────────────────────┼───────────────┤\n",
              "│ dense (\u001b[38;5;33mDense\u001b[0m)                   │ (\u001b[38;5;45mNone\u001b[0m, \u001b[38;5;34m512\u001b[0m)            │       \u001b[38;5;34m590,336\u001b[0m │\n",
              "├─────────────────────────────────┼────────────────────────┼───────────────┤\n",
              "│ dropout_3 (\u001b[38;5;33mDropout\u001b[0m)             │ (\u001b[38;5;45mNone\u001b[0m, \u001b[38;5;34m512\u001b[0m)            │             \u001b[38;5;34m0\u001b[0m │\n",
              "├─────────────────────────────────┼────────────────────────┼───────────────┤\n",
              "│ dense_1 (\u001b[38;5;33mDense\u001b[0m)                 │ (\u001b[38;5;45mNone\u001b[0m, \u001b[38;5;34m4\u001b[0m)              │         \u001b[38;5;34m2,052\u001b[0m │\n",
              "└─────────────────────────────────┴────────────────────────┴───────────────┘\n"
            ]
          },
          "metadata": {},
          "output_type": "display_data"
        },
        {
          "data": {
            "text/html": [
              "<pre style=\"white-space:pre;overflow-x:auto;line-height:normal;font-family:Menlo,'DejaVu Sans Mono',consolas,'Courier New',monospace\"><span style=\"font-weight: bold\"> Total params: </span><span style=\"color: #00af00; text-decoration-color: #00af00\">605,060</span> (2.31 MB)\n",
              "</pre>\n"
            ],
            "text/plain": [
              "\u001b[1m Total params: \u001b[0m\u001b[38;5;34m605,060\u001b[0m (2.31 MB)\n"
            ]
          },
          "metadata": {},
          "output_type": "display_data"
        },
        {
          "data": {
            "text/html": [
              "<pre style=\"white-space:pre;overflow-x:auto;line-height:normal;font-family:Menlo,'DejaVu Sans Mono',consolas,'Courier New',monospace\"><span style=\"font-weight: bold\"> Trainable params: </span><span style=\"color: #00af00; text-decoration-color: #00af00\">605,060</span> (2.31 MB)\n",
              "</pre>\n"
            ],
            "text/plain": [
              "\u001b[1m Trainable params: \u001b[0m\u001b[38;5;34m605,060\u001b[0m (2.31 MB)\n"
            ]
          },
          "metadata": {},
          "output_type": "display_data"
        },
        {
          "data": {
            "text/html": [
              "<pre style=\"white-space:pre;overflow-x:auto;line-height:normal;font-family:Menlo,'DejaVu Sans Mono',consolas,'Courier New',monospace\"><span style=\"font-weight: bold\"> Non-trainable params: </span><span style=\"color: #00af00; text-decoration-color: #00af00\">0</span> (0.00 B)\n",
              "</pre>\n"
            ],
            "text/plain": [
              "\u001b[1m Non-trainable params: \u001b[0m\u001b[38;5;34m0\u001b[0m (0.00 B)\n"
            ]
          },
          "metadata": {},
          "output_type": "display_data"
        }
      ],
      "source": [
        "# Initializing a Sequential Model\n",
        "model = Sequential()\n",
        "\n",
        "# Add the first Convolutional block\n",
        "model.add(Conv2D(filters = 64, kernel_size = (2, 2), padding = \"same\", input_shape = (48, 48, 1), activation='relu'))\n",
        "model.add(MaxPooling2D(pool_size = (2, 2)))\n",
        "model.add(Dropout(0.2))\n",
        "\n",
        "# Add the second Convolutional block\n",
        "model.add(Conv2D(filters = 32, kernel_size = (2, 2), padding = \"same\", input_shape = (48, 48, 1), activation='relu'))\n",
        "model.add(MaxPooling2D(pool_size = (2, 2)))\n",
        "model.add(Dropout(0.2))\n",
        "\n",
        "# Add the third Convolutional block\n",
        "model.add(Conv2D(filters = 32, kernel_size = (2, 2), padding = \"same\", input_shape = (48, 48, 1), activation='relu'))\n",
        "model.add(MaxPooling2D(pool_size = (2, 2)))\n",
        "model.add(Dropout(0.2))\n",
        "\n",
        "# Add the Flatten layer\n",
        "model.add(Flatten())\n",
        "\n",
        "# Add the first Dense layer\n",
        "model.add(Dense(512, activation='relu'))\n",
        "model.add(Dropout(0.4))\n",
        "\n",
        "# Add the Final layer\n",
        "model.add(Dense(4, activation='softmax'))\n",
        "model.summary()"
      ]
    },
    {
      "cell_type": "markdown",
      "metadata": {
        "id": "vgOwCHZxqAlG"
      },
      "source": [
        "### **Compiling and Training the Model**"
      ]
    },
    {
      "cell_type": "code",
      "execution_count": null,
      "metadata": {},
      "outputs": [],
      "source": [
        "model.compile(optimizer = Adam(learning_rate = 0.001), loss = 'categorical_crossentropy', metrics = ['accuracy'])"
      ]
    },
    {
      "cell_type": "code",
      "execution_count": null,
      "metadata": {},
      "outputs": [],
      "source": [
        "from keras.callbacks import ModelCheckpoint, EarlyStopping, ReduceLROnPlateau\n",
        "model_file = os.path.abspath(out_directory + \"/model_1_epoch_{epoch}max_accuracy.keras\")\n",
        "max_accuracy = ModelCheckpoint( model_file,\n",
        "                                monitor='val_accuracy',\n",
        "                                verbose=1,\n",
        "                                save_best_only=True,\n",
        "                                mode='max')\n",
        "\n",
        "early_stopping = EarlyStopping( monitor = 'val_loss',\n",
        "                                min_delta = 0,\n",
        "                                patience = 3,\n",
        "                                verbose = 1,\n",
        "                                restore_best_weights = True)\n",
        "\n",
        "reduce_learningrate = ReduceLROnPlateau(monitor = 'val_loss',\n",
        "                                        factor = 0.2,\n",
        "                                        patience = 3,\n",
        "                                        verbose = 1,\n",
        "                                        min_delta = 0.0001)\n",
        "\n",
        "callbacks_list = [early_stopping, max_accuracy, reduce_learningrate]"
      ]
    },
    {
      "cell_type": "code",
      "execution_count": 132,
      "metadata": {},
      "outputs": [
        {
          "name": "stdout",
          "output_type": "stream",
          "text": [
            "Epoch 1/20\n",
            "\u001b[1m473/473\u001b[0m \u001b[32m━━━━━━━━━━━━━━━━━━━━\u001b[0m\u001b[37m\u001b[0m \u001b[1m0s\u001b[0m 44ms/step - accuracy: 0.4375 - loss: 1.2408\n",
            "Epoch 1: val_accuracy improved from -inf to 0.50171, saving model to D:\\GitHub\\amitprakash07\\snowflake\\temp\\sandbox\\Facial_emotion_images\\model_1_epoch_1max_accuracy.keras\n",
            "\u001b[1m473/473\u001b[0m \u001b[32m━━━━━━━━━━━━━━━━━━━━\u001b[0m\u001b[37m\u001b[0m \u001b[1m35s\u001b[0m 51ms/step - accuracy: 0.4375 - loss: 1.2407 - val_accuracy: 0.5017 - val_loss: 1.1634 - learning_rate: 0.0010\n",
            "Epoch 2/20\n",
            "\u001b[1m472/473\u001b[0m \u001b[32m━━━━━━━━━━━━━━━━━━━\u001b[0m\u001b[37m━\u001b[0m \u001b[1m0s\u001b[0m 44ms/step - accuracy: 0.4818 - loss: 1.1807\n",
            "Epoch 2: val_accuracy improved from 0.50171 to 0.52763, saving model to D:\\GitHub\\amitprakash07\\snowflake\\temp\\sandbox\\Facial_emotion_images\\model_1_epoch_2max_accuracy.keras\n",
            "\u001b[1m473/473\u001b[0m \u001b[32m━━━━━━━━━━━━━━━━━━━━\u001b[0m\u001b[37m\u001b[0m \u001b[1m23s\u001b[0m 49ms/step - accuracy: 0.4818 - loss: 1.1806 - val_accuracy: 0.5276 - val_loss: 1.1109 - learning_rate: 0.0010\n",
            "Epoch 3/20\n",
            "\u001b[1m473/473\u001b[0m \u001b[32m━━━━━━━━━━━━━━━━━━━━\u001b[0m\u001b[37m\u001b[0m \u001b[1m0s\u001b[0m 44ms/step - accuracy: 0.5158 - loss: 1.1116\n",
            "Epoch 3: val_accuracy improved from 0.52763 to 0.57685, saving model to D:\\GitHub\\amitprakash07\\snowflake\\temp\\sandbox\\Facial_emotion_images\\model_1_epoch_3max_accuracy.keras\n",
            "\u001b[1m473/473\u001b[0m \u001b[32m━━━━━━━━━━━━━━━━━━━━\u001b[0m\u001b[37m\u001b[0m \u001b[1m23s\u001b[0m 49ms/step - accuracy: 0.5158 - loss: 1.1116 - val_accuracy: 0.5769 - val_loss: 1.0057 - learning_rate: 0.0010\n",
            "Epoch 4/20\n",
            "\u001b[1m473/473\u001b[0m \u001b[32m━━━━━━━━━━━━━━━━━━━━\u001b[0m\u001b[37m\u001b[0m \u001b[1m0s\u001b[0m 44ms/step - accuracy: 0.5312 - loss: 1.0832\n",
            "Epoch 4: val_accuracy improved from 0.57685 to 0.59574, saving model to D:\\GitHub\\amitprakash07\\snowflake\\temp\\sandbox\\Facial_emotion_images\\model_1_epoch_4max_accuracy.keras\n",
            "\u001b[1m473/473\u001b[0m \u001b[32m━━━━━━━━━━━━━━━━━━━━\u001b[0m\u001b[37m\u001b[0m \u001b[1m23s\u001b[0m 49ms/step - accuracy: 0.5313 - loss: 1.0832 - val_accuracy: 0.5957 - val_loss: 0.9874 - learning_rate: 0.0010\n",
            "Epoch 5/20\n",
            "\u001b[1m472/473\u001b[0m \u001b[32m━━━━━━━━━━━━━━━━━━━\u001b[0m\u001b[37m━\u001b[0m \u001b[1m0s\u001b[0m 44ms/step - accuracy: 0.5624 - loss: 1.0341\n",
            "Epoch 5: val_accuracy improved from 0.59574 to 0.61202, saving model to D:\\GitHub\\amitprakash07\\snowflake\\temp\\sandbox\\Facial_emotion_images\\model_1_epoch_5max_accuracy.keras\n",
            "\u001b[1m473/473\u001b[0m \u001b[32m━━━━━━━━━━━━━━━━━━━━\u001b[0m\u001b[37m\u001b[0m \u001b[1m23s\u001b[0m 49ms/step - accuracy: 0.5624 - loss: 1.0340 - val_accuracy: 0.6120 - val_loss: 0.9499 - learning_rate: 0.0010\n",
            "Epoch 6/20\n",
            "\u001b[1m473/473\u001b[0m \u001b[32m━━━━━━━━━━━━━━━━━━━━\u001b[0m\u001b[37m\u001b[0m \u001b[1m0s\u001b[0m 45ms/step - accuracy: 0.5835 - loss: 0.9859\n",
            "Epoch 6: val_accuracy did not improve from 0.61202\n",
            "\u001b[1m473/473\u001b[0m \u001b[32m━━━━━━━━━━━━━━━━━━━━\u001b[0m\u001b[37m\u001b[0m \u001b[1m24s\u001b[0m 50ms/step - accuracy: 0.5835 - loss: 0.9859 - val_accuracy: 0.6018 - val_loss: 0.9473 - learning_rate: 0.0010\n",
            "Epoch 7/20\n",
            "\u001b[1m473/473\u001b[0m \u001b[32m━━━━━━━━━━━━━━━━━━━━\u001b[0m\u001b[37m\u001b[0m \u001b[1m0s\u001b[0m 44ms/step - accuracy: 0.5826 - loss: 0.9788\n",
            "Epoch 7: val_accuracy improved from 0.61202 to 0.63070, saving model to D:\\GitHub\\amitprakash07\\snowflake\\temp\\sandbox\\Facial_emotion_images\\model_1_epoch_7max_accuracy.keras\n",
            "\u001b[1m473/473\u001b[0m \u001b[32m━━━━━━━━━━━━━━━━━━━━\u001b[0m\u001b[37m\u001b[0m \u001b[1m24s\u001b[0m 50ms/step - accuracy: 0.5826 - loss: 0.9788 - val_accuracy: 0.6307 - val_loss: 0.9168 - learning_rate: 0.0010\n",
            "Epoch 8/20\n",
            "\u001b[1m473/473\u001b[0m \u001b[32m━━━━━━━━━━━━━━━━━━━━\u001b[0m\u001b[37m\u001b[0m \u001b[1m0s\u001b[0m 46ms/step - accuracy: 0.6007 - loss: 0.9346\n",
            "Epoch 8: val_accuracy improved from 0.63070 to 0.63974, saving model to D:\\GitHub\\amitprakash07\\snowflake\\temp\\sandbox\\Facial_emotion_images\\model_1_epoch_8max_accuracy.keras\n",
            "\u001b[1m473/473\u001b[0m \u001b[32m━━━━━━━━━━━━━━━━━━━━\u001b[0m\u001b[37m\u001b[0m \u001b[1m24s\u001b[0m 51ms/step - accuracy: 0.6007 - loss: 0.9346 - val_accuracy: 0.6397 - val_loss: 0.8847 - learning_rate: 0.0010\n",
            "Epoch 9/20\n",
            "\u001b[1m473/473\u001b[0m \u001b[32m━━━━━━━━━━━━━━━━━━━━\u001b[0m\u001b[37m\u001b[0m \u001b[1m0s\u001b[0m 44ms/step - accuracy: 0.6110 - loss: 0.9247\n",
            "Epoch 9: val_accuracy did not improve from 0.63974\n",
            "\u001b[1m473/473\u001b[0m \u001b[32m━━━━━━━━━━━━━━━━━━━━\u001b[0m\u001b[37m\u001b[0m \u001b[1m23s\u001b[0m 49ms/step - accuracy: 0.6110 - loss: 0.9247 - val_accuracy: 0.6327 - val_loss: 0.9052 - learning_rate: 0.0010\n",
            "Epoch 10/20\n",
            "\u001b[1m473/473\u001b[0m \u001b[32m━━━━━━━━━━━━━━━━━━━━\u001b[0m\u001b[37m\u001b[0m \u001b[1m0s\u001b[0m 46ms/step - accuracy: 0.6258 - loss: 0.8919\n",
            "Epoch 10: val_accuracy improved from 0.63974 to 0.64617, saving model to D:\\GitHub\\amitprakash07\\snowflake\\temp\\sandbox\\Facial_emotion_images\\model_1_epoch_10max_accuracy.keras\n",
            "\u001b[1m473/473\u001b[0m \u001b[32m━━━━━━━━━━━━━━━━━━━━\u001b[0m\u001b[37m\u001b[0m \u001b[1m24s\u001b[0m 51ms/step - accuracy: 0.6258 - loss: 0.8919 - val_accuracy: 0.6462 - val_loss: 0.8684 - learning_rate: 0.0010\n",
            "Epoch 11/20\n",
            "\u001b[1m472/473\u001b[0m \u001b[32m━━━━━━━━━━━━━━━━━━━\u001b[0m\u001b[37m━\u001b[0m \u001b[1m0s\u001b[0m 47ms/step - accuracy: 0.6279 - loss: 0.8793\n",
            "Epoch 11: val_accuracy did not improve from 0.64617\n",
            "\u001b[1m473/473\u001b[0m \u001b[32m━━━━━━━━━━━━━━━━━━━━\u001b[0m\u001b[37m\u001b[0m \u001b[1m25s\u001b[0m 52ms/step - accuracy: 0.6279 - loss: 0.8793 - val_accuracy: 0.6385 - val_loss: 0.9098 - learning_rate: 0.0010\n",
            "Epoch 12/20\n",
            "\u001b[1m473/473\u001b[0m \u001b[32m━━━━━━━━━━━━━━━━━━━━\u001b[0m\u001b[37m\u001b[0m \u001b[1m0s\u001b[0m 46ms/step - accuracy: 0.6343 - loss: 0.8718\n",
            "Epoch 12: val_accuracy improved from 0.64617 to 0.65481, saving model to D:\\GitHub\\amitprakash07\\snowflake\\temp\\sandbox\\Facial_emotion_images\\model_1_epoch_12max_accuracy.keras\n",
            "\u001b[1m473/473\u001b[0m \u001b[32m━━━━━━━━━━━━━━━━━━━━\u001b[0m\u001b[37m\u001b[0m \u001b[1m24s\u001b[0m 51ms/step - accuracy: 0.6343 - loss: 0.8718 - val_accuracy: 0.6548 - val_loss: 0.8619 - learning_rate: 0.0010\n",
            "Epoch 13/20\n",
            "\u001b[1m473/473\u001b[0m \u001b[32m━━━━━━━━━━━━━━━━━━━━\u001b[0m\u001b[37m\u001b[0m \u001b[1m0s\u001b[0m 45ms/step - accuracy: 0.6525 - loss: 0.8440\n",
            "Epoch 13: val_accuracy did not improve from 0.65481\n",
            "\u001b[1m473/473\u001b[0m \u001b[32m━━━━━━━━━━━━━━━━━━━━\u001b[0m\u001b[37m\u001b[0m \u001b[1m24s\u001b[0m 50ms/step - accuracy: 0.6525 - loss: 0.8440 - val_accuracy: 0.6241 - val_loss: 0.9451 - learning_rate: 0.0010\n",
            "Epoch 14/20\n",
            "\u001b[1m471/473\u001b[0m \u001b[32m━━━━━━━━━━━━━━━━━━━\u001b[0m\u001b[37m━\u001b[0m \u001b[1m0s\u001b[0m 45ms/step - accuracy: 0.6523 - loss: 0.8309\n",
            "Epoch 14: val_accuracy improved from 0.65481 to 0.66144, saving model to D:\\GitHub\\amitprakash07\\snowflake\\temp\\sandbox\\Facial_emotion_images\\model_1_epoch_14max_accuracy.keras\n",
            "\u001b[1m473/473\u001b[0m \u001b[32m━━━━━━━━━━━━━━━━━━━━\u001b[0m\u001b[37m\u001b[0m \u001b[1m24s\u001b[0m 50ms/step - accuracy: 0.6523 - loss: 0.8309 - val_accuracy: 0.6614 - val_loss: 0.8454 - learning_rate: 0.0010\n",
            "Epoch 15/20\n",
            "\u001b[1m472/473\u001b[0m \u001b[32m━━━━━━━━━━━━━━━━━━━\u001b[0m\u001b[37m━\u001b[0m \u001b[1m0s\u001b[0m 45ms/step - accuracy: 0.6596 - loss: 0.8296\n",
            "Epoch 15: val_accuracy did not improve from 0.66144\n",
            "\u001b[1m473/473\u001b[0m \u001b[32m━━━━━━━━━━━━━━━━━━━━\u001b[0m\u001b[37m\u001b[0m \u001b[1m23s\u001b[0m 49ms/step - accuracy: 0.6596 - loss: 0.8296 - val_accuracy: 0.6524 - val_loss: 0.8688 - learning_rate: 0.0010\n",
            "Epoch 16/20\n",
            "\u001b[1m471/473\u001b[0m \u001b[32m━━━━━━━━━━━━━━━━━━━\u001b[0m\u001b[37m━\u001b[0m \u001b[1m0s\u001b[0m 45ms/step - accuracy: 0.6668 - loss: 0.8099\n",
            "Epoch 16: val_accuracy did not improve from 0.66144\n",
            "\u001b[1m473/473\u001b[0m \u001b[32m━━━━━━━━━━━━━━━━━━━━\u001b[0m\u001b[37m\u001b[0m \u001b[1m24s\u001b[0m 50ms/step - accuracy: 0.6668 - loss: 0.8099 - val_accuracy: 0.6568 - val_loss: 0.8634 - learning_rate: 0.0010\n",
            "Epoch 17/20\n",
            "\u001b[1m472/473\u001b[0m \u001b[32m━━━━━━━━━━━━━━━━━━━\u001b[0m\u001b[37m━\u001b[0m \u001b[1m0s\u001b[0m 44ms/step - accuracy: 0.6782 - loss: 0.7912\n",
            "Epoch 17: val_accuracy improved from 0.66144 to 0.66184, saving model to D:\\GitHub\\amitprakash07\\snowflake\\temp\\sandbox\\Facial_emotion_images\\model_1_epoch_17max_accuracy.keras\n",
            "\n",
            "Epoch 17: ReduceLROnPlateau reducing learning rate to 0.00020000000949949026.\n",
            "\u001b[1m473/473\u001b[0m \u001b[32m━━━━━━━━━━━━━━━━━━━━\u001b[0m\u001b[37m\u001b[0m \u001b[1m24s\u001b[0m 50ms/step - accuracy: 0.6782 - loss: 0.7911 - val_accuracy: 0.6618 - val_loss: 0.8517 - learning_rate: 0.0010\n",
            "Epoch 17: early stopping\n",
            "Restoring model weights from the end of the best epoch: 14.\n"
          ]
        }
      ],
      "source": [
        "epochs = 20\n",
        "history = model.fit(training_data, validation_data = validation_data, epochs = epochs, callbacks = callbacks_list)"
      ]
    },
    {
      "cell_type": "markdown",
      "metadata": {
        "id": "CR2yf3zH7uje"
      },
      "source": [
        "### **Evaluating the Model on the Test Set**"
      ]
    },
    {
      "cell_type": "code",
      "execution_count": 133,
      "metadata": {
        "id": "gffvQXr-70Hm"
      },
      "outputs": [
        {
          "name": "stdout",
          "output_type": "stream",
          "text": [
            "4/4 - 0s - 89ms/step - accuracy: 0.6797 - loss: 0.7967\n"
          ]
        }
      ],
      "source": [
        "accuracy = model.evaluate(testing_data, verbose=2)"
      ]
    },
    {
      "cell_type": "code",
      "execution_count": 134,
      "metadata": {},
      "outputs": [
        {
          "name": "stdout",
          "output_type": "stream",
          "text": [
            "\u001b[1m4/4\u001b[0m \u001b[32m━━━━━━━━━━━━━━━━━━━━\u001b[0m\u001b[37m\u001b[0m \u001b[1m1s\u001b[0m 16ms/step \n"
          ]
        }
      ],
      "source": [
        "model_predictions = model.predict(testing_data)"
      ]
    },
    {
      "cell_type": "code",
      "execution_count": 135,
      "metadata": {},
      "outputs": [
        {
          "data": {
            "text/plain": [
              "(128, 4)"
            ]
          },
          "execution_count": 135,
          "metadata": {},
          "output_type": "execute_result"
        }
      ],
      "source": [
        "model_predictions.shape"
      ]
    },
    {
      "cell_type": "code",
      "execution_count": 136,
      "metadata": {},
      "outputs": [
        {
          "data": {
            "text/plain": [
              "array([[2.22477227e-01, 5.13243914e-01, 2.20075071e-01, 4.42038104e-02],\n",
              "       [2.35002227e-02, 7.28567019e-02, 8.82589042e-01, 2.10540630e-02],\n",
              "       [2.24717170e-01, 3.70370209e-01, 4.00655150e-01, 4.25753323e-03],\n",
              "       [9.93248424e-04, 5.40472427e-03, 4.76109469e-03, 9.88840878e-01],\n",
              "       [3.26299369e-01, 3.30387443e-01, 3.26998144e-01, 1.63150392e-02],\n",
              "       [2.71358877e-01, 4.07825798e-01, 2.51606137e-01, 6.92092180e-02],\n",
              "       [8.38884432e-03, 4.23927139e-03, 1.54910388e-03, 9.85822856e-01],\n",
              "       [3.03047836e-01, 1.53407246e-01, 1.80792883e-01, 3.62751991e-01],\n",
              "       [3.93171161e-02, 4.26224977e-01, 5.14655173e-01, 1.98026691e-02],\n",
              "       [3.39748770e-01, 1.73726037e-01, 2.93399066e-01, 1.93126157e-01],\n",
              "       [1.51405841e-01, 4.37805533e-01, 4.07215208e-01, 3.57337669e-03],\n",
              "       [2.48065982e-02, 6.19524300e-01, 3.04129899e-01, 5.15391678e-02],\n",
              "       [9.76110995e-01, 1.16151972e-02, 4.48830286e-03, 7.78553402e-03],\n",
              "       [2.30413470e-02, 8.38086382e-03, 1.41947176e-02, 9.54383075e-01],\n",
              "       [1.19616590e-01, 4.46230173e-01, 4.01473522e-01, 3.26796733e-02],\n",
              "       [9.09299590e-03, 1.30379470e-02, 2.12342329e-02, 9.56634760e-01],\n",
              "       [2.86202550e-01, 2.03475133e-01, 4.11969632e-01, 9.83526558e-02],\n",
              "       [7.75076628e-01, 1.10052958e-01, 2.49361191e-02, 8.99343416e-02],\n",
              "       [1.57985508e-01, 3.60295504e-01, 2.93903530e-01, 1.87815458e-01],\n",
              "       [2.14602682e-03, 8.56456440e-03, 2.15839734e-03, 9.87131059e-01],\n",
              "       [2.28962824e-01, 2.34684795e-01, 4.00398791e-01, 1.35953501e-01],\n",
              "       [2.39671040e-02, 1.67644814e-01, 7.69249260e-01, 3.91388051e-02],\n",
              "       [8.70224655e-01, 3.61617208e-02, 9.28673521e-02, 7.46265461e-04],\n",
              "       [2.48701572e-02, 2.52947062e-01, 6.30297244e-01, 9.18856338e-02],\n",
              "       [1.36451170e-01, 4.24295813e-01, 4.23622072e-01, 1.56310555e-02],\n",
              "       [3.75350863e-01, 3.15443367e-01, 2.34758124e-01, 7.44477138e-02],\n",
              "       [2.47403413e-01, 2.39461705e-01, 4.19535130e-01, 9.35997814e-02],\n",
              "       [9.34835792e-01, 3.56379971e-02, 2.60053519e-02, 3.52083007e-03],\n",
              "       [2.25275293e-01, 4.20050740e-01, 3.26276064e-01, 2.83980016e-02],\n",
              "       [2.57624779e-04, 2.03483063e-03, 3.70606617e-03, 9.94001567e-01],\n",
              "       [1.29726477e-05, 6.88772474e-04, 4.19155142e-04, 9.98879135e-01],\n",
              "       [5.69275320e-01, 4.66862284e-02, 6.79129660e-02, 3.16125482e-01],\n",
              "       [5.31338118e-02, 4.91804600e-01, 4.51869667e-01, 3.19193956e-03],\n",
              "       [9.25937295e-02, 4.06106710e-01, 4.71547157e-01, 2.97523681e-02],\n",
              "       [2.19797239e-01, 2.92542309e-01, 4.53805029e-01, 3.38553973e-02],\n",
              "       [8.45986232e-02, 3.59639376e-01, 1.59527987e-01, 3.96234035e-01],\n",
              "       [1.48063570e-01, 5.66918671e-01, 2.80346334e-01, 4.67147352e-03],\n",
              "       [3.23881805e-01, 1.70291990e-01, 4.99958873e-01, 5.86727541e-03],\n",
              "       [1.00114621e-01, 4.33106244e-01, 3.74892980e-01, 9.18862373e-02],\n",
              "       [8.43630172e-03, 9.65049744e-01, 2.34452412e-02, 3.06881289e-03],\n",
              "       [3.43535175e-05, 9.51467897e-04, 9.25731802e-05, 9.98921633e-01],\n",
              "       [4.82139848e-02, 8.30397666e-01, 1.00767545e-01, 2.06208155e-02],\n",
              "       [7.70487010e-01, 2.93328539e-02, 1.89961508e-01, 1.02186352e-02],\n",
              "       [1.55367538e-01, 3.60102832e-01, 3.88261408e-01, 9.62681770e-02],\n",
              "       [2.20634401e-01, 3.44330609e-01, 4.09950703e-01, 2.50842851e-02],\n",
              "       [2.12372333e-01, 2.72127479e-01, 4.84868169e-01, 3.06320451e-02],\n",
              "       [1.38997838e-01, 3.90213072e-01, 3.50056112e-01, 1.20732993e-01],\n",
              "       [9.85168099e-01, 2.12253584e-03, 2.03484017e-03, 1.06745642e-02],\n",
              "       [4.31765765e-01, 2.63829917e-01, 2.84719795e-01, 1.96844283e-02],\n",
              "       [5.84424399e-02, 2.24169254e-01, 2.44575396e-01, 4.72812921e-01],\n",
              "       [2.37038374e-01, 3.15718979e-01, 1.01741791e-01, 3.45500857e-01],\n",
              "       [9.09084454e-02, 5.84752440e-01, 2.29739219e-01, 9.45998356e-02],\n",
              "       [4.60191637e-01, 5.70739470e-02, 2.39197891e-02, 4.58814621e-01],\n",
              "       [1.04897216e-01, 4.50046897e-01, 3.24054331e-01, 1.21001586e-01],\n",
              "       [2.95145452e-01, 4.33723420e-01, 2.53028363e-01, 1.81027744e-02],\n",
              "       [8.01844448e-02, 1.27211496e-01, 2.76699245e-01, 5.15904784e-01],\n",
              "       [1.08947068e-01, 4.20269102e-01, 4.28394020e-01, 4.23897095e-02],\n",
              "       [1.02764890e-04, 9.54152584e-01, 4.52550426e-02, 4.89496801e-04],\n",
              "       [5.22347987e-02, 3.11470449e-01, 4.15038139e-01, 2.21256569e-01],\n",
              "       [9.80476260e-01, 8.64899158e-03, 2.04910501e-03, 8.82561877e-03],\n",
              "       [9.78073031e-02, 3.48038435e-01, 4.96610463e-01, 5.75437807e-02],\n",
              "       [9.24353674e-02, 1.34544447e-02, 1.17751230e-02, 8.82335007e-01],\n",
              "       [4.47862804e-01, 5.10860793e-02, 4.87322956e-01, 1.37282098e-02],\n",
              "       [2.96462625e-02, 7.76799560e-01, 1.56971514e-01, 3.65826711e-02],\n",
              "       [1.24725796e-01, 2.16790378e-01, 4.38450843e-01, 2.20033064e-01],\n",
              "       [9.32833493e-01, 3.78476717e-02, 1.36128059e-02, 1.57059655e-02],\n",
              "       [9.99204695e-01, 1.68367515e-05, 3.72385989e-06, 7.74807122e-04],\n",
              "       [1.76578000e-01, 3.12222809e-01, 4.98210311e-01, 1.29889706e-02],\n",
              "       [9.98911262e-01, 5.77576517e-04, 2.85097049e-04, 2.26058764e-04],\n",
              "       [2.23788157e-01, 3.81843030e-01, 3.72651100e-01, 2.17176769e-02],\n",
              "       [8.68380368e-02, 3.82044643e-01, 5.04463613e-01, 2.66536791e-02],\n",
              "       [3.80673409e-02, 2.16740623e-01, 9.61076468e-02, 6.49084389e-01],\n",
              "       [2.71650314e-01, 3.88640553e-01, 2.53817827e-01, 8.58913213e-02],\n",
              "       [3.63914086e-03, 9.16502476e-01, 6.56598881e-02, 1.41985342e-02],\n",
              "       [2.15096638e-01, 3.05229247e-01, 4.64347512e-01, 1.53265400e-02],\n",
              "       [9.14402753e-02, 3.09513807e-01, 1.94154084e-01, 4.04891819e-01],\n",
              "       [1.11984171e-01, 3.30147833e-01, 4.47578996e-01, 1.10289037e-01],\n",
              "       [1.62055328e-01, 3.18247676e-01, 3.13697428e-01, 2.05999613e-01],\n",
              "       [1.79831609e-01, 6.00586057e-01, 1.66136697e-01, 5.34455478e-02],\n",
              "       [4.10045274e-02, 3.92218716e-02, 5.13001829e-02, 8.68473411e-01],\n",
              "       [9.60489750e-01, 8.86526238e-03, 1.78739242e-02, 1.27710793e-02],\n",
              "       [6.91289604e-02, 1.31451756e-01, 2.78637350e-01, 5.20781994e-01],\n",
              "       [4.37340885e-02, 5.20185381e-03, 2.35258806e-02, 9.27538157e-01],\n",
              "       [3.78986329e-01, 9.61029381e-02, 4.44046199e-01, 8.08645859e-02],\n",
              "       [1.89153895e-01, 4.06599373e-01, 3.04208308e-01, 1.00038402e-01],\n",
              "       [3.27584118e-01, 1.16565801e-01, 5.32447934e-01, 2.34021731e-02],\n",
              "       [2.23589642e-03, 9.35218215e-01, 4.70551029e-02, 1.54908746e-02],\n",
              "       [3.27109635e-01, 5.09407043e-01, 7.14879707e-02, 9.19953436e-02],\n",
              "       [3.55039209e-01, 3.39400947e-01, 2.19903484e-01, 8.56563300e-02],\n",
              "       [9.58087623e-01, 1.93360485e-02, 2.06523724e-02, 1.92403258e-03],\n",
              "       [4.67150629e-01, 2.55032897e-01, 2.05527425e-01, 7.22890794e-02],\n",
              "       [3.06056011e-02, 2.18051076e-02, 2.53123436e-02, 9.22276974e-01],\n",
              "       [3.56148541e-01, 8.99528936e-02, 4.68292721e-02, 5.07069349e-01],\n",
              "       [1.48669735e-01, 5.04355133e-01, 1.68763742e-01, 1.78211316e-01],\n",
              "       [6.75101578e-01, 1.42827526e-01, 1.30034924e-01, 5.20359054e-02],\n",
              "       [2.02094927e-01, 2.68077850e-01, 3.28647852e-01, 2.01179370e-01],\n",
              "       [2.20781699e-01, 4.51282524e-02, 3.31939049e-02, 7.00896144e-01],\n",
              "       [3.90502930e-01, 3.45512003e-01, 2.49303013e-01, 1.46820545e-02],\n",
              "       [5.74449003e-01, 1.50080875e-01, 2.51512408e-01, 2.39577796e-02],\n",
              "       [1.85575023e-01, 1.67142451e-01, 5.88807642e-01, 5.84749132e-02],\n",
              "       [1.03993058e-04, 1.61385653e-03, 1.44607259e-03, 9.96836066e-01],\n",
              "       [1.32837156e-02, 8.10217321e-01, 1.52354300e-01, 2.41445769e-02],\n",
              "       [5.46316087e-01, 1.20504513e-01, 3.23456556e-01, 9.72287264e-03],\n",
              "       [1.73068985e-01, 4.21344787e-01, 3.82269144e-01, 2.33170707e-02],\n",
              "       [7.06079081e-02, 7.44657874e-01, 1.82754576e-01, 1.97962415e-03],\n",
              "       [2.92178333e-01, 1.91142842e-01, 4.67873156e-01, 4.88057621e-02],\n",
              "       [4.12281118e-02, 9.45186317e-02, 1.21497281e-01, 7.42756069e-01],\n",
              "       [2.64903039e-01, 4.66999948e-01, 2.36791313e-01, 3.13057899e-02],\n",
              "       [8.82673442e-01, 5.47380112e-02, 3.82422730e-02, 2.43462399e-02],\n",
              "       [1.09171033e-01, 4.73565832e-02, 8.10787499e-01, 3.26848663e-02],\n",
              "       [1.33160157e-02, 2.60888606e-01, 5.26124656e-01, 1.99670821e-01],\n",
              "       [9.02011633e-01, 5.49088828e-02, 4.04999107e-02, 2.57950509e-03],\n",
              "       [2.24191412e-01, 2.35371843e-01, 4.72164243e-01, 6.82724193e-02],\n",
              "       [1.78713843e-01, 2.49608576e-01, 5.45927763e-01, 2.57498845e-02],\n",
              "       [9.92832661e-01, 1.11017190e-03, 4.72715544e-03, 1.32990384e-03],\n",
              "       [2.79485211e-02, 4.73314941e-01, 4.52175736e-01, 4.65608276e-02],\n",
              "       [8.70085501e-07, 4.44809189e-07, 1.11595102e-06, 9.99997497e-01],\n",
              "       [5.57294667e-01, 7.10495934e-02, 6.21409342e-02, 3.09514821e-01],\n",
              "       [2.13550672e-01, 4.98741925e-01, 2.42847547e-01, 4.48598750e-02],\n",
              "       [6.39305711e-01, 1.73482656e-01, 1.85951158e-01, 1.26040168e-03],\n",
              "       [6.95461452e-01, 3.15317102e-02, 1.76024094e-01, 9.69827920e-02],\n",
              "       [1.58512685e-03, 2.94269416e-02, 9.48454160e-03, 9.59503353e-01],\n",
              "       [5.84319457e-02, 4.14167605e-02, 3.84525619e-02, 8.61698747e-01],\n",
              "       [4.21035290e-02, 6.25113606e-01, 2.79825062e-01, 5.29577620e-02],\n",
              "       [4.14032675e-02, 7.03052342e-01, 2.04898357e-01, 5.06459847e-02],\n",
              "       [2.46424694e-03, 5.22314012e-02, 1.63262822e-02, 9.28978086e-01],\n",
              "       [5.31394556e-02, 4.86716241e-01, 2.87703633e-01, 1.72440603e-01],\n",
              "       [4.12643164e-01, 3.01634938e-01, 2.70935833e-01, 1.47860534e-02]],\n",
              "      dtype=float32)"
            ]
          },
          "execution_count": 136,
          "metadata": {},
          "output_type": "execute_result"
        }
      ],
      "source": [
        "model_predictions"
      ]
    },
    {
      "cell_type": "code",
      "execution_count": 137,
      "metadata": {},
      "outputs": [],
      "source": [
        "y_pred_arg=np.argmax(model_predictions,axis=1)"
      ]
    },
    {
      "cell_type": "code",
      "execution_count": 138,
      "metadata": {},
      "outputs": [
        {
          "data": {
            "text/plain": [
              "(128,)"
            ]
          },
          "execution_count": 138,
          "metadata": {},
          "output_type": "execute_result"
        }
      ],
      "source": [
        "y_pred_arg.shape"
      ]
    },
    {
      "cell_type": "code",
      "execution_count": 139,
      "metadata": {},
      "outputs": [
        {
          "data": {
            "text/plain": [
              "array([1, 2, 2, 3, 1, 1, 3, 3, 2, 0, 1, 1, 0, 3, 1, 3, 2, 0, 1, 3, 2, 2,\n",
              "       0, 2, 1, 0, 2, 0, 1, 3, 3, 0, 1, 2, 2, 3, 1, 2, 1, 1, 3, 1, 0, 2,\n",
              "       2, 2, 1, 0, 0, 3, 3, 1, 0, 1, 1, 3, 2, 1, 2, 0, 2, 3, 2, 1, 2, 0,\n",
              "       0, 2, 0, 1, 2, 3, 1, 1, 2, 3, 2, 1, 1, 3, 0, 3, 3, 2, 1, 2, 1, 1,\n",
              "       0, 0, 0, 3, 3, 1, 0, 2, 3, 0, 0, 2, 3, 1, 0, 1, 1, 2, 3, 1, 0, 2,\n",
              "       2, 0, 2, 2, 0, 1, 3, 0, 1, 0, 0, 3, 3, 1, 1, 3, 1, 0], dtype=int64)"
            ]
          },
          "execution_count": 139,
          "metadata": {},
          "output_type": "execute_result"
        }
      ],
      "source": [
        "y_pred_arg "
      ]
    },
    {
      "cell_type": "code",
      "execution_count": 221,
      "metadata": {},
      "outputs": [
        {
          "data": {
            "text/plain": [
              "numpy.ndarray"
            ]
          },
          "execution_count": 221,
          "metadata": {},
          "output_type": "execute_result"
        }
      ],
      "source": [
        "type(y_pred_arg)"
      ]
    },
    {
      "cell_type": "code",
      "execution_count": 226,
      "metadata": {},
      "outputs": [
        {
          "data": {
            "image/png": "[encoded data removed]",
            "text/plain": [
              "<Figure size 1000x800 with 2 Axes>"
            ]
          },
          "metadata": {},
          "output_type": "display_data"
        }
      ],
      "source": [
        "import tensorflow.math as tf_math\n",
        "\n",
        "# Plotting the Confusion Matrix using confusion matrix() function which is also predefined tensorflow module\n",
        "confusion_matrix_out = tf_math.confusion_matrix(testing_label_decoded,y_pred_arg)\n",
        "f, ax = plt.subplots(figsize=(10, 8))\n",
        "sns.heatmap(\n",
        "    confusion_matrix_out,\n",
        "    annot=True,\n",
        "    linewidths=.4,\n",
        "    fmt=\"d\",\n",
        "    square=True,\n",
        "    ax=ax\n",
        ")\n",
        "plt.show()"
      ]
    },
    {
      "cell_type": "markdown",
      "metadata": {
        "id": "SoqluqR-RMbk"
      },
      "source": [
        "**Observations and Insights:__**"
      ]
    },
    {
      "cell_type": "markdown",
      "metadata": {
        "id": "12efb6c8"
      },
      "source": [
        "### **Creating the second Convolutional Neural Network**"
      ]
    },
    {
      "cell_type": "markdown",
      "metadata": {
        "id": "ypwtou8Zp5EH"
      },
      "source": [
        "- Try out a slightly larger architecture"
      ]
    },
    {
      "cell_type": "code",
      "execution_count": 227,
      "metadata": {
        "id": "7887b475"
      },
      "outputs": [],
      "source": [
        "tf.keras.backend.clear_session()"
      ]
    },
    {
      "cell_type": "code",
      "execution_count": 228,
      "metadata": {},
      "outputs": [],
      "source": [
        "np.random.seed(42)\n",
        "import random\n",
        "random.seed(20)\n",
        "tf.random.set_seed(20)"
      ]
    },
    {
      "cell_type": "code",
      "execution_count": 231,
      "metadata": {},
      "outputs": [
        {
          "name": "stderr",
          "output_type": "stream",
          "text": [
            "c:\\Users\\amit_\\anaconda3\\Lib\\site-packages\\keras\\src\\layers\\convolutional\\base_conv.py:107: UserWarning: Do not pass an `input_shape`/`input_dim` argument to a layer. When using Sequential models, prefer using an `Input(shape)` object as the first layer in the model instead.\n",
            "  super().__init__(activity_regularizer=activity_regularizer, **kwargs)\n"
          ]
        },
        {
          "data": {
            "text/html": [
              "<pre style=\"white-space:pre;overflow-x:auto;line-height:normal;font-family:Menlo,'DejaVu Sans Mono',consolas,'Courier New',monospace\"><span style=\"font-weight: bold\">Model: \"sequential_2\"</span>\n",
              "</pre>\n"
            ],
            "text/plain": [
              "\u001b[1mModel: \"sequential_2\"\u001b[0m\n"
            ]
          },
          "metadata": {},
          "output_type": "display_data"
        },
        {
          "data": {
            "text/html": [
              "<pre style=\"white-space:pre;overflow-x:auto;line-height:normal;font-family:Menlo,'DejaVu Sans Mono',consolas,'Courier New',monospace\">┏━━━━━━━━━━━━━━━━━━━━━━━━━━━━━━━━━┳━━━━━━━━━━━━━━━━━━━━━━━━┳━━━━━━━━━━━━━━━┓\n",
              "┃<span style=\"font-weight: bold\"> Layer (type)                    </span>┃<span style=\"font-weight: bold\"> Output Shape           </span>┃<span style=\"font-weight: bold\">       Param # </span>┃\n",
              "┡━━━━━━━━━━━━━━━━━━━━━━━━━━━━━━━━━╇━━━━━━━━━━━━━━━━━━━━━━━━╇━━━━━━━━━━━━━━━┩\n",
              "│ conv2d_7 (<span style=\"color: #0087ff; text-decoration-color: #0087ff\">Conv2D</span>)               │ (<span style=\"color: #00d7ff; text-decoration-color: #00d7ff\">None</span>, <span style=\"color: #00af00; text-decoration-color: #00af00\">48</span>, <span style=\"color: #00af00; text-decoration-color: #00af00\">48</span>, <span style=\"color: #00af00; text-decoration-color: #00af00\">256</span>)    │         <span style=\"color: #00af00; text-decoration-color: #00af00\">1,280</span> │\n",
              "├─────────────────────────────────┼────────────────────────┼───────────────┤\n",
              "│ batch_normalization_6           │ (<span style=\"color: #00d7ff; text-decoration-color: #00d7ff\">None</span>, <span style=\"color: #00af00; text-decoration-color: #00af00\">48</span>, <span style=\"color: #00af00; text-decoration-color: #00af00\">48</span>, <span style=\"color: #00af00; text-decoration-color: #00af00\">256</span>)    │         <span style=\"color: #00af00; text-decoration-color: #00af00\">1,024</span> │\n",
              "│ (<span style=\"color: #0087ff; text-decoration-color: #0087ff\">BatchNormalization</span>)            │                        │               │\n",
              "├─────────────────────────────────┼────────────────────────┼───────────────┤\n",
              "│ leaky_re_lu_6 (<span style=\"color: #0087ff; text-decoration-color: #0087ff\">LeakyReLU</span>)       │ (<span style=\"color: #00d7ff; text-decoration-color: #00d7ff\">None</span>, <span style=\"color: #00af00; text-decoration-color: #00af00\">48</span>, <span style=\"color: #00af00; text-decoration-color: #00af00\">48</span>, <span style=\"color: #00af00; text-decoration-color: #00af00\">256</span>)    │             <span style=\"color: #00af00; text-decoration-color: #00af00\">0</span> │\n",
              "├─────────────────────────────────┼────────────────────────┼───────────────┤\n",
              "│ max_pooling2d_6 (<span style=\"color: #0087ff; text-decoration-color: #0087ff\">MaxPooling2D</span>)  │ (<span style=\"color: #00d7ff; text-decoration-color: #00d7ff\">None</span>, <span style=\"color: #00af00; text-decoration-color: #00af00\">24</span>, <span style=\"color: #00af00; text-decoration-color: #00af00\">24</span>, <span style=\"color: #00af00; text-decoration-color: #00af00\">256</span>)    │             <span style=\"color: #00af00; text-decoration-color: #00af00\">0</span> │\n",
              "├─────────────────────────────────┼────────────────────────┼───────────────┤\n",
              "│ conv2d_8 (<span style=\"color: #0087ff; text-decoration-color: #0087ff\">Conv2D</span>)               │ (<span style=\"color: #00d7ff; text-decoration-color: #00d7ff\">None</span>, <span style=\"color: #00af00; text-decoration-color: #00af00\">24</span>, <span style=\"color: #00af00; text-decoration-color: #00af00\">24</span>, <span style=\"color: #00af00; text-decoration-color: #00af00\">128</span>)    │       <span style=\"color: #00af00; text-decoration-color: #00af00\">131,200</span> │\n",
              "├─────────────────────────────────┼────────────────────────┼───────────────┤\n",
              "│ batch_normalization_7           │ (<span style=\"color: #00d7ff; text-decoration-color: #00d7ff\">None</span>, <span style=\"color: #00af00; text-decoration-color: #00af00\">24</span>, <span style=\"color: #00af00; text-decoration-color: #00af00\">24</span>, <span style=\"color: #00af00; text-decoration-color: #00af00\">128</span>)    │           <span style=\"color: #00af00; text-decoration-color: #00af00\">512</span> │\n",
              "│ (<span style=\"color: #0087ff; text-decoration-color: #0087ff\">BatchNormalization</span>)            │                        │               │\n",
              "├─────────────────────────────────┼────────────────────────┼───────────────┤\n",
              "│ leaky_re_lu_7 (<span style=\"color: #0087ff; text-decoration-color: #0087ff\">LeakyReLU</span>)       │ (<span style=\"color: #00d7ff; text-decoration-color: #00d7ff\">None</span>, <span style=\"color: #00af00; text-decoration-color: #00af00\">24</span>, <span style=\"color: #00af00; text-decoration-color: #00af00\">24</span>, <span style=\"color: #00af00; text-decoration-color: #00af00\">128</span>)    │             <span style=\"color: #00af00; text-decoration-color: #00af00\">0</span> │\n",
              "├─────────────────────────────────┼────────────────────────┼───────────────┤\n",
              "│ max_pooling2d_7 (<span style=\"color: #0087ff; text-decoration-color: #0087ff\">MaxPooling2D</span>)  │ (<span style=\"color: #00d7ff; text-decoration-color: #00d7ff\">None</span>, <span style=\"color: #00af00; text-decoration-color: #00af00\">12</span>, <span style=\"color: #00af00; text-decoration-color: #00af00\">12</span>, <span style=\"color: #00af00; text-decoration-color: #00af00\">128</span>)    │             <span style=\"color: #00af00; text-decoration-color: #00af00\">0</span> │\n",
              "├─────────────────────────────────┼────────────────────────┼───────────────┤\n",
              "│ conv2d_9 (<span style=\"color: #0087ff; text-decoration-color: #0087ff\">Conv2D</span>)               │ (<span style=\"color: #00d7ff; text-decoration-color: #00d7ff\">None</span>, <span style=\"color: #00af00; text-decoration-color: #00af00\">12</span>, <span style=\"color: #00af00; text-decoration-color: #00af00\">12</span>, <span style=\"color: #00af00; text-decoration-color: #00af00\">64</span>)     │        <span style=\"color: #00af00; text-decoration-color: #00af00\">32,832</span> │\n",
              "├─────────────────────────────────┼────────────────────────┼───────────────┤\n",
              "│ batch_normalization_8           │ (<span style=\"color: #00d7ff; text-decoration-color: #00d7ff\">None</span>, <span style=\"color: #00af00; text-decoration-color: #00af00\">12</span>, <span style=\"color: #00af00; text-decoration-color: #00af00\">12</span>, <span style=\"color: #00af00; text-decoration-color: #00af00\">64</span>)     │           <span style=\"color: #00af00; text-decoration-color: #00af00\">256</span> │\n",
              "│ (<span style=\"color: #0087ff; text-decoration-color: #0087ff\">BatchNormalization</span>)            │                        │               │\n",
              "├─────────────────────────────────┼────────────────────────┼───────────────┤\n",
              "│ leaky_re_lu_8 (<span style=\"color: #0087ff; text-decoration-color: #0087ff\">LeakyReLU</span>)       │ (<span style=\"color: #00d7ff; text-decoration-color: #00d7ff\">None</span>, <span style=\"color: #00af00; text-decoration-color: #00af00\">12</span>, <span style=\"color: #00af00; text-decoration-color: #00af00\">12</span>, <span style=\"color: #00af00; text-decoration-color: #00af00\">64</span>)     │             <span style=\"color: #00af00; text-decoration-color: #00af00\">0</span> │\n",
              "├─────────────────────────────────┼────────────────────────┼───────────────┤\n",
              "│ max_pooling2d_8 (<span style=\"color: #0087ff; text-decoration-color: #0087ff\">MaxPooling2D</span>)  │ (<span style=\"color: #00d7ff; text-decoration-color: #00d7ff\">None</span>, <span style=\"color: #00af00; text-decoration-color: #00af00\">6</span>, <span style=\"color: #00af00; text-decoration-color: #00af00\">6</span>, <span style=\"color: #00af00; text-decoration-color: #00af00\">64</span>)       │             <span style=\"color: #00af00; text-decoration-color: #00af00\">0</span> │\n",
              "├─────────────────────────────────┼────────────────────────┼───────────────┤\n",
              "│ conv2d_10 (<span style=\"color: #0087ff; text-decoration-color: #0087ff\">Conv2D</span>)              │ (<span style=\"color: #00d7ff; text-decoration-color: #00d7ff\">None</span>, <span style=\"color: #00af00; text-decoration-color: #00af00\">5</span>, <span style=\"color: #00af00; text-decoration-color: #00af00\">5</span>, <span style=\"color: #00af00; text-decoration-color: #00af00\">32</span>)       │         <span style=\"color: #00af00; text-decoration-color: #00af00\">8,224</span> │\n",
              "├─────────────────────────────────┼────────────────────────┼───────────────┤\n",
              "│ flatten_1 (<span style=\"color: #0087ff; text-decoration-color: #0087ff\">Flatten</span>)             │ (<span style=\"color: #00d7ff; text-decoration-color: #00d7ff\">None</span>, <span style=\"color: #00af00; text-decoration-color: #00af00\">800</span>)            │             <span style=\"color: #00af00; text-decoration-color: #00af00\">0</span> │\n",
              "├─────────────────────────────────┼────────────────────────┼───────────────┤\n",
              "│ dense_3 (<span style=\"color: #0087ff; text-decoration-color: #0087ff\">Dense</span>)                 │ (<span style=\"color: #00d7ff; text-decoration-color: #00d7ff\">None</span>, <span style=\"color: #00af00; text-decoration-color: #00af00\">512</span>)            │       <span style=\"color: #00af00; text-decoration-color: #00af00\">410,112</span> │\n",
              "├─────────────────────────────────┼────────────────────────┼───────────────┤\n",
              "│ dense_4 (<span style=\"color: #0087ff; text-decoration-color: #0087ff\">Dense</span>)                 │ (<span style=\"color: #00d7ff; text-decoration-color: #00d7ff\">None</span>, <span style=\"color: #00af00; text-decoration-color: #00af00\">128</span>)            │        <span style=\"color: #00af00; text-decoration-color: #00af00\">65,664</span> │\n",
              "├─────────────────────────────────┼────────────────────────┼───────────────┤\n",
              "│ dense_5 (<span style=\"color: #0087ff; text-decoration-color: #0087ff\">Dense</span>)                 │ (<span style=\"color: #00d7ff; text-decoration-color: #00d7ff\">None</span>, <span style=\"color: #00af00; text-decoration-color: #00af00\">4</span>)              │           <span style=\"color: #00af00; text-decoration-color: #00af00\">516</span> │\n",
              "└─────────────────────────────────┴────────────────────────┴───────────────┘\n",
              "</pre>\n"
            ],
            "text/plain": [
              "┏━━━━━━━━━━━━━━━━━━━━━━━━━━━━━━━━━┳━━━━━━━━━━━━━━━━━━━━━━━━┳━━━━━━━━━━━━━━━┓\n",
              "┃\u001b[1m \u001b[0m\u001b[1mLayer (type)                   \u001b[0m\u001b[1m \u001b[0m┃\u001b[1m \u001b[0m\u001b[1mOutput Shape          \u001b[0m\u001b[1m \u001b[0m┃\u001b[1m \u001b[0m\u001b[1m      Param #\u001b[0m\u001b[1m \u001b[0m┃\n",
              "┡━━━━━━━━━━━━━━━━━━━━━━━━━━━━━━━━━╇━━━━━━━━━━━━━━━━━━━━━━━━╇━━━━━━━━━━━━━━━┩\n",
              "│ conv2d_7 (\u001b[38;5;33mConv2D\u001b[0m)               │ (\u001b[38;5;45mNone\u001b[0m, \u001b[38;5;34m48\u001b[0m, \u001b[38;5;34m48\u001b[0m, \u001b[38;5;34m256\u001b[0m)    │         \u001b[38;5;34m1,280\u001b[0m │\n",
              "├─────────────────────────────────┼────────────────────────┼───────────────┤\n",
              "│ batch_normalization_6           │ (\u001b[38;5;45mNone\u001b[0m, \u001b[38;5;34m48\u001b[0m, \u001b[38;5;34m48\u001b[0m, \u001b[38;5;34m256\u001b[0m)    │         \u001b[38;5;34m1,024\u001b[0m │\n",
              "│ (\u001b[38;5;33mBatchNormalization\u001b[0m)            │                        │               │\n",
              "├─────────────────────────────────┼────────────────────────┼───────────────┤\n",
              "│ leaky_re_lu_6 (\u001b[38;5;33mLeakyReLU\u001b[0m)       │ (\u001b[38;5;45mNone\u001b[0m, \u001b[38;5;34m48\u001b[0m, \u001b[38;5;34m48\u001b[0m, \u001b[38;5;34m256\u001b[0m)    │             \u001b[38;5;34m0\u001b[0m │\n",
              "├─────────────────────────────────┼────────────────────────┼───────────────┤\n",
              "│ max_pooling2d_6 (\u001b[38;5;33mMaxPooling2D\u001b[0m)  │ (\u001b[38;5;45mNone\u001b[0m, \u001b[38;5;34m24\u001b[0m, \u001b[38;5;34m24\u001b[0m, \u001b[38;5;34m256\u001b[0m)    │             \u001b[38;5;34m0\u001b[0m │\n",
              "├─────────────────────────────────┼────────────────────────┼───────────────┤\n",
              "│ conv2d_8 (\u001b[38;5;33mConv2D\u001b[0m)               │ (\u001b[38;5;45mNone\u001b[0m, \u001b[38;5;34m24\u001b[0m, \u001b[38;5;34m24\u001b[0m, \u001b[38;5;34m128\u001b[0m)    │       \u001b[38;5;34m131,200\u001b[0m │\n",
              "├─────────────────────────────────┼────────────────────────┼───────────────┤\n",
              "│ batch_normalization_7           │ (\u001b[38;5;45mNone\u001b[0m, \u001b[38;5;34m24\u001b[0m, \u001b[38;5;34m24\u001b[0m, \u001b[38;5;34m128\u001b[0m)    │           \u001b[38;5;34m512\u001b[0m │\n",
              "│ (\u001b[38;5;33mBatchNormalization\u001b[0m)            │                        │               │\n",
              "├─────────────────────────────────┼────────────────────────┼───────────────┤\n",
              "│ leaky_re_lu_7 (\u001b[38;5;33mLeakyReLU\u001b[0m)       │ (\u001b[38;5;45mNone\u001b[0m, \u001b[38;5;34m24\u001b[0m, \u001b[38;5;34m24\u001b[0m, \u001b[38;5;34m128\u001b[0m)    │             \u001b[38;5;34m0\u001b[0m │\n",
              "├─────────────────────────────────┼────────────────────────┼───────────────┤\n",
              "│ max_pooling2d_7 (\u001b[38;5;33mMaxPooling2D\u001b[0m)  │ (\u001b[38;5;45mNone\u001b[0m, \u001b[38;5;34m12\u001b[0m, \u001b[38;5;34m12\u001b[0m, \u001b[38;5;34m128\u001b[0m)    │             \u001b[38;5;34m0\u001b[0m │\n",
              "├─────────────────────────────────┼────────────────────────┼───────────────┤\n",
              "│ conv2d_9 (\u001b[38;5;33mConv2D\u001b[0m)               │ (\u001b[38;5;45mNone\u001b[0m, \u001b[38;5;34m12\u001b[0m, \u001b[38;5;34m12\u001b[0m, \u001b[38;5;34m64\u001b[0m)     │        \u001b[38;5;34m32,832\u001b[0m │\n",
              "├─────────────────────────────────┼────────────────────────┼───────────────┤\n",
              "│ batch_normalization_8           │ (\u001b[38;5;45mNone\u001b[0m, \u001b[38;5;34m12\u001b[0m, \u001b[38;5;34m12\u001b[0m, \u001b[38;5;34m64\u001b[0m)     │           \u001b[38;5;34m256\u001b[0m │\n",
              "│ (\u001b[38;5;33mBatchNormalization\u001b[0m)            │                        │               │\n",
              "├─────────────────────────────────┼────────────────────────┼───────────────┤\n",
              "│ leaky_re_lu_8 (\u001b[38;5;33mLeakyReLU\u001b[0m)       │ (\u001b[38;5;45mNone\u001b[0m, \u001b[38;5;34m12\u001b[0m, \u001b[38;5;34m12\u001b[0m, \u001b[38;5;34m64\u001b[0m)     │             \u001b[38;5;34m0\u001b[0m │\n",
              "├─────────────────────────────────┼────────────────────────┼───────────────┤\n",
              "│ max_pooling2d_8 (\u001b[38;5;33mMaxPooling2D\u001b[0m)  │ (\u001b[38;5;45mNone\u001b[0m, \u001b[38;5;34m6\u001b[0m, \u001b[38;5;34m6\u001b[0m, \u001b[38;5;34m64\u001b[0m)       │             \u001b[38;5;34m0\u001b[0m │\n",
              "├─────────────────────────────────┼────────────────────────┼───────────────┤\n",
              "│ conv2d_10 (\u001b[38;5;33mConv2D\u001b[0m)              │ (\u001b[38;5;45mNone\u001b[0m, \u001b[38;5;34m5\u001b[0m, \u001b[38;5;34m5\u001b[0m, \u001b[38;5;34m32\u001b[0m)       │         \u001b[38;5;34m8,224\u001b[0m │\n",
              "├─────────────────────────────────┼────────────────────────┼───────────────┤\n",
              "│ flatten_1 (\u001b[38;5;33mFlatten\u001b[0m)             │ (\u001b[38;5;45mNone\u001b[0m, \u001b[38;5;34m800\u001b[0m)            │             \u001b[38;5;34m0\u001b[0m │\n",
              "├─────────────────────────────────┼────────────────────────┼───────────────┤\n",
              "│ dense_3 (\u001b[38;5;33mDense\u001b[0m)                 │ (\u001b[38;5;45mNone\u001b[0m, \u001b[38;5;34m512\u001b[0m)            │       \u001b[38;5;34m410,112\u001b[0m │\n",
              "├─────────────────────────────────┼────────────────────────┼───────────────┤\n",
              "│ dense_4 (\u001b[38;5;33mDense\u001b[0m)                 │ (\u001b[38;5;45mNone\u001b[0m, \u001b[38;5;34m128\u001b[0m)            │        \u001b[38;5;34m65,664\u001b[0m │\n",
              "├─────────────────────────────────┼────────────────────────┼───────────────┤\n",
              "│ dense_5 (\u001b[38;5;33mDense\u001b[0m)                 │ (\u001b[38;5;45mNone\u001b[0m, \u001b[38;5;34m4\u001b[0m)              │           \u001b[38;5;34m516\u001b[0m │\n",
              "└─────────────────────────────────┴────────────────────────┴───────────────┘\n"
            ]
          },
          "metadata": {},
          "output_type": "display_data"
        },
        {
          "data": {
            "text/html": [
              "<pre style=\"white-space:pre;overflow-x:auto;line-height:normal;font-family:Menlo,'DejaVu Sans Mono',consolas,'Courier New',monospace\"><span style=\"font-weight: bold\"> Total params: </span><span style=\"color: #00af00; text-decoration-color: #00af00\">651,620</span> (2.49 MB)\n",
              "</pre>\n"
            ],
            "text/plain": [
              "\u001b[1m Total params: \u001b[0m\u001b[38;5;34m651,620\u001b[0m (2.49 MB)\n"
            ]
          },
          "metadata": {},
          "output_type": "display_data"
        },
        {
          "data": {
            "text/html": [
              "<pre style=\"white-space:pre;overflow-x:auto;line-height:normal;font-family:Menlo,'DejaVu Sans Mono',consolas,'Courier New',monospace\"><span style=\"font-weight: bold\"> Trainable params: </span><span style=\"color: #00af00; text-decoration-color: #00af00\">650,724</span> (2.48 MB)\n",
              "</pre>\n"
            ],
            "text/plain": [
              "\u001b[1m Trainable params: \u001b[0m\u001b[38;5;34m650,724\u001b[0m (2.48 MB)\n"
            ]
          },
          "metadata": {},
          "output_type": "display_data"
        },
        {
          "data": {
            "text/html": [
              "<pre style=\"white-space:pre;overflow-x:auto;line-height:normal;font-family:Menlo,'DejaVu Sans Mono',consolas,'Courier New',monospace\"><span style=\"font-weight: bold\"> Non-trainable params: </span><span style=\"color: #00af00; text-decoration-color: #00af00\">896</span> (3.50 KB)\n",
              "</pre>\n"
            ],
            "text/plain": [
              "\u001b[1m Non-trainable params: \u001b[0m\u001b[38;5;34m896\u001b[0m (3.50 KB)\n"
            ]
          },
          "metadata": {},
          "output_type": "display_data"
        }
      ],
      "source": [
        "# Initializing a Sequential Model\n",
        "model_2 = Sequential()\n",
        "\n",
        "# Add the first Convolutional block\n",
        "model_2.add(Conv2D(filters = 256, kernel_size = (2, 2), padding = \"same\", input_shape = (48, 48, 1), activation='relu'))\n",
        "model_2.add(BatchNormalization())\n",
        "model_2.add(LeakyReLU(0.1))\n",
        "model_2.add(MaxPooling2D(pool_size = (2, 2)))\n",
        "\n",
        "# Add the second Convolutional block\n",
        "model_2.add(Conv2D(filters = 128, kernel_size = (2, 2), padding = \"same\", activation='relu'))\n",
        "model_2.add(BatchNormalization())\n",
        "model_2.add(LeakyReLU(0.1))\n",
        "model_2.add(MaxPooling2D(pool_size = (2, 2)))\n",
        "\n",
        "# Add the third Convolutional block\n",
        "model_2.add(Conv2D(filters = 64, kernel_size = (2, 2), padding = \"same\", activation='relu'))\n",
        "model_2.add(BatchNormalization())\n",
        "model_2.add(LeakyReLU(0.1))\n",
        "model_2.add(MaxPooling2D(pool_size = (2, 2)))\n",
        "\n",
        "# Add the fourth Convolutional block\n",
        "model_2.add(Conv2D(filters = 32, kernel_size = (2, 2)))\n",
        "\n",
        "# Add the Flatten layer\n",
        "model_2.add(Flatten())\n",
        "\n",
        "# Add the first Dense layer\n",
        "model_2.add(Dense(512, activation='relu'))\n",
        "\n",
        "# Dense layer\n",
        "model_2.add(Dense(128, activation='relu'))\n",
        "\n",
        "# Add the Final layer\n",
        "model_2.add(Dense(4, activation='softmax'))\n",
        "model_2.summary()"
      ]
    },
    {
      "cell_type": "markdown",
      "metadata": {
        "id": "T2d7wYiTk5uW"
      },
      "source": [
        "### **Compiling and Training the Model**"
      ]
    },
    {
      "cell_type": "code",
      "execution_count": 232,
      "metadata": {},
      "outputs": [],
      "source": [
        "model_2.compile(optimizer = Adam(learning_rate = 0.001), loss = 'categorical_crossentropy', metrics = ['accuracy'])"
      ]
    },
    {
      "cell_type": "code",
      "execution_count": 233,
      "metadata": {
        "id": "5f79add6"
      },
      "outputs": [],
      "source": [
        "from keras.callbacks import ModelCheckpoint, EarlyStopping, ReduceLROnPlateau\n",
        "model_2_file = os.path.abspath(out_directory + \"/model_2_epoch_{epoch}max_accuracy.keras\")\n",
        "max_accuracy = ModelCheckpoint( model_2_file,\n",
        "                                monitor='val_accuracy',\n",
        "                                verbose=1,\n",
        "                                save_best_only=True,\n",
        "                                mode='max')\n",
        "\n",
        "early_stopping = EarlyStopping( monitor = 'val_loss',\n",
        "                                min_delta = 0,\n",
        "                                patience = 3,\n",
        "                                verbose = 1,\n",
        "                                restore_best_weights = True)\n",
        "\n",
        "reduce_learningrate = ReduceLROnPlateau(monitor = 'val_loss',\n",
        "                                        factor = 0.2,\n",
        "                                        patience = 3,\n",
        "                                        verbose = 1,\n",
        "                                        min_delta = 0.0001)\n",
        "\n",
        "callbacks_list = [early_stopping, max_accuracy, reduce_learningrate]"
      ]
    },
    {
      "cell_type": "code",
      "execution_count": 235,
      "metadata": {},
      "outputs": [
        {
          "name": "stdout",
          "output_type": "stream",
          "text": [
            "Epoch 1/20\n",
            "\u001b[1m473/473\u001b[0m \u001b[32m━━━━━━━━━━━━━━━━━━━━\u001b[0m\u001b[37m\u001b[0m \u001b[1m0s\u001b[0m 438ms/step - accuracy: 0.4700 - loss: 1.2365\n",
            "Epoch 1: val_accuracy improved from -inf to 0.58328, saving model to D:\\GitHub\\amitprakash07\\snowflake\\temp\\sandbox\\Facial_emotion_images\\model_2_epoch_1max_accuracy.keras\n",
            "\u001b[1m473/473\u001b[0m \u001b[32m━━━━━━━━━━━━━━━━━━━━\u001b[0m\u001b[37m\u001b[0m \u001b[1m256s\u001b[0m 477ms/step - accuracy: 0.4702 - loss: 1.2361 - val_accuracy: 0.5833 - val_loss: 1.0044 - learning_rate: 0.0010\n",
            "Epoch 2/20\n",
            "\u001b[1m473/473\u001b[0m \u001b[32m━━━━━━━━━━━━━━━━━━━━\u001b[0m\u001b[37m\u001b[0m \u001b[1m0s\u001b[0m 376ms/step - accuracy: 0.6214 - loss: 0.8925\n",
            "Epoch 2: val_accuracy did not improve from 0.58328\n",
            "\u001b[1m473/473\u001b[0m \u001b[32m━━━━━━━━━━━━━━━━━━━━\u001b[0m\u001b[37m\u001b[0m \u001b[1m189s\u001b[0m 400ms/step - accuracy: 0.6214 - loss: 0.8924 - val_accuracy: 0.5590 - val_loss: 1.0303 - learning_rate: 0.0010\n",
            "Epoch 3/20\n",
            "\u001b[1m473/473\u001b[0m \u001b[32m━━━━━━━━━━━━━━━━━━━━\u001b[0m\u001b[37m\u001b[0m \u001b[1m0s\u001b[0m 383ms/step - accuracy: 0.6734 - loss: 0.7688\n",
            "Epoch 3: val_accuracy improved from 0.58328 to 0.64436, saving model to D:\\GitHub\\amitprakash07\\snowflake\\temp\\sandbox\\Facial_emotion_images\\model_2_epoch_3max_accuracy.keras\n",
            "\u001b[1m473/473\u001b[0m \u001b[32m━━━━━━━━━━━━━━━━━━━━\u001b[0m\u001b[37m\u001b[0m \u001b[1m193s\u001b[0m 409ms/step - accuracy: 0.6734 - loss: 0.7687 - val_accuracy: 0.6444 - val_loss: 0.8535 - learning_rate: 0.0010\n",
            "Epoch 4/20\n",
            "\u001b[1m473/473\u001b[0m \u001b[32m━━━━━━━━━━━━━━━━━━━━\u001b[0m\u001b[37m\u001b[0m \u001b[1m0s\u001b[0m 373ms/step - accuracy: 0.7242 - loss: 0.6657\n",
            "Epoch 4: val_accuracy did not improve from 0.64436\n",
            "\u001b[1m473/473\u001b[0m \u001b[32m━━━━━━━━━━━━━━━━━━━━\u001b[0m\u001b[37m\u001b[0m \u001b[1m188s\u001b[0m 398ms/step - accuracy: 0.7242 - loss: 0.6656 - val_accuracy: 0.6420 - val_loss: 0.8747 - learning_rate: 0.0010\n",
            "Epoch 5/20\n",
            "\u001b[1m473/473\u001b[0m \u001b[32m━━━━━━━━━━━━━━━━━━━━\u001b[0m\u001b[37m\u001b[0m \u001b[1m0s\u001b[0m 367ms/step - accuracy: 0.7663 - loss: 0.5660\n",
            "Epoch 5: val_accuracy improved from 0.64436 to 0.67069, saving model to D:\\GitHub\\amitprakash07\\snowflake\\temp\\sandbox\\Facial_emotion_images\\model_2_epoch_5max_accuracy.keras\n",
            "\u001b[1m473/473\u001b[0m \u001b[32m━━━━━━━━━━━━━━━━━━━━\u001b[0m\u001b[37m\u001b[0m \u001b[1m185s\u001b[0m 392ms/step - accuracy: 0.7663 - loss: 0.5659 - val_accuracy: 0.6707 - val_loss: 0.9005 - learning_rate: 0.0010\n",
            "Epoch 6/20\n",
            "\u001b[1m473/473\u001b[0m \u001b[32m━━━━━━━━━━━━━━━━━━━━\u001b[0m\u001b[37m\u001b[0m \u001b[1m0s\u001b[0m 380ms/step - accuracy: 0.8097 - loss: 0.4726\n",
            "Epoch 6: val_accuracy did not improve from 0.67069\n",
            "\n",
            "Epoch 6: ReduceLROnPlateau reducing learning rate to 0.00020000000949949026.\n",
            "\u001b[1m473/473\u001b[0m \u001b[32m━━━━━━━━━━━━━━━━━━━━\u001b[0m\u001b[37m\u001b[0m \u001b[1m190s\u001b[0m 401ms/step - accuracy: 0.8097 - loss: 0.4725 - val_accuracy: 0.6287 - val_loss: 1.1885 - learning_rate: 0.0010\n",
            "Epoch 6: early stopping\n",
            "Restoring model weights from the end of the best epoch: 3.\n"
          ]
        }
      ],
      "source": [
        "epochs = 20\n",
        "history = model_2.fit(training_data, validation_data = validation_data, epochs = epochs, callbacks = callbacks_list)"
      ]
    },
    {
      "cell_type": "markdown",
      "metadata": {
        "id": "VeiN9vSy744e"
      },
      "source": [
        "### **Evaluating the Model on the Test Set**"
      ]
    },
    {
      "cell_type": "code",
      "execution_count": 238,
      "metadata": {
        "id": "YBNeB-Em7xBy"
      },
      "outputs": [
        {
          "name": "stdout",
          "output_type": "stream",
          "text": [
            "4/4 - 0s - 97ms/step - accuracy: 0.6094 - loss: 0.8819\n"
          ]
        }
      ],
      "source": [
        "accuracy = model_2.evaluate(testing_data, verbose=2)"
      ]
    },
    {
      "cell_type": "code",
      "execution_count": 239,
      "metadata": {},
      "outputs": [
        {
          "name": "stdout",
          "output_type": "stream",
          "text": [
            "\u001b[1m4/4\u001b[0m \u001b[32m━━━━━━━━━━━━━━━━━━━━\u001b[0m\u001b[37m\u001b[0m \u001b[1m2s\u001b[0m 75ms/step\n"
          ]
        }
      ],
      "source": [
        "model_predictions = model_2.predict(testing_data)"
      ]
    },
    {
      "cell_type": "code",
      "execution_count": 240,
      "metadata": {},
      "outputs": [],
      "source": [
        "y_pred_arg=np.argmax(model_predictions, axis=1)"
      ]
    },
    {
      "cell_type": "code",
      "execution_count": 241,
      "metadata": {},
      "outputs": [
        {
          "data": {
            "image/png": "[encoded data removed]",
            "text/plain": [
              "<Figure size 1000x800 with 2 Axes>"
            ]
          },
          "metadata": {},
          "output_type": "display_data"
        }
      ],
      "source": [
        "import tensorflow.math as tf_math\n",
        "\n",
        "# Plotting the Confusion Matrix using confusion matrix() function which is also predefined tensorflow module\n",
        "confusion_matrix_out = tf_math.confusion_matrix(testing_label_decoded,y_pred_arg)\n",
        "f, ax = plt.subplots(figsize=(10, 8))\n",
        "sns.heatmap(\n",
        "    confusion_matrix_out,\n",
        "    annot=True,\n",
        "    linewidths=.4,\n",
        "    fmt=\"d\",\n",
        "    square=True,\n",
        "    ax=ax\n",
        ")\n",
        "plt.show()"
      ]
    },
    {
      "cell_type": "markdown",
      "metadata": {},
      "source": [
        "# Same model with RGB"
      ]
    },
    {
      "cell_type": "code",
      "execution_count": 266,
      "metadata": {},
      "outputs": [],
      "source": [
        "tf.keras.backend.clear_session()\n",
        "\n",
        "np.random.seed(42)\n",
        "import random\n",
        "random.seed(20)\n",
        "tf.random.set_seed(20)"
      ]
    },
    {
      "cell_type": "code",
      "execution_count": 267,
      "metadata": {},
      "outputs": [
        {
          "name": "stdout",
          "output_type": "stream",
          "text": [
            "Found 15109 files belonging to 4 classes.\n",
            "Found 128 files belonging to 4 classes.\n",
            "Found 4977 files belonging to 4 classes.\n"
          ]
        }
      ],
      "source": [
        "## Gather RGB dataset\n",
        "rgb_training_data = get_data_set(folder_path + \"train/\", 'rgb', 32, 48)\n",
        "rgb_test_data = get_data_set(folder_path + \"test/\", 'rgb', 32, 48)\n",
        "rgb_validation_data = get_data_set(folder_path + \"validation/\", 'rgb', 32, 48)"
      ]
    },
    {
      "cell_type": "code",
      "execution_count": 276,
      "metadata": {},
      "outputs": [
        {
          "name": "stdout",
          "output_type": "stream",
          "text": [
            "[3 0 2 1 0 2 3 3 0 3 0 3 2 0 3 1 3 0 3 2 3 1 0 2 0 0 3 2 0 2 3 3 2 1 0 3 2\n",
            " 0 0 2 2 1 1 0 0 1 0 1 0 1 2 1 3 1 3 3 1 0 3 1 3 1 1 1 3 0 2 2 1 2 2 3 1 1\n",
            " 2 1 3 1 2 0 0 3 3 3 0 2 0 1 1 0 0 2 2 2 1 1 2 3 2 2 1 0 0 0 1 0 3 3 0 1 1\n",
            " 3 3 2 2 2 2 2 3 1 0 3 0 1 2 1 2 3]\n"
          ]
        },
        {
          "data": {
            "text/plain": [
              "(128,)"
            ]
          },
          "execution_count": 276,
          "metadata": {},
          "output_type": "execute_result"
        }
      ],
      "source": [
        "rgb_testing_label_decoded = np.zeros((128,), dtype='int32')\n",
        "iter = 0\n",
        "for image_batch, label_batch in rgb_test_data:\n",
        "    for label in label_batch:\n",
        "        rgb_testing_label_decoded[iter] = np.argmax(label)\n",
        "        iter += 1\n",
        "\n",
        "print(rgb_testing_label_decoded)\n",
        "rgb_testing_label_decoded.shape"
      ]
    },
    {
      "cell_type": "code",
      "execution_count": 259,
      "metadata": {},
      "outputs": [
        {
          "name": "stdout",
          "output_type": "stream",
          "text": [
            "(32, 48, 48, 3)\n",
            "(32, 4)\n",
            "(32, 48, 48, 3)\n",
            "(32, 4)\n",
            "(32, 48, 48, 3)\n",
            "(32, 4)\n",
            "(32, 48, 48, 3)\n",
            "(32, 4)\n",
            "(32, 48, 48, 3)\n",
            "(32, 4)\n",
            "(32, 48, 48, 3)\n",
            "(32, 4)\n",
            "(32, 48, 48, 3)\n",
            "(32, 4)\n",
            "(32, 48, 48, 3)\n",
            "(32, 4)\n",
            "(32, 48, 48, 3)\n",
            "(32, 4)\n",
            "(32, 48, 48, 3)\n",
            "(32, 4)\n",
            "(32, 48, 48, 3)\n",
            "(32, 4)\n",
            "(32, 48, 48, 3)\n",
            "(32, 4)\n",
            "(32, 48, 48, 3)\n",
            "(32, 4)\n",
            "(32, 48, 48, 3)\n",
            "(32, 4)\n",
            "(32, 48, 48, 3)\n",
            "(32, 4)\n",
            "(32, 48, 48, 3)\n",
            "(32, 4)\n",
            "(32, 48, 48, 3)\n",
            "(32, 4)\n",
            "(32, 48, 48, 3)\n",
            "(32, 4)\n",
            "(32, 48, 48, 3)\n",
            "(32, 4)\n",
            "(32, 48, 48, 3)\n",
            "(32, 4)\n",
            "(32, 48, 48, 3)\n",
            "(32, 4)\n",
            "(32, 48, 48, 3)\n",
            "(32, 4)\n",
            "(32, 48, 48, 3)\n",
            "(32, 4)\n",
            "(32, 48, 48, 3)\n",
            "(32, 4)\n",
            "(32, 48, 48, 3)\n",
            "(32, 4)\n",
            "(32, 48, 48, 3)\n",
            "(32, 4)\n",
            "(32, 48, 48, 3)\n",
            "(32, 4)\n",
            "(32, 48, 48, 3)\n",
            "(32, 4)\n",
            "(32, 48, 48, 3)\n",
            "(32, 4)\n",
            "(32, 48, 48, 3)\n",
            "(32, 4)\n",
            "(32, 48, 48, 3)\n",
            "(32, 4)\n",
            "(32, 48, 48, 3)\n",
            "(32, 4)\n",
            "(32, 48, 48, 3)\n",
            "(32, 4)\n",
            "(32, 48, 48, 3)\n",
            "(32, 4)\n",
            "(32, 48, 48, 3)\n",
            "(32, 4)\n",
            "(32, 48, 48, 3)\n",
            "(32, 4)\n",
            "(32, 48, 48, 3)\n",
            "(32, 4)\n",
            "(32, 48, 48, 3)\n",
            "(32, 4)\n",
            "(32, 48, 48, 3)\n",
            "(32, 4)\n",
            "(32, 48, 48, 3)\n",
            "(32, 4)\n",
            "(32, 48, 48, 3)\n",
            "(32, 4)\n",
            "(32, 48, 48, 3)\n",
            "(32, 4)\n",
            "(32, 48, 48, 3)\n",
            "(32, 4)\n",
            "(32, 48, 48, 3)\n",
            "(32, 4)\n",
            "(32, 48, 48, 3)\n",
            "(32, 4)\n",
            "(32, 48, 48, 3)\n",
            "(32, 4)\n",
            "(32, 48, 48, 3)\n",
            "(32, 4)\n",
            "(32, 48, 48, 3)\n",
            "(32, 4)\n",
            "(32, 48, 48, 3)\n",
            "(32, 4)\n",
            "(32, 48, 48, 3)\n",
            "(32, 4)\n",
            "(32, 48, 48, 3)\n",
            "(32, 4)\n",
            "(32, 48, 48, 3)\n",
            "(32, 4)\n",
            "(32, 48, 48, 3)\n",
            "(32, 4)\n",
            "(32, 48, 48, 3)\n",
            "(32, 4)\n",
            "(32, 48, 48, 3)\n",
            "(32, 4)\n",
            "(32, 48, 48, 3)\n",
            "(32, 4)\n",
            "(32, 48, 48, 3)\n",
            "(32, 4)\n",
            "(32, 48, 48, 3)\n",
            "(32, 4)\n",
            "(32, 48, 48, 3)\n",
            "(32, 4)\n",
            "(32, 48, 48, 3)\n",
            "(32, 4)\n",
            "(32, 48, 48, 3)\n",
            "(32, 4)\n",
            "(32, 48, 48, 3)\n",
            "(32, 4)\n",
            "(32, 48, 48, 3)\n",
            "(32, 4)\n",
            "(32, 48, 48, 3)\n",
            "(32, 4)\n",
            "(32, 48, 48, 3)\n",
            "(32, 4)\n",
            "(32, 48, 48, 3)\n",
            "(32, 4)\n",
            "(32, 48, 48, 3)\n",
            "(32, 4)\n",
            "(32, 48, 48, 3)\n",
            "(32, 4)\n",
            "(32, 48, 48, 3)\n",
            "(32, 4)\n",
            "(32, 48, 48, 3)\n",
            "(32, 4)\n",
            "(32, 48, 48, 3)\n",
            "(32, 4)\n",
            "(32, 48, 48, 3)\n",
            "(32, 4)\n",
            "(32, 48, 48, 3)\n",
            "(32, 4)\n",
            "(32, 48, 48, 3)\n",
            "(32, 4)\n",
            "(32, 48, 48, 3)\n",
            "(32, 4)\n",
            "(32, 48, 48, 3)\n",
            "(32, 4)\n",
            "(32, 48, 48, 3)\n",
            "(32, 4)\n",
            "(32, 48, 48, 3)\n",
            "(32, 4)\n",
            "(32, 48, 48, 3)\n",
            "(32, 4)\n",
            "(32, 48, 48, 3)\n",
            "(32, 4)\n",
            "(32, 48, 48, 3)\n",
            "(32, 4)\n",
            "(32, 48, 48, 3)\n",
            "(32, 4)\n",
            "(32, 48, 48, 3)\n",
            "(32, 4)\n",
            "(32, 48, 48, 3)\n",
            "(32, 4)\n",
            "(32, 48, 48, 3)\n",
            "(32, 4)\n",
            "(32, 48, 48, 3)\n",
            "(32, 4)\n",
            "(32, 48, 48, 3)\n",
            "(32, 4)\n",
            "(32, 48, 48, 3)\n",
            "(32, 4)\n",
            "(32, 48, 48, 3)\n",
            "(32, 4)\n",
            "(32, 48, 48, 3)\n",
            "(32, 4)\n",
            "(32, 48, 48, 3)\n",
            "(32, 4)\n",
            "(32, 48, 48, 3)\n",
            "(32, 4)\n",
            "(32, 48, 48, 3)\n",
            "(32, 4)\n",
            "(32, 48, 48, 3)\n",
            "(32, 4)\n",
            "(32, 48, 48, 3)\n",
            "(32, 4)\n",
            "(32, 48, 48, 3)\n",
            "(32, 4)\n",
            "(32, 48, 48, 3)\n",
            "(32, 4)\n",
            "(32, 48, 48, 3)\n",
            "(32, 4)\n",
            "(32, 48, 48, 3)\n",
            "(32, 4)\n",
            "(32, 48, 48, 3)\n",
            "(32, 4)\n",
            "(32, 48, 48, 3)\n",
            "(32, 4)\n",
            "(32, 48, 48, 3)\n",
            "(32, 4)\n",
            "(32, 48, 48, 3)\n",
            "(32, 4)\n",
            "(32, 48, 48, 3)\n",
            "(32, 4)\n",
            "(32, 48, 48, 3)\n",
            "(32, 4)\n",
            "(32, 48, 48, 3)\n",
            "(32, 4)\n",
            "(32, 48, 48, 3)\n",
            "(32, 4)\n",
            "(32, 48, 48, 3)\n",
            "(32, 4)\n",
            "(32, 48, 48, 3)\n",
            "(32, 4)\n",
            "(32, 48, 48, 3)\n",
            "(32, 4)\n",
            "(32, 48, 48, 3)\n",
            "(32, 4)\n",
            "(32, 48, 48, 3)\n",
            "(32, 4)\n",
            "(32, 48, 48, 3)\n",
            "(32, 4)\n",
            "(32, 48, 48, 3)\n",
            "(32, 4)\n",
            "(32, 48, 48, 3)\n",
            "(32, 4)\n",
            "(32, 48, 48, 3)\n",
            "(32, 4)\n",
            "(32, 48, 48, 3)\n",
            "(32, 4)\n",
            "(32, 48, 48, 3)\n",
            "(32, 4)\n",
            "(32, 48, 48, 3)\n",
            "(32, 4)\n",
            "(32, 48, 48, 3)\n",
            "(32, 4)\n",
            "(32, 48, 48, 3)\n",
            "(32, 4)\n",
            "(32, 48, 48, 3)\n",
            "(32, 4)\n",
            "(32, 48, 48, 3)\n",
            "(32, 4)\n",
            "(32, 48, 48, 3)\n",
            "(32, 4)\n",
            "(32, 48, 48, 3)\n",
            "(32, 4)\n",
            "(32, 48, 48, 3)\n",
            "(32, 4)\n",
            "(32, 48, 48, 3)\n",
            "(32, 4)\n",
            "(32, 48, 48, 3)\n",
            "(32, 4)\n",
            "(32, 48, 48, 3)\n",
            "(32, 4)\n",
            "(32, 48, 48, 3)\n",
            "(32, 4)\n",
            "(32, 48, 48, 3)\n",
            "(32, 4)\n",
            "(32, 48, 48, 3)\n",
            "(32, 4)\n",
            "(32, 48, 48, 3)\n",
            "(32, 4)\n",
            "(32, 48, 48, 3)\n",
            "(32, 4)\n",
            "(32, 48, 48, 3)\n",
            "(32, 4)\n",
            "(32, 48, 48, 3)\n",
            "(32, 4)\n",
            "(32, 48, 48, 3)\n",
            "(32, 4)\n",
            "(32, 48, 48, 3)\n",
            "(32, 4)\n",
            "(32, 48, 48, 3)\n",
            "(32, 4)\n",
            "(32, 48, 48, 3)\n",
            "(32, 4)\n",
            "(32, 48, 48, 3)\n",
            "(32, 4)\n",
            "(32, 48, 48, 3)\n",
            "(32, 4)\n",
            "(32, 48, 48, 3)\n",
            "(32, 4)\n",
            "(32, 48, 48, 3)\n",
            "(32, 4)\n",
            "(32, 48, 48, 3)\n",
            "(32, 4)\n",
            "(32, 48, 48, 3)\n",
            "(32, 4)\n",
            "(32, 48, 48, 3)\n",
            "(32, 4)\n",
            "(32, 48, 48, 3)\n",
            "(32, 4)\n",
            "(32, 48, 48, 3)\n",
            "(32, 4)\n",
            "(32, 48, 48, 3)\n",
            "(32, 4)\n",
            "(32, 48, 48, 3)\n",
            "(32, 4)\n",
            "(32, 48, 48, 3)\n",
            "(32, 4)\n",
            "(32, 48, 48, 3)\n",
            "(32, 4)\n",
            "(32, 48, 48, 3)\n",
            "(32, 4)\n",
            "(32, 48, 48, 3)\n",
            "(32, 4)\n",
            "(32, 48, 48, 3)\n",
            "(32, 4)\n",
            "(32, 48, 48, 3)\n",
            "(32, 4)\n",
            "(32, 48, 48, 3)\n",
            "(32, 4)\n",
            "(32, 48, 48, 3)\n",
            "(32, 4)\n",
            "(32, 48, 48, 3)\n",
            "(32, 4)\n",
            "(32, 48, 48, 3)\n",
            "(32, 4)\n",
            "(32, 48, 48, 3)\n",
            "(32, 4)\n",
            "(32, 48, 48, 3)\n",
            "(32, 4)\n",
            "(32, 48, 48, 3)\n",
            "(32, 4)\n",
            "(32, 48, 48, 3)\n",
            "(32, 4)\n",
            "(32, 48, 48, 3)\n",
            "(32, 4)\n",
            "(32, 48, 48, 3)\n",
            "(32, 4)\n",
            "(32, 48, 48, 3)\n",
            "(32, 4)\n",
            "(32, 48, 48, 3)\n",
            "(32, 4)\n",
            "(32, 48, 48, 3)\n",
            "(32, 4)\n",
            "(32, 48, 48, 3)\n",
            "(32, 4)\n",
            "(32, 48, 48, 3)\n",
            "(32, 4)\n",
            "(32, 48, 48, 3)\n",
            "(32, 4)\n",
            "(32, 48, 48, 3)\n",
            "(32, 4)\n",
            "(32, 48, 48, 3)\n",
            "(32, 4)\n",
            "(32, 48, 48, 3)\n",
            "(32, 4)\n",
            "(32, 48, 48, 3)\n",
            "(32, 4)\n",
            "(32, 48, 48, 3)\n",
            "(32, 4)\n",
            "(32, 48, 48, 3)\n",
            "(32, 4)\n",
            "(32, 48, 48, 3)\n",
            "(32, 4)\n",
            "(32, 48, 48, 3)\n",
            "(32, 4)\n",
            "(32, 48, 48, 3)\n",
            "(32, 4)\n",
            "(32, 48, 48, 3)\n",
            "(32, 4)\n",
            "(32, 48, 48, 3)\n",
            "(32, 4)\n",
            "(32, 48, 48, 3)\n",
            "(32, 4)\n",
            "(32, 48, 48, 3)\n",
            "(32, 4)\n",
            "(32, 48, 48, 3)\n",
            "(32, 4)\n",
            "(32, 48, 48, 3)\n",
            "(32, 4)\n",
            "(32, 48, 48, 3)\n",
            "(32, 4)\n",
            "(32, 48, 48, 3)\n",
            "(32, 4)\n",
            "(32, 48, 48, 3)\n",
            "(32, 4)\n",
            "(32, 48, 48, 3)\n",
            "(32, 4)\n",
            "(32, 48, 48, 3)\n",
            "(32, 4)\n",
            "(32, 48, 48, 3)\n",
            "(32, 4)\n",
            "(32, 48, 48, 3)\n",
            "(32, 4)\n",
            "(32, 48, 48, 3)\n",
            "(32, 4)\n",
            "(32, 48, 48, 3)\n",
            "(32, 4)\n",
            "(32, 48, 48, 3)\n",
            "(32, 4)\n",
            "(32, 48, 48, 3)\n",
            "(32, 4)\n",
            "(32, 48, 48, 3)\n",
            "(32, 4)\n",
            "(32, 48, 48, 3)\n",
            "(32, 4)\n",
            "(32, 48, 48, 3)\n",
            "(32, 4)\n",
            "(32, 48, 48, 3)\n",
            "(32, 4)\n",
            "(32, 48, 48, 3)\n",
            "(32, 4)\n",
            "(32, 48, 48, 3)\n",
            "(32, 4)\n",
            "(32, 48, 48, 3)\n",
            "(32, 4)\n",
            "(32, 48, 48, 3)\n",
            "(32, 4)\n",
            "(32, 48, 48, 3)\n",
            "(32, 4)\n",
            "(32, 48, 48, 3)\n",
            "(32, 4)\n",
            "(32, 48, 48, 3)\n",
            "(32, 4)\n",
            "(32, 48, 48, 3)\n",
            "(32, 4)\n",
            "(32, 48, 48, 3)\n",
            "(32, 4)\n",
            "(32, 48, 48, 3)\n",
            "(32, 4)\n",
            "(32, 48, 48, 3)\n",
            "(32, 4)\n",
            "(32, 48, 48, 3)\n",
            "(32, 4)\n",
            "(32, 48, 48, 3)\n",
            "(32, 4)\n",
            "(32, 48, 48, 3)\n",
            "(32, 4)\n",
            "(32, 48, 48, 3)\n",
            "(32, 4)\n",
            "(32, 48, 48, 3)\n",
            "(32, 4)\n",
            "(32, 48, 48, 3)\n",
            "(32, 4)\n",
            "(32, 48, 48, 3)\n",
            "(32, 4)\n",
            "(32, 48, 48, 3)\n",
            "(32, 4)\n",
            "(32, 48, 48, 3)\n",
            "(32, 4)\n",
            "(32, 48, 48, 3)\n",
            "(32, 4)\n",
            "(32, 48, 48, 3)\n",
            "(32, 4)\n",
            "(32, 48, 48, 3)\n",
            "(32, 4)\n",
            "(32, 48, 48, 3)\n",
            "(32, 4)\n",
            "(32, 48, 48, 3)\n",
            "(32, 4)\n",
            "(32, 48, 48, 3)\n",
            "(32, 4)\n",
            "(32, 48, 48, 3)\n",
            "(32, 4)\n",
            "(32, 48, 48, 3)\n",
            "(32, 4)\n",
            "(32, 48, 48, 3)\n",
            "(32, 4)\n",
            "(32, 48, 48, 3)\n",
            "(32, 4)\n",
            "(32, 48, 48, 3)\n",
            "(32, 4)\n",
            "(32, 48, 48, 3)\n",
            "(32, 4)\n",
            "(32, 48, 48, 3)\n",
            "(32, 4)\n",
            "(32, 48, 48, 3)\n",
            "(32, 4)\n",
            "(32, 48, 48, 3)\n",
            "(32, 4)\n",
            "(32, 48, 48, 3)\n",
            "(32, 4)\n",
            "(32, 48, 48, 3)\n",
            "(32, 4)\n",
            "(32, 48, 48, 3)\n",
            "(32, 4)\n",
            "(32, 48, 48, 3)\n",
            "(32, 4)\n",
            "(32, 48, 48, 3)\n",
            "(32, 4)\n",
            "(32, 48, 48, 3)\n",
            "(32, 4)\n",
            "(32, 48, 48, 3)\n",
            "(32, 4)\n",
            "(32, 48, 48, 3)\n",
            "(32, 4)\n",
            "(32, 48, 48, 3)\n",
            "(32, 4)\n",
            "(32, 48, 48, 3)\n",
            "(32, 4)\n",
            "(32, 48, 48, 3)\n",
            "(32, 4)\n",
            "(32, 48, 48, 3)\n",
            "(32, 4)\n",
            "(32, 48, 48, 3)\n",
            "(32, 4)\n",
            "(32, 48, 48, 3)\n",
            "(32, 4)\n",
            "(32, 48, 48, 3)\n",
            "(32, 4)\n",
            "(32, 48, 48, 3)\n",
            "(32, 4)\n",
            "(32, 48, 48, 3)\n",
            "(32, 4)\n",
            "(32, 48, 48, 3)\n",
            "(32, 4)\n",
            "(32, 48, 48, 3)\n",
            "(32, 4)\n",
            "(32, 48, 48, 3)\n",
            "(32, 4)\n",
            "(32, 48, 48, 3)\n",
            "(32, 4)\n",
            "(32, 48, 48, 3)\n",
            "(32, 4)\n",
            "(32, 48, 48, 3)\n",
            "(32, 4)\n",
            "(32, 48, 48, 3)\n",
            "(32, 4)\n",
            "(32, 48, 48, 3)\n",
            "(32, 4)\n",
            "(32, 48, 48, 3)\n",
            "(32, 4)\n",
            "(32, 48, 48, 3)\n",
            "(32, 4)\n",
            "(32, 48, 48, 3)\n",
            "(32, 4)\n",
            "(32, 48, 48, 3)\n",
            "(32, 4)\n",
            "(32, 48, 48, 3)\n",
            "(32, 4)\n",
            "(32, 48, 48, 3)\n",
            "(32, 4)\n",
            "(32, 48, 48, 3)\n",
            "(32, 4)\n",
            "(32, 48, 48, 3)\n",
            "(32, 4)\n",
            "(32, 48, 48, 3)\n",
            "(32, 4)\n",
            "(32, 48, 48, 3)\n",
            "(32, 4)\n",
            "(32, 48, 48, 3)\n",
            "(32, 4)\n",
            "(32, 48, 48, 3)\n",
            "(32, 4)\n",
            "(32, 48, 48, 3)\n",
            "(32, 4)\n",
            "(32, 48, 48, 3)\n",
            "(32, 4)\n",
            "(32, 48, 48, 3)\n",
            "(32, 4)\n",
            "(32, 48, 48, 3)\n",
            "(32, 4)\n",
            "(32, 48, 48, 3)\n",
            "(32, 4)\n",
            "(32, 48, 48, 3)\n",
            "(32, 4)\n",
            "(32, 48, 48, 3)\n",
            "(32, 4)\n",
            "(32, 48, 48, 3)\n",
            "(32, 4)\n",
            "(32, 48, 48, 3)\n",
            "(32, 4)\n",
            "(32, 48, 48, 3)\n",
            "(32, 4)\n",
            "(32, 48, 48, 3)\n",
            "(32, 4)\n",
            "(32, 48, 48, 3)\n",
            "(32, 4)\n",
            "(32, 48, 48, 3)\n",
            "(32, 4)\n",
            "(32, 48, 48, 3)\n",
            "(32, 4)\n",
            "(32, 48, 48, 3)\n",
            "(32, 4)\n",
            "(32, 48, 48, 3)\n",
            "(32, 4)\n",
            "(32, 48, 48, 3)\n",
            "(32, 4)\n",
            "(32, 48, 48, 3)\n",
            "(32, 4)\n",
            "(32, 48, 48, 3)\n",
            "(32, 4)\n",
            "(32, 48, 48, 3)\n",
            "(32, 4)\n",
            "(32, 48, 48, 3)\n",
            "(32, 4)\n",
            "(32, 48, 48, 3)\n",
            "(32, 4)\n",
            "(32, 48, 48, 3)\n",
            "(32, 4)\n",
            "(32, 48, 48, 3)\n",
            "(32, 4)\n",
            "(32, 48, 48, 3)\n",
            "(32, 4)\n",
            "(32, 48, 48, 3)\n",
            "(32, 4)\n",
            "(32, 48, 48, 3)\n",
            "(32, 4)\n",
            "(32, 48, 48, 3)\n",
            "(32, 4)\n",
            "(32, 48, 48, 3)\n",
            "(32, 4)\n",
            "(32, 48, 48, 3)\n",
            "(32, 4)\n",
            "(32, 48, 48, 3)\n",
            "(32, 4)\n",
            "(32, 48, 48, 3)\n",
            "(32, 4)\n",
            "(32, 48, 48, 3)\n",
            "(32, 4)\n",
            "(32, 48, 48, 3)\n",
            "(32, 4)\n",
            "(32, 48, 48, 3)\n",
            "(32, 4)\n",
            "(32, 48, 48, 3)\n",
            "(32, 4)\n",
            "(32, 48, 48, 3)\n",
            "(32, 4)\n",
            "(32, 48, 48, 3)\n",
            "(32, 4)\n",
            "(32, 48, 48, 3)\n",
            "(32, 4)\n",
            "(32, 48, 48, 3)\n",
            "(32, 4)\n",
            "(32, 48, 48, 3)\n",
            "(32, 4)\n",
            "(32, 48, 48, 3)\n",
            "(32, 4)\n",
            "(32, 48, 48, 3)\n",
            "(32, 4)\n",
            "(32, 48, 48, 3)\n",
            "(32, 4)\n",
            "(32, 48, 48, 3)\n",
            "(32, 4)\n",
            "(32, 48, 48, 3)\n",
            "(32, 4)\n",
            "(32, 48, 48, 3)\n",
            "(32, 4)\n",
            "(32, 48, 48, 3)\n",
            "(32, 4)\n",
            "(32, 48, 48, 3)\n",
            "(32, 4)\n",
            "(32, 48, 48, 3)\n",
            "(32, 4)\n",
            "(32, 48, 48, 3)\n",
            "(32, 4)\n",
            "(32, 48, 48, 3)\n",
            "(32, 4)\n",
            "(32, 48, 48, 3)\n",
            "(32, 4)\n",
            "(32, 48, 48, 3)\n",
            "(32, 4)\n",
            "(32, 48, 48, 3)\n",
            "(32, 4)\n",
            "(32, 48, 48, 3)\n",
            "(32, 4)\n",
            "(32, 48, 48, 3)\n",
            "(32, 4)\n",
            "(32, 48, 48, 3)\n",
            "(32, 4)\n",
            "(32, 48, 48, 3)\n",
            "(32, 4)\n",
            "(32, 48, 48, 3)\n",
            "(32, 4)\n",
            "(32, 48, 48, 3)\n",
            "(32, 4)\n",
            "(32, 48, 48, 3)\n",
            "(32, 4)\n",
            "(32, 48, 48, 3)\n",
            "(32, 4)\n",
            "(32, 48, 48, 3)\n",
            "(32, 4)\n",
            "(32, 48, 48, 3)\n",
            "(32, 4)\n",
            "(32, 48, 48, 3)\n",
            "(32, 4)\n",
            "(32, 48, 48, 3)\n",
            "(32, 4)\n",
            "(32, 48, 48, 3)\n",
            "(32, 4)\n",
            "(32, 48, 48, 3)\n",
            "(32, 4)\n",
            "(32, 48, 48, 3)\n",
            "(32, 4)\n",
            "(32, 48, 48, 3)\n",
            "(32, 4)\n",
            "(32, 48, 48, 3)\n",
            "(32, 4)\n",
            "(32, 48, 48, 3)\n",
            "(32, 4)\n",
            "(32, 48, 48, 3)\n",
            "(32, 4)\n",
            "(32, 48, 48, 3)\n",
            "(32, 4)\n",
            "(32, 48, 48, 3)\n",
            "(32, 4)\n",
            "(32, 48, 48, 3)\n",
            "(32, 4)\n",
            "(32, 48, 48, 3)\n",
            "(32, 4)\n",
            "(32, 48, 48, 3)\n",
            "(32, 4)\n",
            "(32, 48, 48, 3)\n",
            "(32, 4)\n",
            "(32, 48, 48, 3)\n",
            "(32, 4)\n",
            "(32, 48, 48, 3)\n",
            "(32, 4)\n",
            "(32, 48, 48, 3)\n",
            "(32, 4)\n",
            "(32, 48, 48, 3)\n",
            "(32, 4)\n",
            "(32, 48, 48, 3)\n",
            "(32, 4)\n",
            "(32, 48, 48, 3)\n",
            "(32, 4)\n",
            "(32, 48, 48, 3)\n",
            "(32, 4)\n",
            "(32, 48, 48, 3)\n",
            "(32, 4)\n",
            "(32, 48, 48, 3)\n",
            "(32, 4)\n",
            "(32, 48, 48, 3)\n",
            "(32, 4)\n",
            "(32, 48, 48, 3)\n",
            "(32, 4)\n",
            "(32, 48, 48, 3)\n",
            "(32, 4)\n",
            "(32, 48, 48, 3)\n",
            "(32, 4)\n",
            "(32, 48, 48, 3)\n",
            "(32, 4)\n",
            "(32, 48, 48, 3)\n",
            "(32, 4)\n",
            "(32, 48, 48, 3)\n",
            "(32, 4)\n",
            "(32, 48, 48, 3)\n",
            "(32, 4)\n",
            "(32, 48, 48, 3)\n",
            "(32, 4)\n",
            "(32, 48, 48, 3)\n",
            "(32, 4)\n",
            "(32, 48, 48, 3)\n",
            "(32, 4)\n",
            "(32, 48, 48, 3)\n",
            "(32, 4)\n",
            "(32, 48, 48, 3)\n",
            "(32, 4)\n",
            "(32, 48, 48, 3)\n",
            "(32, 4)\n",
            "(32, 48, 48, 3)\n",
            "(32, 4)\n",
            "(32, 48, 48, 3)\n",
            "(32, 4)\n",
            "(32, 48, 48, 3)\n",
            "(32, 4)\n",
            "(32, 48, 48, 3)\n",
            "(32, 4)\n",
            "(32, 48, 48, 3)\n",
            "(32, 4)\n",
            "(32, 48, 48, 3)\n",
            "(32, 4)\n",
            "(32, 48, 48, 3)\n",
            "(32, 4)\n",
            "(32, 48, 48, 3)\n",
            "(32, 4)\n",
            "(32, 48, 48, 3)\n",
            "(32, 4)\n",
            "(32, 48, 48, 3)\n",
            "(32, 4)\n",
            "(32, 48, 48, 3)\n",
            "(32, 4)\n",
            "(32, 48, 48, 3)\n",
            "(32, 4)\n",
            "(32, 48, 48, 3)\n",
            "(32, 4)\n",
            "(32, 48, 48, 3)\n",
            "(32, 4)\n",
            "(32, 48, 48, 3)\n",
            "(32, 4)\n",
            "(32, 48, 48, 3)\n",
            "(32, 4)\n",
            "(32, 48, 48, 3)\n",
            "(32, 4)\n",
            "(32, 48, 48, 3)\n",
            "(32, 4)\n",
            "(32, 48, 48, 3)\n",
            "(32, 4)\n",
            "(32, 48, 48, 3)\n",
            "(32, 4)\n",
            "(32, 48, 48, 3)\n",
            "(32, 4)\n",
            "(32, 48, 48, 3)\n",
            "(32, 4)\n",
            "(32, 48, 48, 3)\n",
            "(32, 4)\n",
            "(32, 48, 48, 3)\n",
            "(32, 4)\n",
            "(32, 48, 48, 3)\n",
            "(32, 4)\n",
            "(32, 48, 48, 3)\n",
            "(32, 4)\n",
            "(32, 48, 48, 3)\n",
            "(32, 4)\n",
            "(32, 48, 48, 3)\n",
            "(32, 4)\n",
            "(32, 48, 48, 3)\n",
            "(32, 4)\n",
            "(32, 48, 48, 3)\n",
            "(32, 4)\n",
            "(32, 48, 48, 3)\n",
            "(32, 4)\n",
            "(32, 48, 48, 3)\n",
            "(32, 4)\n",
            "(32, 48, 48, 3)\n",
            "(32, 4)\n",
            "(32, 48, 48, 3)\n",
            "(32, 4)\n",
            "(32, 48, 48, 3)\n",
            "(32, 4)\n",
            "(32, 48, 48, 3)\n",
            "(32, 4)\n",
            "(32, 48, 48, 3)\n",
            "(32, 4)\n",
            "(32, 48, 48, 3)\n",
            "(32, 4)\n",
            "(32, 48, 48, 3)\n",
            "(32, 4)\n",
            "(32, 48, 48, 3)\n",
            "(32, 4)\n",
            "(32, 48, 48, 3)\n",
            "(32, 4)\n",
            "(32, 48, 48, 3)\n",
            "(32, 4)\n",
            "(32, 48, 48, 3)\n",
            "(32, 4)\n",
            "(32, 48, 48, 3)\n",
            "(32, 4)\n",
            "(32, 48, 48, 3)\n",
            "(32, 4)\n",
            "(32, 48, 48, 3)\n",
            "(32, 4)\n",
            "(32, 48, 48, 3)\n",
            "(32, 4)\n",
            "(32, 48, 48, 3)\n",
            "(32, 4)\n",
            "(32, 48, 48, 3)\n",
            "(32, 4)\n",
            "(32, 48, 48, 3)\n",
            "(32, 4)\n",
            "(32, 48, 48, 3)\n",
            "(32, 4)\n",
            "(32, 48, 48, 3)\n",
            "(32, 4)\n",
            "(32, 48, 48, 3)\n",
            "(32, 4)\n",
            "(32, 48, 48, 3)\n",
            "(32, 4)\n",
            "(32, 48, 48, 3)\n",
            "(32, 4)\n",
            "(32, 48, 48, 3)\n",
            "(32, 4)\n",
            "(32, 48, 48, 3)\n",
            "(32, 4)\n",
            "(32, 48, 48, 3)\n",
            "(32, 4)\n",
            "(32, 48, 48, 3)\n",
            "(32, 4)\n",
            "(32, 48, 48, 3)\n",
            "(32, 4)\n",
            "(32, 48, 48, 3)\n",
            "(32, 4)\n",
            "(32, 48, 48, 3)\n",
            "(32, 4)\n",
            "(32, 48, 48, 3)\n",
            "(32, 4)\n",
            "(32, 48, 48, 3)\n",
            "(32, 4)\n",
            "(32, 48, 48, 3)\n",
            "(32, 4)\n",
            "(32, 48, 48, 3)\n",
            "(32, 4)\n",
            "(32, 48, 48, 3)\n",
            "(32, 4)\n",
            "(32, 48, 48, 3)\n",
            "(32, 4)\n",
            "(32, 48, 48, 3)\n",
            "(32, 4)\n",
            "(32, 48, 48, 3)\n",
            "(32, 4)\n",
            "(32, 48, 48, 3)\n",
            "(32, 4)\n",
            "(32, 48, 48, 3)\n",
            "(32, 4)\n",
            "(32, 48, 48, 3)\n",
            "(32, 4)\n",
            "(32, 48, 48, 3)\n",
            "(32, 4)\n",
            "(32, 48, 48, 3)\n",
            "(32, 4)\n",
            "(32, 48, 48, 3)\n",
            "(32, 4)\n",
            "(32, 48, 48, 3)\n",
            "(32, 4)\n",
            "(32, 48, 48, 3)\n",
            "(32, 4)\n",
            "(32, 48, 48, 3)\n",
            "(32, 4)\n",
            "(32, 48, 48, 3)\n",
            "(32, 4)\n",
            "(32, 48, 48, 3)\n",
            "(32, 4)\n",
            "(32, 48, 48, 3)\n",
            "(32, 4)\n",
            "(32, 48, 48, 3)\n",
            "(32, 4)\n",
            "(32, 48, 48, 3)\n",
            "(32, 4)\n",
            "(32, 48, 48, 3)\n",
            "(32, 4)\n",
            "(32, 48, 48, 3)\n",
            "(32, 4)\n",
            "(32, 48, 48, 3)\n",
            "(32, 4)\n",
            "(32, 48, 48, 3)\n",
            "(32, 4)\n",
            "(32, 48, 48, 3)\n",
            "(32, 4)\n",
            "(32, 48, 48, 3)\n",
            "(32, 4)\n",
            "(32, 48, 48, 3)\n",
            "(32, 4)\n",
            "(32, 48, 48, 3)\n",
            "(32, 4)\n",
            "(32, 48, 48, 3)\n",
            "(32, 4)\n",
            "(32, 48, 48, 3)\n",
            "(32, 4)\n",
            "(5, 48, 48, 3)\n",
            "(5, 4)\n",
            "Total entry count:  15109\n"
          ]
        }
      ],
      "source": [
        "show_image_data_set(rgb_training_data)"
      ]
    },
    {
      "cell_type": "code",
      "execution_count": 272,
      "metadata": {},
      "outputs": [
        {
          "data": {
            "text/html": [
              "<pre style=\"white-space:pre;overflow-x:auto;line-height:normal;font-family:Menlo,'DejaVu Sans Mono',consolas,'Courier New',monospace\"><span style=\"font-weight: bold\">Model: \"sequential_4\"</span>\n",
              "</pre>\n"
            ],
            "text/plain": [
              "\u001b[1mModel: \"sequential_4\"\u001b[0m\n"
            ]
          },
          "metadata": {},
          "output_type": "display_data"
        },
        {
          "data": {
            "text/html": [
              "<pre style=\"white-space:pre;overflow-x:auto;line-height:normal;font-family:Menlo,'DejaVu Sans Mono',consolas,'Courier New',monospace\">┏━━━━━━━━━━━━━━━━━━━━━━━━━━━━━━━━━┳━━━━━━━━━━━━━━━━━━━━━━━━┳━━━━━━━━━━━━━━━┓\n",
              "┃<span style=\"font-weight: bold\"> Layer (type)                    </span>┃<span style=\"font-weight: bold\"> Output Shape           </span>┃<span style=\"font-weight: bold\">       Param # </span>┃\n",
              "┡━━━━━━━━━━━━━━━━━━━━━━━━━━━━━━━━━╇━━━━━━━━━━━━━━━━━━━━━━━━╇━━━━━━━━━━━━━━━┩\n",
              "│ rescaling_1 (<span style=\"color: #0087ff; text-decoration-color: #0087ff\">Rescaling</span>)         │ (<span style=\"color: #00d7ff; text-decoration-color: #00d7ff\">None</span>, <span style=\"color: #00af00; text-decoration-color: #00af00\">48</span>, <span style=\"color: #00af00; text-decoration-color: #00af00\">48</span>, <span style=\"color: #00af00; text-decoration-color: #00af00\">3</span>)      │             <span style=\"color: #00af00; text-decoration-color: #00af00\">0</span> │\n",
              "├─────────────────────────────────┼────────────────────────┼───────────────┤\n",
              "│ conv2d_4 (<span style=\"color: #0087ff; text-decoration-color: #0087ff\">Conv2D</span>)               │ (<span style=\"color: #00d7ff; text-decoration-color: #00d7ff\">None</span>, <span style=\"color: #00af00; text-decoration-color: #00af00\">48</span>, <span style=\"color: #00af00; text-decoration-color: #00af00\">48</span>, <span style=\"color: #00af00; text-decoration-color: #00af00\">256</span>)    │         <span style=\"color: #00af00; text-decoration-color: #00af00\">3,328</span> │\n",
              "├─────────────────────────────────┼────────────────────────┼───────────────┤\n",
              "│ batch_normalization_3           │ (<span style=\"color: #00d7ff; text-decoration-color: #00d7ff\">None</span>, <span style=\"color: #00af00; text-decoration-color: #00af00\">48</span>, <span style=\"color: #00af00; text-decoration-color: #00af00\">48</span>, <span style=\"color: #00af00; text-decoration-color: #00af00\">256</span>)    │         <span style=\"color: #00af00; text-decoration-color: #00af00\">1,024</span> │\n",
              "│ (<span style=\"color: #0087ff; text-decoration-color: #0087ff\">BatchNormalization</span>)            │                        │               │\n",
              "├─────────────────────────────────┼────────────────────────┼───────────────┤\n",
              "│ leaky_re_lu_3 (<span style=\"color: #0087ff; text-decoration-color: #0087ff\">LeakyReLU</span>)       │ (<span style=\"color: #00d7ff; text-decoration-color: #00d7ff\">None</span>, <span style=\"color: #00af00; text-decoration-color: #00af00\">48</span>, <span style=\"color: #00af00; text-decoration-color: #00af00\">48</span>, <span style=\"color: #00af00; text-decoration-color: #00af00\">256</span>)    │             <span style=\"color: #00af00; text-decoration-color: #00af00\">0</span> │\n",
              "├─────────────────────────────────┼────────────────────────┼───────────────┤\n",
              "│ max_pooling2d_3 (<span style=\"color: #0087ff; text-decoration-color: #0087ff\">MaxPooling2D</span>)  │ (<span style=\"color: #00d7ff; text-decoration-color: #00d7ff\">None</span>, <span style=\"color: #00af00; text-decoration-color: #00af00\">24</span>, <span style=\"color: #00af00; text-decoration-color: #00af00\">24</span>, <span style=\"color: #00af00; text-decoration-color: #00af00\">256</span>)    │             <span style=\"color: #00af00; text-decoration-color: #00af00\">0</span> │\n",
              "├─────────────────────────────────┼────────────────────────┼───────────────┤\n",
              "│ conv2d_5 (<span style=\"color: #0087ff; text-decoration-color: #0087ff\">Conv2D</span>)               │ (<span style=\"color: #00d7ff; text-decoration-color: #00d7ff\">None</span>, <span style=\"color: #00af00; text-decoration-color: #00af00\">24</span>, <span style=\"color: #00af00; text-decoration-color: #00af00\">24</span>, <span style=\"color: #00af00; text-decoration-color: #00af00\">128</span>)    │       <span style=\"color: #00af00; text-decoration-color: #00af00\">131,200</span> │\n",
              "├─────────────────────────────────┼────────────────────────┼───────────────┤\n",
              "│ batch_normalization_4           │ (<span style=\"color: #00d7ff; text-decoration-color: #00d7ff\">None</span>, <span style=\"color: #00af00; text-decoration-color: #00af00\">24</span>, <span style=\"color: #00af00; text-decoration-color: #00af00\">24</span>, <span style=\"color: #00af00; text-decoration-color: #00af00\">128</span>)    │           <span style=\"color: #00af00; text-decoration-color: #00af00\">512</span> │\n",
              "│ (<span style=\"color: #0087ff; text-decoration-color: #0087ff\">BatchNormalization</span>)            │                        │               │\n",
              "├─────────────────────────────────┼────────────────────────┼───────────────┤\n",
              "│ leaky_re_lu_4 (<span style=\"color: #0087ff; text-decoration-color: #0087ff\">LeakyReLU</span>)       │ (<span style=\"color: #00d7ff; text-decoration-color: #00d7ff\">None</span>, <span style=\"color: #00af00; text-decoration-color: #00af00\">24</span>, <span style=\"color: #00af00; text-decoration-color: #00af00\">24</span>, <span style=\"color: #00af00; text-decoration-color: #00af00\">128</span>)    │             <span style=\"color: #00af00; text-decoration-color: #00af00\">0</span> │\n",
              "├─────────────────────────────────┼────────────────────────┼───────────────┤\n",
              "│ max_pooling2d_4 (<span style=\"color: #0087ff; text-decoration-color: #0087ff\">MaxPooling2D</span>)  │ (<span style=\"color: #00d7ff; text-decoration-color: #00d7ff\">None</span>, <span style=\"color: #00af00; text-decoration-color: #00af00\">12</span>, <span style=\"color: #00af00; text-decoration-color: #00af00\">12</span>, <span style=\"color: #00af00; text-decoration-color: #00af00\">128</span>)    │             <span style=\"color: #00af00; text-decoration-color: #00af00\">0</span> │\n",
              "├─────────────────────────────────┼────────────────────────┼───────────────┤\n",
              "│ conv2d_6 (<span style=\"color: #0087ff; text-decoration-color: #0087ff\">Conv2D</span>)               │ (<span style=\"color: #00d7ff; text-decoration-color: #00d7ff\">None</span>, <span style=\"color: #00af00; text-decoration-color: #00af00\">12</span>, <span style=\"color: #00af00; text-decoration-color: #00af00\">12</span>, <span style=\"color: #00af00; text-decoration-color: #00af00\">64</span>)     │        <span style=\"color: #00af00; text-decoration-color: #00af00\">32,832</span> │\n",
              "├─────────────────────────────────┼────────────────────────┼───────────────┤\n",
              "│ batch_normalization_5           │ (<span style=\"color: #00d7ff; text-decoration-color: #00d7ff\">None</span>, <span style=\"color: #00af00; text-decoration-color: #00af00\">12</span>, <span style=\"color: #00af00; text-decoration-color: #00af00\">12</span>, <span style=\"color: #00af00; text-decoration-color: #00af00\">64</span>)     │           <span style=\"color: #00af00; text-decoration-color: #00af00\">256</span> │\n",
              "│ (<span style=\"color: #0087ff; text-decoration-color: #0087ff\">BatchNormalization</span>)            │                        │               │\n",
              "├─────────────────────────────────┼────────────────────────┼───────────────┤\n",
              "│ leaky_re_lu_5 (<span style=\"color: #0087ff; text-decoration-color: #0087ff\">LeakyReLU</span>)       │ (<span style=\"color: #00d7ff; text-decoration-color: #00d7ff\">None</span>, <span style=\"color: #00af00; text-decoration-color: #00af00\">12</span>, <span style=\"color: #00af00; text-decoration-color: #00af00\">12</span>, <span style=\"color: #00af00; text-decoration-color: #00af00\">64</span>)     │             <span style=\"color: #00af00; text-decoration-color: #00af00\">0</span> │\n",
              "├─────────────────────────────────┼────────────────────────┼───────────────┤\n",
              "│ max_pooling2d_5 (<span style=\"color: #0087ff; text-decoration-color: #0087ff\">MaxPooling2D</span>)  │ (<span style=\"color: #00d7ff; text-decoration-color: #00d7ff\">None</span>, <span style=\"color: #00af00; text-decoration-color: #00af00\">6</span>, <span style=\"color: #00af00; text-decoration-color: #00af00\">6</span>, <span style=\"color: #00af00; text-decoration-color: #00af00\">64</span>)       │             <span style=\"color: #00af00; text-decoration-color: #00af00\">0</span> │\n",
              "├─────────────────────────────────┼────────────────────────┼───────────────┤\n",
              "│ conv2d_7 (<span style=\"color: #0087ff; text-decoration-color: #0087ff\">Conv2D</span>)               │ (<span style=\"color: #00d7ff; text-decoration-color: #00d7ff\">None</span>, <span style=\"color: #00af00; text-decoration-color: #00af00\">5</span>, <span style=\"color: #00af00; text-decoration-color: #00af00\">5</span>, <span style=\"color: #00af00; text-decoration-color: #00af00\">32</span>)       │         <span style=\"color: #00af00; text-decoration-color: #00af00\">8,224</span> │\n",
              "├─────────────────────────────────┼────────────────────────┼───────────────┤\n",
              "│ flatten_1 (<span style=\"color: #0087ff; text-decoration-color: #0087ff\">Flatten</span>)             │ (<span style=\"color: #00d7ff; text-decoration-color: #00d7ff\">None</span>, <span style=\"color: #00af00; text-decoration-color: #00af00\">800</span>)            │             <span style=\"color: #00af00; text-decoration-color: #00af00\">0</span> │\n",
              "├─────────────────────────────────┼────────────────────────┼───────────────┤\n",
              "│ dense_3 (<span style=\"color: #0087ff; text-decoration-color: #0087ff\">Dense</span>)                 │ (<span style=\"color: #00d7ff; text-decoration-color: #00d7ff\">None</span>, <span style=\"color: #00af00; text-decoration-color: #00af00\">512</span>)            │       <span style=\"color: #00af00; text-decoration-color: #00af00\">410,112</span> │\n",
              "├─────────────────────────────────┼────────────────────────┼───────────────┤\n",
              "│ dense_4 (<span style=\"color: #0087ff; text-decoration-color: #0087ff\">Dense</span>)                 │ (<span style=\"color: #00d7ff; text-decoration-color: #00d7ff\">None</span>, <span style=\"color: #00af00; text-decoration-color: #00af00\">128</span>)            │        <span style=\"color: #00af00; text-decoration-color: #00af00\">65,664</span> │\n",
              "├─────────────────────────────────┼────────────────────────┼───────────────┤\n",
              "│ dense_5 (<span style=\"color: #0087ff; text-decoration-color: #0087ff\">Dense</span>)                 │ (<span style=\"color: #00d7ff; text-decoration-color: #00d7ff\">None</span>, <span style=\"color: #00af00; text-decoration-color: #00af00\">4</span>)              │           <span style=\"color: #00af00; text-decoration-color: #00af00\">516</span> │\n",
              "└─────────────────────────────────┴────────────────────────┴───────────────┘\n",
              "</pre>\n"
            ],
            "text/plain": [
              "┏━━━━━━━━━━━━━━━━━━━━━━━━━━━━━━━━━┳━━━━━━━━━━━━━━━━━━━━━━━━┳━━━━━━━━━━━━━━━┓\n",
              "┃\u001b[1m \u001b[0m\u001b[1mLayer (type)                   \u001b[0m\u001b[1m \u001b[0m┃\u001b[1m \u001b[0m\u001b[1mOutput Shape          \u001b[0m\u001b[1m \u001b[0m┃\u001b[1m \u001b[0m\u001b[1m      Param #\u001b[0m\u001b[1m \u001b[0m┃\n",
              "┡━━━━━━━━━━━━━━━━━━━━━━━━━━━━━━━━━╇━━━━━━━━━━━━━━━━━━━━━━━━╇━━━━━━━━━━━━━━━┩\n",
              "│ rescaling_1 (\u001b[38;5;33mRescaling\u001b[0m)         │ (\u001b[38;5;45mNone\u001b[0m, \u001b[38;5;34m48\u001b[0m, \u001b[38;5;34m48\u001b[0m, \u001b[38;5;34m3\u001b[0m)      │             \u001b[38;5;34m0\u001b[0m │\n",
              "├─────────────────────────────────┼────────────────────────┼───────────────┤\n",
              "│ conv2d_4 (\u001b[38;5;33mConv2D\u001b[0m)               │ (\u001b[38;5;45mNone\u001b[0m, \u001b[38;5;34m48\u001b[0m, \u001b[38;5;34m48\u001b[0m, \u001b[38;5;34m256\u001b[0m)    │         \u001b[38;5;34m3,328\u001b[0m │\n",
              "├─────────────────────────────────┼────────────────────────┼───────────────┤\n",
              "│ batch_normalization_3           │ (\u001b[38;5;45mNone\u001b[0m, \u001b[38;5;34m48\u001b[0m, \u001b[38;5;34m48\u001b[0m, \u001b[38;5;34m256\u001b[0m)    │         \u001b[38;5;34m1,024\u001b[0m │\n",
              "│ (\u001b[38;5;33mBatchNormalization\u001b[0m)            │                        │               │\n",
              "├─────────────────────────────────┼────────────────────────┼───────────────┤\n",
              "│ leaky_re_lu_3 (\u001b[38;5;33mLeakyReLU\u001b[0m)       │ (\u001b[38;5;45mNone\u001b[0m, \u001b[38;5;34m48\u001b[0m, \u001b[38;5;34m48\u001b[0m, \u001b[38;5;34m256\u001b[0m)    │             \u001b[38;5;34m0\u001b[0m │\n",
              "├─────────────────────────────────┼────────────────────────┼───────────────┤\n",
              "│ max_pooling2d_3 (\u001b[38;5;33mMaxPooling2D\u001b[0m)  │ (\u001b[38;5;45mNone\u001b[0m, \u001b[38;5;34m24\u001b[0m, \u001b[38;5;34m24\u001b[0m, \u001b[38;5;34m256\u001b[0m)    │             \u001b[38;5;34m0\u001b[0m │\n",
              "├─────────────────────────────────┼────────────────────────┼───────────────┤\n",
              "│ conv2d_5 (\u001b[38;5;33mConv2D\u001b[0m)               │ (\u001b[38;5;45mNone\u001b[0m, \u001b[38;5;34m24\u001b[0m, \u001b[38;5;34m24\u001b[0m, \u001b[38;5;34m128\u001b[0m)    │       \u001b[38;5;34m131,200\u001b[0m │\n",
              "├─────────────────────────────────┼────────────────────────┼───────────────┤\n",
              "│ batch_normalization_4           │ (\u001b[38;5;45mNone\u001b[0m, \u001b[38;5;34m24\u001b[0m, \u001b[38;5;34m24\u001b[0m, \u001b[38;5;34m128\u001b[0m)    │           \u001b[38;5;34m512\u001b[0m │\n",
              "│ (\u001b[38;5;33mBatchNormalization\u001b[0m)            │                        │               │\n",
              "├─────────────────────────────────┼────────────────────────┼───────────────┤\n",
              "│ leaky_re_lu_4 (\u001b[38;5;33mLeakyReLU\u001b[0m)       │ (\u001b[38;5;45mNone\u001b[0m, \u001b[38;5;34m24\u001b[0m, \u001b[38;5;34m24\u001b[0m, \u001b[38;5;34m128\u001b[0m)    │             \u001b[38;5;34m0\u001b[0m │\n",
              "├─────────────────────────────────┼────────────────────────┼───────────────┤\n",
              "│ max_pooling2d_4 (\u001b[38;5;33mMaxPooling2D\u001b[0m)  │ (\u001b[38;5;45mNone\u001b[0m, \u001b[38;5;34m12\u001b[0m, \u001b[38;5;34m12\u001b[0m, \u001b[38;5;34m128\u001b[0m)    │             \u001b[38;5;34m0\u001b[0m │\n",
              "├─────────────────────────────────┼────────────────────────┼───────────────┤\n",
              "│ conv2d_6 (\u001b[38;5;33mConv2D\u001b[0m)               │ (\u001b[38;5;45mNone\u001b[0m, \u001b[38;5;34m12\u001b[0m, \u001b[38;5;34m12\u001b[0m, \u001b[38;5;34m64\u001b[0m)     │        \u001b[38;5;34m32,832\u001b[0m │\n",
              "├─────────────────────────────────┼────────────────────────┼───────────────┤\n",
              "│ batch_normalization_5           │ (\u001b[38;5;45mNone\u001b[0m, \u001b[38;5;34m12\u001b[0m, \u001b[38;5;34m12\u001b[0m, \u001b[38;5;34m64\u001b[0m)     │           \u001b[38;5;34m256\u001b[0m │\n",
              "│ (\u001b[38;5;33mBatchNormalization\u001b[0m)            │                        │               │\n",
              "├─────────────────────────────────┼────────────────────────┼───────────────┤\n",
              "│ leaky_re_lu_5 (\u001b[38;5;33mLeakyReLU\u001b[0m)       │ (\u001b[38;5;45mNone\u001b[0m, \u001b[38;5;34m12\u001b[0m, \u001b[38;5;34m12\u001b[0m, \u001b[38;5;34m64\u001b[0m)     │             \u001b[38;5;34m0\u001b[0m │\n",
              "├─────────────────────────────────┼────────────────────────┼───────────────┤\n",
              "│ max_pooling2d_5 (\u001b[38;5;33mMaxPooling2D\u001b[0m)  │ (\u001b[38;5;45mNone\u001b[0m, \u001b[38;5;34m6\u001b[0m, \u001b[38;5;34m6\u001b[0m, \u001b[38;5;34m64\u001b[0m)       │             \u001b[38;5;34m0\u001b[0m │\n",
              "├─────────────────────────────────┼────────────────────────┼───────────────┤\n",
              "│ conv2d_7 (\u001b[38;5;33mConv2D\u001b[0m)               │ (\u001b[38;5;45mNone\u001b[0m, \u001b[38;5;34m5\u001b[0m, \u001b[38;5;34m5\u001b[0m, \u001b[38;5;34m32\u001b[0m)       │         \u001b[38;5;34m8,224\u001b[0m │\n",
              "├─────────────────────────────────┼────────────────────────┼───────────────┤\n",
              "│ flatten_1 (\u001b[38;5;33mFlatten\u001b[0m)             │ (\u001b[38;5;45mNone\u001b[0m, \u001b[38;5;34m800\u001b[0m)            │             \u001b[38;5;34m0\u001b[0m │\n",
              "├─────────────────────────────────┼────────────────────────┼───────────────┤\n",
              "│ dense_3 (\u001b[38;5;33mDense\u001b[0m)                 │ (\u001b[38;5;45mNone\u001b[0m, \u001b[38;5;34m512\u001b[0m)            │       \u001b[38;5;34m410,112\u001b[0m │\n",
              "├─────────────────────────────────┼────────────────────────┼───────────────┤\n",
              "│ dense_4 (\u001b[38;5;33mDense\u001b[0m)                 │ (\u001b[38;5;45mNone\u001b[0m, \u001b[38;5;34m128\u001b[0m)            │        \u001b[38;5;34m65,664\u001b[0m │\n",
              "├─────────────────────────────────┼────────────────────────┼───────────────┤\n",
              "│ dense_5 (\u001b[38;5;33mDense\u001b[0m)                 │ (\u001b[38;5;45mNone\u001b[0m, \u001b[38;5;34m4\u001b[0m)              │           \u001b[38;5;34m516\u001b[0m │\n",
              "└─────────────────────────────────┴────────────────────────┴───────────────┘\n"
            ]
          },
          "metadata": {},
          "output_type": "display_data"
        },
        {
          "data": {
            "text/html": [
              "<pre style=\"white-space:pre;overflow-x:auto;line-height:normal;font-family:Menlo,'DejaVu Sans Mono',consolas,'Courier New',monospace\"><span style=\"font-weight: bold\"> Total params: </span><span style=\"color: #00af00; text-decoration-color: #00af00\">653,668</span> (2.49 MB)\n",
              "</pre>\n"
            ],
            "text/plain": [
              "\u001b[1m Total params: \u001b[0m\u001b[38;5;34m653,668\u001b[0m (2.49 MB)\n"
            ]
          },
          "metadata": {},
          "output_type": "display_data"
        },
        {
          "data": {
            "text/html": [
              "<pre style=\"white-space:pre;overflow-x:auto;line-height:normal;font-family:Menlo,'DejaVu Sans Mono',consolas,'Courier New',monospace\"><span style=\"font-weight: bold\"> Trainable params: </span><span style=\"color: #00af00; text-decoration-color: #00af00\">652,772</span> (2.49 MB)\n",
              "</pre>\n"
            ],
            "text/plain": [
              "\u001b[1m Trainable params: \u001b[0m\u001b[38;5;34m652,772\u001b[0m (2.49 MB)\n"
            ]
          },
          "metadata": {},
          "output_type": "display_data"
        },
        {
          "data": {
            "text/html": [
              "<pre style=\"white-space:pre;overflow-x:auto;line-height:normal;font-family:Menlo,'DejaVu Sans Mono',consolas,'Courier New',monospace\"><span style=\"font-weight: bold\"> Non-trainable params: </span><span style=\"color: #00af00; text-decoration-color: #00af00\">896</span> (3.50 KB)\n",
              "</pre>\n"
            ],
            "text/plain": [
              "\u001b[1m Non-trainable params: \u001b[0m\u001b[38;5;34m896\u001b[0m (3.50 KB)\n"
            ]
          },
          "metadata": {},
          "output_type": "display_data"
        }
      ],
      "source": [
        "# Initializing a Sequential Model\n",
        "model_2_with_rgb = Sequential()\n",
        "\n",
        "# Add the first Convolutional block\n",
        "model_2_with_rgb.add(tf.keras.layers.Rescaling(1./255, input_shape = (48, 48, 3)))\n",
        "model_2_with_rgb.add(Conv2D(filters = 256, kernel_size = (2, 2), padding = \"same\", input_shape = (48, 48, 3), activation='relu'))\n",
        "model_2_with_rgb.add(BatchNormalization())\n",
        "model_2_with_rgb.add(LeakyReLU(0.1))\n",
        "model_2_with_rgb.add(MaxPooling2D(pool_size = (2, 2)))\n",
        "\n",
        "# Add the second Convolutional block\n",
        "model_2_with_rgb.add(Conv2D(filters = 128, kernel_size = (2, 2), padding = \"same\", activation='relu'))\n",
        "model_2_with_rgb.add(BatchNormalization())\n",
        "model_2_with_rgb.add(LeakyReLU(0.1))\n",
        "model_2_with_rgb.add(MaxPooling2D(pool_size = (2, 2)))\n",
        "\n",
        "# Add the third Convolutional block\n",
        "model_2_with_rgb.add(Conv2D(filters = 64, kernel_size = (2, 2), padding = \"same\", activation='relu'))\n",
        "model_2_with_rgb.add(BatchNormalization())\n",
        "model_2_with_rgb.add(LeakyReLU(0.1))\n",
        "model_2_with_rgb.add(MaxPooling2D(pool_size = (2, 2)))\n",
        "\n",
        "# Add the fourth Convolutional block\n",
        "model_2_with_rgb.add(Conv2D(filters = 32, kernel_size = (2, 2)))\n",
        "\n",
        "# Add the Flatten layer\n",
        "model_2_with_rgb.add(Flatten())\n",
        "\n",
        "# Add the first Dense layer\n",
        "model_2_with_rgb.add(Dense(512, activation='relu'))\n",
        "\n",
        "# Dense layer\n",
        "model_2_with_rgb.add(Dense(128, activation='relu'))\n",
        "\n",
        "# Add the Final layer\n",
        "model_2_with_rgb.add(Dense(4, activation='softmax'))\n",
        "model_2_with_rgb.summary()"
      ]
    },
    {
      "cell_type": "code",
      "execution_count": 273,
      "metadata": {},
      "outputs": [],
      "source": [
        "model_2_with_rgb.compile(optimizer = Adam(learning_rate = 0.001), loss = 'categorical_crossentropy', metrics = ['accuracy'])"
      ]
    },
    {
      "cell_type": "code",
      "execution_count": 274,
      "metadata": {},
      "outputs": [],
      "source": [
        "from keras.callbacks import ModelCheckpoint, EarlyStopping, ReduceLROnPlateau\n",
        "model_2_rgb_file = os.path.abspath(out_directory + \"/model_2_rgb_epoch_{epoch}_max_accuracy.keras\")\n",
        "max_accuracy = ModelCheckpoint( model_2_rgb_file,\n",
        "                                monitor='val_accuracy',\n",
        "                                verbose=1,\n",
        "                                save_best_only=True,\n",
        "                                mode='max')\n",
        "\n",
        "early_stopping = EarlyStopping( monitor = 'val_loss',\n",
        "                                min_delta = 0,\n",
        "                                patience = 3,\n",
        "                                verbose = 1,\n",
        "                                restore_best_weights = True)\n",
        "\n",
        "reduce_learningrate = ReduceLROnPlateau(monitor = 'val_loss',\n",
        "                                        factor = 0.2,\n",
        "                                        patience = 3,\n",
        "                                        verbose = 1,\n",
        "                                        min_delta = 0.0001)\n",
        "\n",
        "callbacks_list = [early_stopping, max_accuracy, reduce_learningrate]"
      ]
    },
    {
      "cell_type": "code",
      "execution_count": 275,
      "metadata": {},
      "outputs": [
        {
          "name": "stdout",
          "output_type": "stream",
          "text": [
            "Epoch 1/20\n",
            "\u001b[1m473/473\u001b[0m \u001b[32m━━━━━━━━━━━━━━━━━━━━\u001b[0m\u001b[37m\u001b[0m \u001b[1m0s\u001b[0m 374ms/step - accuracy: 0.4688 - loss: 1.2450\n",
            "Epoch 1: val_accuracy improved from -inf to 0.45489, saving model to D:\\GitHub\\amitprakash07\\snowflake\\temp\\sandbox\\Facial_emotion_images\\model_2_rgb_epoch_1_max_accuracy.keras\n",
            "\u001b[1m473/473\u001b[0m \u001b[32m━━━━━━━━━━━━━━━━━━━━\u001b[0m\u001b[37m\u001b[0m \u001b[1m209s\u001b[0m 399ms/step - accuracy: 0.4690 - loss: 1.2446 - val_accuracy: 0.4549 - val_loss: 1.1779 - learning_rate: 0.0010\n",
            "Epoch 2/20\n",
            "\u001b[1m473/473\u001b[0m \u001b[32m━━━━━━━━━━━━━━━━━━━━\u001b[0m\u001b[37m\u001b[0m \u001b[1m0s\u001b[0m 363ms/step - accuracy: 0.6222 - loss: 0.8977\n",
            "Epoch 2: val_accuracy improved from 0.45489 to 0.58951, saving model to D:\\GitHub\\amitprakash07\\snowflake\\temp\\sandbox\\Facial_emotion_images\\model_2_rgb_epoch_2_max_accuracy.keras\n",
            "\u001b[1m473/473\u001b[0m \u001b[32m━━━━━━━━━━━━━━━━━━━━\u001b[0m\u001b[37m\u001b[0m \u001b[1m183s\u001b[0m 386ms/step - accuracy: 0.6222 - loss: 0.8977 - val_accuracy: 0.5895 - val_loss: 0.9666 - learning_rate: 0.0010\n",
            "Epoch 3/20\n",
            "\u001b[1m473/473\u001b[0m \u001b[32m━━━━━━━━━━━━━━━━━━━━\u001b[0m\u001b[37m\u001b[0m \u001b[1m0s\u001b[0m 363ms/step - accuracy: 0.6759 - loss: 0.7650\n",
            "Epoch 3: val_accuracy improved from 0.58951 to 0.62327, saving model to D:\\GitHub\\amitprakash07\\snowflake\\temp\\sandbox\\Facial_emotion_images\\model_2_rgb_epoch_3_max_accuracy.keras\n",
            "\u001b[1m473/473\u001b[0m \u001b[32m━━━━━━━━━━━━━━━━━━━━\u001b[0m\u001b[37m\u001b[0m \u001b[1m183s\u001b[0m 386ms/step - accuracy: 0.6759 - loss: 0.7650 - val_accuracy: 0.6233 - val_loss: 0.9151 - learning_rate: 0.0010\n",
            "Epoch 4/20\n",
            "\u001b[1m473/473\u001b[0m \u001b[32m━━━━━━━━━━━━━━━━━━━━\u001b[0m\u001b[37m\u001b[0m \u001b[1m0s\u001b[0m 363ms/step - accuracy: 0.7297 - loss: 0.6567\n",
            "Epoch 4: val_accuracy improved from 0.62327 to 0.62789, saving model to D:\\GitHub\\amitprakash07\\snowflake\\temp\\sandbox\\Facial_emotion_images\\model_2_rgb_epoch_4_max_accuracy.keras\n",
            "\u001b[1m473/473\u001b[0m \u001b[32m━━━━━━━━━━━━━━━━━━━━\u001b[0m\u001b[37m\u001b[0m \u001b[1m182s\u001b[0m 385ms/step - accuracy: 0.7297 - loss: 0.6566 - val_accuracy: 0.6279 - val_loss: 0.9445 - learning_rate: 0.0010\n",
            "Epoch 5/20\n",
            "\u001b[1m473/473\u001b[0m \u001b[32m━━━━━━━━━━━━━━━━━━━━\u001b[0m\u001b[37m\u001b[0m \u001b[1m0s\u001b[0m 361ms/step - accuracy: 0.7760 - loss: 0.5583\n",
            "Epoch 5: val_accuracy did not improve from 0.62789\n",
            "\u001b[1m473/473\u001b[0m \u001b[32m━━━━━━━━━━━━━━━━━━━━\u001b[0m\u001b[37m\u001b[0m \u001b[1m181s\u001b[0m 384ms/step - accuracy: 0.7760 - loss: 0.5582 - val_accuracy: 0.6237 - val_loss: 1.0142 - learning_rate: 0.0010\n",
            "Epoch 6/20\n",
            "\u001b[1m473/473\u001b[0m \u001b[32m━━━━━━━━━━━━━━━━━━━━\u001b[0m\u001b[37m\u001b[0m \u001b[1m0s\u001b[0m 384ms/step - accuracy: 0.8128 - loss: 0.4748\n",
            "Epoch 6: val_accuracy did not improve from 0.62789\n",
            "\n",
            "Epoch 6: ReduceLROnPlateau reducing learning rate to 0.00020000000949949026.\n",
            "\u001b[1m473/473\u001b[0m \u001b[32m━━━━━━━━━━━━━━━━━━━━\u001b[0m\u001b[37m\u001b[0m \u001b[1m193s\u001b[0m 408ms/step - accuracy: 0.8128 - loss: 0.4748 - val_accuracy: 0.6130 - val_loss: 1.2149 - learning_rate: 0.0010\n",
            "Epoch 6: early stopping\n",
            "Restoring model weights from the end of the best epoch: 3.\n"
          ]
        }
      ],
      "source": [
        "epochs = 20\n",
        "history = model_2_with_rgb.fit(rgb_training_data, validation_data = rgb_validation_data, epochs = epochs, callbacks = callbacks_list)"
      ]
    },
    {
      "cell_type": "markdown",
      "metadata": {},
      "source": [
        "## Model Evaluation with RGB data"
      ]
    },
    {
      "cell_type": "code",
      "execution_count": 277,
      "metadata": {},
      "outputs": [
        {
          "name": "stdout",
          "output_type": "stream",
          "text": [
            "4/4 - 0s - 88ms/step - accuracy: 0.6094 - loss: 0.8706\n"
          ]
        }
      ],
      "source": [
        "accuracy = model_2_with_rgb.evaluate(rgb_test_data, verbose=2)"
      ]
    },
    {
      "cell_type": "code",
      "execution_count": 278,
      "metadata": {},
      "outputs": [
        {
          "name": "stdout",
          "output_type": "stream",
          "text": [
            "\u001b[1m4/4\u001b[0m \u001b[32m━━━━━━━━━━━━━━━━━━━━\u001b[0m\u001b[37m\u001b[0m \u001b[1m1s\u001b[0m 84ms/step\n"
          ]
        }
      ],
      "source": [
        "model_predictions = model_2_with_rgb.predict(rgb_test_data)"
      ]
    },
    {
      "cell_type": "code",
      "execution_count": 279,
      "metadata": {},
      "outputs": [],
      "source": [
        "y_pred_arg=np.argmax(model_predictions, axis=1)"
      ]
    },
    {
      "cell_type": "code",
      "execution_count": 290,
      "metadata": {},
      "outputs": [
        {
          "data": {
            "image/png": "[encoded data removed]",
            "text/plain": [
              "<Figure size 1000x800 with 2 Axes>"
            ]
          },
          "metadata": {},
          "output_type": "display_data"
        }
      ],
      "source": [
        "import tensorflow.math as tf_math\n",
        "\n",
        "# Plotting the Confusion Matrix using confusion matrix() function which is also predefined tensorflow module\n",
        "confusion_matrix_out = tf_math.confusion_matrix(rgb_testing_label_decoded,y_pred_arg)\n",
        "f, ax = plt.subplots(figsize=(10, 8))\n",
        "sns.heatmap(\n",
        "    confusion_matrix_out,\n",
        "    annot=True,\n",
        "    linewidths=.4,\n",
        "    fmt=\"d\",\n",
        "    square=True,\n",
        "    ax=ax,\n",
        "    xticklabels=data_labels,\n",
        "    yticklabels=data_labels\n",
        ")\n",
        "\n",
        "plt.ylabel('Actual')\n",
        "plt.xlabel('Predicted')\n",
        "plt.show()"
      ]
    },
    {
      "cell_type": "markdown",
      "metadata": {
        "id": "MstKA9Op8XOA"
      },
      "source": [
        "**Observations and Insights:__**"
      ]
    },
    {
      "cell_type": "markdown",
      "metadata": {
        "id": "S1LQ64iTsSH0"
      },
      "source": [
        "## **Think About It:**\n",
        "\n",
        "* Did the models have a satisfactory performance? If not, then what are the possible reasons?\n",
        "* Which Color mode showed better overall performance? What are the possible reasons? Do you think having 'rgb' color mode is needed because the images are already black and white?"
      ]
    },
    {
      "cell_type": "markdown",
      "metadata": {
        "id": "boQi7epI3Lsu"
      },
      "source": [
        "## **Transfer Learning Architectures**\n",
        "\n",
        "In this section, we will create several Transfer Learning architectures. For the pre-trained models, we will select three popular architectures namely, VGG16, ResNet v2, and Efficient Net. The difference between these architectures and the previous architectures is that these will require 3 input channels while the earlier ones worked on 'grayscale' images. Therefore, we need to create new DataLoaders."
      ]
    },
    {
      "cell_type": "markdown",
      "metadata": {
        "id": "7kMsvUQuD89r"
      },
      "source": [
        "### **Creating our Data Loaders for Transfer Learning Architectures**\n",
        "\n",
        "In this section, we are creating data loaders that we will use as inputs to our Neural Network. We will have to go with color_mode = 'rgb' as this is the required format for the transfer learning architectures."
      ]
    },
    {
      "cell_type": "code",
      "execution_count": 291,
      "metadata": {
        "id": "hWmbGuuRD89r"
      },
      "outputs": [
        {
          "name": "stdout",
          "output_type": "stream",
          "text": [
            "Found 15109 files belonging to 4 classes.\n",
            "Found 128 files belonging to 4 classes.\n",
            "Found 4977 files belonging to 4 classes.\n"
          ]
        }
      ],
      "source": [
        "\n",
        "## Transfer learning (tl) data sets\n",
        "tl_training_data = get_data_set(folder_path + \"train/\", 'rgb', 32, 48)\n",
        "tl_test_data = get_data_set(folder_path + \"test/\", 'rgb', 32, 48)\n",
        "tl_validation_data = get_data_set(folder_path + \"validation/\", 'rgb', 32, 48)"
      ]
    },
    {
      "cell_type": "code",
      "execution_count": 292,
      "metadata": {},
      "outputs": [
        {
          "name": "stdout",
          "output_type": "stream",
          "text": [
            "[1 2 2 2 0 3 2 0 3 3 2 1 3 2 3 2 3 1 1 0 2 3 0 2 1 3 0 0 1 1 2 1 0 1 3 0 1\n",
            " 2 3 3 1 2 2 2 3 2 1 2 0 1 2 0 1 0 3 0 3 2 0 2 2 1 1 2 0 3 1 3 2 2 3 2 3 3\n",
            " 0 0 2 0 3 0 3 3 0 3 3 3 1 0 1 3 2 2 1 0 1 3 2 2 1 3 1 3 0 1 0 0 1 1 0 0 1\n",
            " 1 2 0 0 0 1 0 0 3 2 1 0 3 1 3 1 2]\n"
          ]
        },
        {
          "data": {
            "text/plain": [
              "(128,)"
            ]
          },
          "execution_count": 292,
          "metadata": {},
          "output_type": "execute_result"
        }
      ],
      "source": [
        "tl_testing_label_decoded = np.zeros((128,), dtype='int32')\n",
        "iter = 0\n",
        "for image_batch, label_batch in tl_test_data:\n",
        "    for label in label_batch:\n",
        "        tl_testing_label_decoded[iter] = np.argmax(label)\n",
        "        iter += 1\n",
        "\n",
        "print(tl_testing_label_decoded)\n",
        "tl_testing_label_decoded.shape"
      ]
    },
    {
      "cell_type": "markdown",
      "metadata": {
        "id": "vaUYQdkf7pDG"
      },
      "source": [
        "## **VGG16 Model**"
      ]
    },
    {
      "cell_type": "markdown",
      "metadata": {
        "id": "ThCSNrWC4HW0"
      },
      "source": [
        "### **Importing the VGG16 Architecture**"
      ]
    },
    {
      "cell_type": "code",
      "execution_count": 299,
      "metadata": {},
      "outputs": [],
      "source": [
        "tf.keras.backend.clear_session()"
      ]
    },
    {
      "cell_type": "code",
      "execution_count": 300,
      "metadata": {},
      "outputs": [],
      "source": [
        "np.random.seed(42)\n",
        "import random\n",
        "random.seed(42)\n",
        "tf.random.set_seed(42)"
      ]
    },
    {
      "cell_type": "code",
      "execution_count": 301,
      "metadata": {
        "id": "7c83c83e"
      },
      "outputs": [
        {
          "data": {
            "text/html": [
              "<pre style=\"white-space:pre;overflow-x:auto;line-height:normal;font-family:Menlo,'DejaVu Sans Mono',consolas,'Courier New',monospace\"><span style=\"font-weight: bold\">Model: \"vgg16\"</span>\n",
              "</pre>\n"
            ],
            "text/plain": [
              "\u001b[1mModel: \"vgg16\"\u001b[0m\n"
            ]
          },
          "metadata": {},
          "output_type": "display_data"
        },
        {
          "data": {
            "text/html": [
              "<pre style=\"white-space:pre;overflow-x:auto;line-height:normal;font-family:Menlo,'DejaVu Sans Mono',consolas,'Courier New',monospace\">┏━━━━━━━━━━━━━━━━━━━━━━━━━━━━━━━━━┳━━━━━━━━━━━━━━━━━━━━━━━━┳━━━━━━━━━━━━━━━┓\n",
              "┃<span style=\"font-weight: bold\"> Layer (type)                    </span>┃<span style=\"font-weight: bold\"> Output Shape           </span>┃<span style=\"font-weight: bold\">       Param # </span>┃\n",
              "┡━━━━━━━━━━━━━━━━━━━━━━━━━━━━━━━━━╇━━━━━━━━━━━━━━━━━━━━━━━━╇━━━━━━━━━━━━━━━┩\n",
              "│ input_layer (<span style=\"color: #0087ff; text-decoration-color: #0087ff\">InputLayer</span>)        │ (<span style=\"color: #00d7ff; text-decoration-color: #00d7ff\">None</span>, <span style=\"color: #00af00; text-decoration-color: #00af00\">48</span>, <span style=\"color: #00af00; text-decoration-color: #00af00\">48</span>, <span style=\"color: #00af00; text-decoration-color: #00af00\">3</span>)      │             <span style=\"color: #00af00; text-decoration-color: #00af00\">0</span> │\n",
              "├─────────────────────────────────┼────────────────────────┼───────────────┤\n",
              "│ block1_conv1 (<span style=\"color: #0087ff; text-decoration-color: #0087ff\">Conv2D</span>)           │ (<span style=\"color: #00d7ff; text-decoration-color: #00d7ff\">None</span>, <span style=\"color: #00af00; text-decoration-color: #00af00\">48</span>, <span style=\"color: #00af00; text-decoration-color: #00af00\">48</span>, <span style=\"color: #00af00; text-decoration-color: #00af00\">64</span>)     │         <span style=\"color: #00af00; text-decoration-color: #00af00\">1,792</span> │\n",
              "├─────────────────────────────────┼────────────────────────┼───────────────┤\n",
              "│ block1_conv2 (<span style=\"color: #0087ff; text-decoration-color: #0087ff\">Conv2D</span>)           │ (<span style=\"color: #00d7ff; text-decoration-color: #00d7ff\">None</span>, <span style=\"color: #00af00; text-decoration-color: #00af00\">48</span>, <span style=\"color: #00af00; text-decoration-color: #00af00\">48</span>, <span style=\"color: #00af00; text-decoration-color: #00af00\">64</span>)     │        <span style=\"color: #00af00; text-decoration-color: #00af00\">36,928</span> │\n",
              "├─────────────────────────────────┼────────────────────────┼───────────────┤\n",
              "│ block1_pool (<span style=\"color: #0087ff; text-decoration-color: #0087ff\">MaxPooling2D</span>)      │ (<span style=\"color: #00d7ff; text-decoration-color: #00d7ff\">None</span>, <span style=\"color: #00af00; text-decoration-color: #00af00\">24</span>, <span style=\"color: #00af00; text-decoration-color: #00af00\">24</span>, <span style=\"color: #00af00; text-decoration-color: #00af00\">64</span>)     │             <span style=\"color: #00af00; text-decoration-color: #00af00\">0</span> │\n",
              "├─────────────────────────────────┼────────────────────────┼───────────────┤\n",
              "│ block2_conv1 (<span style=\"color: #0087ff; text-decoration-color: #0087ff\">Conv2D</span>)           │ (<span style=\"color: #00d7ff; text-decoration-color: #00d7ff\">None</span>, <span style=\"color: #00af00; text-decoration-color: #00af00\">24</span>, <span style=\"color: #00af00; text-decoration-color: #00af00\">24</span>, <span style=\"color: #00af00; text-decoration-color: #00af00\">128</span>)    │        <span style=\"color: #00af00; text-decoration-color: #00af00\">73,856</span> │\n",
              "├─────────────────────────────────┼────────────────────────┼───────────────┤\n",
              "│ block2_conv2 (<span style=\"color: #0087ff; text-decoration-color: #0087ff\">Conv2D</span>)           │ (<span style=\"color: #00d7ff; text-decoration-color: #00d7ff\">None</span>, <span style=\"color: #00af00; text-decoration-color: #00af00\">24</span>, <span style=\"color: #00af00; text-decoration-color: #00af00\">24</span>, <span style=\"color: #00af00; text-decoration-color: #00af00\">128</span>)    │       <span style=\"color: #00af00; text-decoration-color: #00af00\">147,584</span> │\n",
              "├─────────────────────────────────┼────────────────────────┼───────────────┤\n",
              "│ block2_pool (<span style=\"color: #0087ff; text-decoration-color: #0087ff\">MaxPooling2D</span>)      │ (<span style=\"color: #00d7ff; text-decoration-color: #00d7ff\">None</span>, <span style=\"color: #00af00; text-decoration-color: #00af00\">12</span>, <span style=\"color: #00af00; text-decoration-color: #00af00\">12</span>, <span style=\"color: #00af00; text-decoration-color: #00af00\">128</span>)    │             <span style=\"color: #00af00; text-decoration-color: #00af00\">0</span> │\n",
              "├─────────────────────────────────┼────────────────────────┼───────────────┤\n",
              "│ block3_conv1 (<span style=\"color: #0087ff; text-decoration-color: #0087ff\">Conv2D</span>)           │ (<span style=\"color: #00d7ff; text-decoration-color: #00d7ff\">None</span>, <span style=\"color: #00af00; text-decoration-color: #00af00\">12</span>, <span style=\"color: #00af00; text-decoration-color: #00af00\">12</span>, <span style=\"color: #00af00; text-decoration-color: #00af00\">256</span>)    │       <span style=\"color: #00af00; text-decoration-color: #00af00\">295,168</span> │\n",
              "├─────────────────────────────────┼────────────────────────┼───────────────┤\n",
              "│ block3_conv2 (<span style=\"color: #0087ff; text-decoration-color: #0087ff\">Conv2D</span>)           │ (<span style=\"color: #00d7ff; text-decoration-color: #00d7ff\">None</span>, <span style=\"color: #00af00; text-decoration-color: #00af00\">12</span>, <span style=\"color: #00af00; text-decoration-color: #00af00\">12</span>, <span style=\"color: #00af00; text-decoration-color: #00af00\">256</span>)    │       <span style=\"color: #00af00; text-decoration-color: #00af00\">590,080</span> │\n",
              "├─────────────────────────────────┼────────────────────────┼───────────────┤\n",
              "│ block3_conv3 (<span style=\"color: #0087ff; text-decoration-color: #0087ff\">Conv2D</span>)           │ (<span style=\"color: #00d7ff; text-decoration-color: #00d7ff\">None</span>, <span style=\"color: #00af00; text-decoration-color: #00af00\">12</span>, <span style=\"color: #00af00; text-decoration-color: #00af00\">12</span>, <span style=\"color: #00af00; text-decoration-color: #00af00\">256</span>)    │       <span style=\"color: #00af00; text-decoration-color: #00af00\">590,080</span> │\n",
              "├─────────────────────────────────┼────────────────────────┼───────────────┤\n",
              "│ block3_pool (<span style=\"color: #0087ff; text-decoration-color: #0087ff\">MaxPooling2D</span>)      │ (<span style=\"color: #00d7ff; text-decoration-color: #00d7ff\">None</span>, <span style=\"color: #00af00; text-decoration-color: #00af00\">6</span>, <span style=\"color: #00af00; text-decoration-color: #00af00\">6</span>, <span style=\"color: #00af00; text-decoration-color: #00af00\">256</span>)      │             <span style=\"color: #00af00; text-decoration-color: #00af00\">0</span> │\n",
              "├─────────────────────────────────┼────────────────────────┼───────────────┤\n",
              "│ block4_conv1 (<span style=\"color: #0087ff; text-decoration-color: #0087ff\">Conv2D</span>)           │ (<span style=\"color: #00d7ff; text-decoration-color: #00d7ff\">None</span>, <span style=\"color: #00af00; text-decoration-color: #00af00\">6</span>, <span style=\"color: #00af00; text-decoration-color: #00af00\">6</span>, <span style=\"color: #00af00; text-decoration-color: #00af00\">512</span>)      │     <span style=\"color: #00af00; text-decoration-color: #00af00\">1,180,160</span> │\n",
              "├─────────────────────────────────┼────────────────────────┼───────────────┤\n",
              "│ block4_conv2 (<span style=\"color: #0087ff; text-decoration-color: #0087ff\">Conv2D</span>)           │ (<span style=\"color: #00d7ff; text-decoration-color: #00d7ff\">None</span>, <span style=\"color: #00af00; text-decoration-color: #00af00\">6</span>, <span style=\"color: #00af00; text-decoration-color: #00af00\">6</span>, <span style=\"color: #00af00; text-decoration-color: #00af00\">512</span>)      │     <span style=\"color: #00af00; text-decoration-color: #00af00\">2,359,808</span> │\n",
              "├─────────────────────────────────┼────────────────────────┼───────────────┤\n",
              "│ block4_conv3 (<span style=\"color: #0087ff; text-decoration-color: #0087ff\">Conv2D</span>)           │ (<span style=\"color: #00d7ff; text-decoration-color: #00d7ff\">None</span>, <span style=\"color: #00af00; text-decoration-color: #00af00\">6</span>, <span style=\"color: #00af00; text-decoration-color: #00af00\">6</span>, <span style=\"color: #00af00; text-decoration-color: #00af00\">512</span>)      │     <span style=\"color: #00af00; text-decoration-color: #00af00\">2,359,808</span> │\n",
              "├─────────────────────────────────┼────────────────────────┼───────────────┤\n",
              "│ block4_pool (<span style=\"color: #0087ff; text-decoration-color: #0087ff\">MaxPooling2D</span>)      │ (<span style=\"color: #00d7ff; text-decoration-color: #00d7ff\">None</span>, <span style=\"color: #00af00; text-decoration-color: #00af00\">3</span>, <span style=\"color: #00af00; text-decoration-color: #00af00\">3</span>, <span style=\"color: #00af00; text-decoration-color: #00af00\">512</span>)      │             <span style=\"color: #00af00; text-decoration-color: #00af00\">0</span> │\n",
              "├─────────────────────────────────┼────────────────────────┼───────────────┤\n",
              "│ block5_conv1 (<span style=\"color: #0087ff; text-decoration-color: #0087ff\">Conv2D</span>)           │ (<span style=\"color: #00d7ff; text-decoration-color: #00d7ff\">None</span>, <span style=\"color: #00af00; text-decoration-color: #00af00\">3</span>, <span style=\"color: #00af00; text-decoration-color: #00af00\">3</span>, <span style=\"color: #00af00; text-decoration-color: #00af00\">512</span>)      │     <span style=\"color: #00af00; text-decoration-color: #00af00\">2,359,808</span> │\n",
              "├─────────────────────────────────┼────────────────────────┼───────────────┤\n",
              "│ block5_conv2 (<span style=\"color: #0087ff; text-decoration-color: #0087ff\">Conv2D</span>)           │ (<span style=\"color: #00d7ff; text-decoration-color: #00d7ff\">None</span>, <span style=\"color: #00af00; text-decoration-color: #00af00\">3</span>, <span style=\"color: #00af00; text-decoration-color: #00af00\">3</span>, <span style=\"color: #00af00; text-decoration-color: #00af00\">512</span>)      │     <span style=\"color: #00af00; text-decoration-color: #00af00\">2,359,808</span> │\n",
              "├─────────────────────────────────┼────────────────────────┼───────────────┤\n",
              "│ block5_conv3 (<span style=\"color: #0087ff; text-decoration-color: #0087ff\">Conv2D</span>)           │ (<span style=\"color: #00d7ff; text-decoration-color: #00d7ff\">None</span>, <span style=\"color: #00af00; text-decoration-color: #00af00\">3</span>, <span style=\"color: #00af00; text-decoration-color: #00af00\">3</span>, <span style=\"color: #00af00; text-decoration-color: #00af00\">512</span>)      │     <span style=\"color: #00af00; text-decoration-color: #00af00\">2,359,808</span> │\n",
              "├─────────────────────────────────┼────────────────────────┼───────────────┤\n",
              "│ block5_pool (<span style=\"color: #0087ff; text-decoration-color: #0087ff\">MaxPooling2D</span>)      │ (<span style=\"color: #00d7ff; text-decoration-color: #00d7ff\">None</span>, <span style=\"color: #00af00; text-decoration-color: #00af00\">1</span>, <span style=\"color: #00af00; text-decoration-color: #00af00\">1</span>, <span style=\"color: #00af00; text-decoration-color: #00af00\">512</span>)      │             <span style=\"color: #00af00; text-decoration-color: #00af00\">0</span> │\n",
              "└─────────────────────────────────┴────────────────────────┴───────────────┘\n",
              "</pre>\n"
            ],
            "text/plain": [
              "┏━━━━━━━━━━━━━━━━━━━━━━━━━━━━━━━━━┳━━━━━━━━━━━━━━━━━━━━━━━━┳━━━━━━━━━━━━━━━┓\n",
              "┃\u001b[1m \u001b[0m\u001b[1mLayer (type)                   \u001b[0m\u001b[1m \u001b[0m┃\u001b[1m \u001b[0m\u001b[1mOutput Shape          \u001b[0m\u001b[1m \u001b[0m┃\u001b[1m \u001b[0m\u001b[1m      Param #\u001b[0m\u001b[1m \u001b[0m┃\n",
              "┡━━━━━━━━━━━━━━━━━━━━━━━━━━━━━━━━━╇━━━━━━━━━━━━━━━━━━━━━━━━╇━━━━━━━━━━━━━━━┩\n",
              "│ input_layer (\u001b[38;5;33mInputLayer\u001b[0m)        │ (\u001b[38;5;45mNone\u001b[0m, \u001b[38;5;34m48\u001b[0m, \u001b[38;5;34m48\u001b[0m, \u001b[38;5;34m3\u001b[0m)      │             \u001b[38;5;34m0\u001b[0m │\n",
              "├─────────────────────────────────┼────────────────────────┼───────────────┤\n",
              "│ block1_conv1 (\u001b[38;5;33mConv2D\u001b[0m)           │ (\u001b[38;5;45mNone\u001b[0m, \u001b[38;5;34m48\u001b[0m, \u001b[38;5;34m48\u001b[0m, \u001b[38;5;34m64\u001b[0m)     │         \u001b[38;5;34m1,792\u001b[0m │\n",
              "├─────────────────────────────────┼────────────────────────┼───────────────┤\n",
              "│ block1_conv2 (\u001b[38;5;33mConv2D\u001b[0m)           │ (\u001b[38;5;45mNone\u001b[0m, \u001b[38;5;34m48\u001b[0m, \u001b[38;5;34m48\u001b[0m, \u001b[38;5;34m64\u001b[0m)     │        \u001b[38;5;34m36,928\u001b[0m │\n",
              "├─────────────────────────────────┼────────────────────────┼───────────────┤\n",
              "│ block1_pool (\u001b[38;5;33mMaxPooling2D\u001b[0m)      │ (\u001b[38;5;45mNone\u001b[0m, \u001b[38;5;34m24\u001b[0m, \u001b[38;5;34m24\u001b[0m, \u001b[38;5;34m64\u001b[0m)     │             \u001b[38;5;34m0\u001b[0m │\n",
              "├─────────────────────────────────┼────────────────────────┼───────────────┤\n",
              "│ block2_conv1 (\u001b[38;5;33mConv2D\u001b[0m)           │ (\u001b[38;5;45mNone\u001b[0m, \u001b[38;5;34m24\u001b[0m, \u001b[38;5;34m24\u001b[0m, \u001b[38;5;34m128\u001b[0m)    │        \u001b[38;5;34m73,856\u001b[0m │\n",
              "├─────────────────────────────────┼────────────────────────┼───────────────┤\n",
              "│ block2_conv2 (\u001b[38;5;33mConv2D\u001b[0m)           │ (\u001b[38;5;45mNone\u001b[0m, \u001b[38;5;34m24\u001b[0m, \u001b[38;5;34m24\u001b[0m, \u001b[38;5;34m128\u001b[0m)    │       \u001b[38;5;34m147,584\u001b[0m │\n",
              "├─────────────────────────────────┼────────────────────────┼───────────────┤\n",
              "│ block2_pool (\u001b[38;5;33mMaxPooling2D\u001b[0m)      │ (\u001b[38;5;45mNone\u001b[0m, \u001b[38;5;34m12\u001b[0m, \u001b[38;5;34m12\u001b[0m, \u001b[38;5;34m128\u001b[0m)    │             \u001b[38;5;34m0\u001b[0m │\n",
              "├─────────────────────────────────┼────────────────────────┼───────────────┤\n",
              "│ block3_conv1 (\u001b[38;5;33mConv2D\u001b[0m)           │ (\u001b[38;5;45mNone\u001b[0m, \u001b[38;5;34m12\u001b[0m, \u001b[38;5;34m12\u001b[0m, \u001b[38;5;34m256\u001b[0m)    │       \u001b[38;5;34m295,168\u001b[0m │\n",
              "├─────────────────────────────────┼────────────────────────┼───────────────┤\n",
              "│ block3_conv2 (\u001b[38;5;33mConv2D\u001b[0m)           │ (\u001b[38;5;45mNone\u001b[0m, \u001b[38;5;34m12\u001b[0m, \u001b[38;5;34m12\u001b[0m, \u001b[38;5;34m256\u001b[0m)    │       \u001b[38;5;34m590,080\u001b[0m │\n",
              "├─────────────────────────────────┼────────────────────────┼───────────────┤\n",
              "│ block3_conv3 (\u001b[38;5;33mConv2D\u001b[0m)           │ (\u001b[38;5;45mNone\u001b[0m, \u001b[38;5;34m12\u001b[0m, \u001b[38;5;34m12\u001b[0m, \u001b[38;5;34m256\u001b[0m)    │       \u001b[38;5;34m590,080\u001b[0m │\n",
              "├─────────────────────────────────┼────────────────────────┼───────────────┤\n",
              "│ block3_pool (\u001b[38;5;33mMaxPooling2D\u001b[0m)      │ (\u001b[38;5;45mNone\u001b[0m, \u001b[38;5;34m6\u001b[0m, \u001b[38;5;34m6\u001b[0m, \u001b[38;5;34m256\u001b[0m)      │             \u001b[38;5;34m0\u001b[0m │\n",
              "├─────────────────────────────────┼────────────────────────┼───────────────┤\n",
              "│ block4_conv1 (\u001b[38;5;33mConv2D\u001b[0m)           │ (\u001b[38;5;45mNone\u001b[0m, \u001b[38;5;34m6\u001b[0m, \u001b[38;5;34m6\u001b[0m, \u001b[38;5;34m512\u001b[0m)      │     \u001b[38;5;34m1,180,160\u001b[0m │\n",
              "├─────────────────────────────────┼────────────────────────┼───────────────┤\n",
              "│ block4_conv2 (\u001b[38;5;33mConv2D\u001b[0m)           │ (\u001b[38;5;45mNone\u001b[0m, \u001b[38;5;34m6\u001b[0m, \u001b[38;5;34m6\u001b[0m, \u001b[38;5;34m512\u001b[0m)      │     \u001b[38;5;34m2,359,808\u001b[0m │\n",
              "├─────────────────────────────────┼────────────────────────┼───────────────┤\n",
              "│ block4_conv3 (\u001b[38;5;33mConv2D\u001b[0m)           │ (\u001b[38;5;45mNone\u001b[0m, \u001b[38;5;34m6\u001b[0m, \u001b[38;5;34m6\u001b[0m, \u001b[38;5;34m512\u001b[0m)      │     \u001b[38;5;34m2,359,808\u001b[0m │\n",
              "├─────────────────────────────────┼────────────────────────┼───────────────┤\n",
              "│ block4_pool (\u001b[38;5;33mMaxPooling2D\u001b[0m)      │ (\u001b[38;5;45mNone\u001b[0m, \u001b[38;5;34m3\u001b[0m, \u001b[38;5;34m3\u001b[0m, \u001b[38;5;34m512\u001b[0m)      │             \u001b[38;5;34m0\u001b[0m │\n",
              "├─────────────────────────────────┼────────────────────────┼───────────────┤\n",
              "│ block5_conv1 (\u001b[38;5;33mConv2D\u001b[0m)           │ (\u001b[38;5;45mNone\u001b[0m, \u001b[38;5;34m3\u001b[0m, \u001b[38;5;34m3\u001b[0m, \u001b[38;5;34m512\u001b[0m)      │     \u001b[38;5;34m2,359,808\u001b[0m │\n",
              "├─────────────────────────────────┼────────────────────────┼───────────────┤\n",
              "│ block5_conv2 (\u001b[38;5;33mConv2D\u001b[0m)           │ (\u001b[38;5;45mNone\u001b[0m, \u001b[38;5;34m3\u001b[0m, \u001b[38;5;34m3\u001b[0m, \u001b[38;5;34m512\u001b[0m)      │     \u001b[38;5;34m2,359,808\u001b[0m │\n",
              "├─────────────────────────────────┼────────────────────────┼───────────────┤\n",
              "│ block5_conv3 (\u001b[38;5;33mConv2D\u001b[0m)           │ (\u001b[38;5;45mNone\u001b[0m, \u001b[38;5;34m3\u001b[0m, \u001b[38;5;34m3\u001b[0m, \u001b[38;5;34m512\u001b[0m)      │     \u001b[38;5;34m2,359,808\u001b[0m │\n",
              "├─────────────────────────────────┼────────────────────────┼───────────────┤\n",
              "│ block5_pool (\u001b[38;5;33mMaxPooling2D\u001b[0m)      │ (\u001b[38;5;45mNone\u001b[0m, \u001b[38;5;34m1\u001b[0m, \u001b[38;5;34m1\u001b[0m, \u001b[38;5;34m512\u001b[0m)      │             \u001b[38;5;34m0\u001b[0m │\n",
              "└─────────────────────────────────┴────────────────────────┴───────────────┘\n"
            ]
          },
          "metadata": {},
          "output_type": "display_data"
        },
        {
          "data": {
            "text/html": [
              "<pre style=\"white-space:pre;overflow-x:auto;line-height:normal;font-family:Menlo,'DejaVu Sans Mono',consolas,'Courier New',monospace\"><span style=\"font-weight: bold\"> Total params: </span><span style=\"color: #00af00; text-decoration-color: #00af00\">14,714,688</span> (56.13 MB)\n",
              "</pre>\n"
            ],
            "text/plain": [
              "\u001b[1m Total params: \u001b[0m\u001b[38;5;34m14,714,688\u001b[0m (56.13 MB)\n"
            ]
          },
          "metadata": {},
          "output_type": "display_data"
        },
        {
          "data": {
            "text/html": [
              "<pre style=\"white-space:pre;overflow-x:auto;line-height:normal;font-family:Menlo,'DejaVu Sans Mono',consolas,'Courier New',monospace\"><span style=\"font-weight: bold\"> Trainable params: </span><span style=\"color: #00af00; text-decoration-color: #00af00\">14,714,688</span> (56.13 MB)\n",
              "</pre>\n"
            ],
            "text/plain": [
              "\u001b[1m Trainable params: \u001b[0m\u001b[38;5;34m14,714,688\u001b[0m (56.13 MB)\n"
            ]
          },
          "metadata": {},
          "output_type": "display_data"
        },
        {
          "data": {
            "text/html": [
              "<pre style=\"white-space:pre;overflow-x:auto;line-height:normal;font-family:Menlo,'DejaVu Sans Mono',consolas,'Courier New',monospace\"><span style=\"font-weight: bold\"> Non-trainable params: </span><span style=\"color: #00af00; text-decoration-color: #00af00\">0</span> (0.00 B)\n",
              "</pre>\n"
            ],
            "text/plain": [
              "\u001b[1m Non-trainable params: \u001b[0m\u001b[38;5;34m0\u001b[0m (0.00 B)\n"
            ]
          },
          "metadata": {},
          "output_type": "display_data"
        }
      ],
      "source": [
        "from tensorflow.keras.applications.vgg16 import VGG16\n",
        "from tensorflow.keras import Model\n",
        "\n",
        "vgg = VGG16(include_top = False, weights = 'imagenet', input_shape = (48, 48, 3))\n",
        "vgg.summary()"
      ]
    },
    {
      "cell_type": "markdown",
      "metadata": {
        "id": "X76HMyZX4edM"
      },
      "source": [
        "### **Model Building**\n",
        "\n",
        "- Import VGG16 upto the layer of your choice and add Fully Connected layers on top of it."
      ]
    },
    {
      "cell_type": "code",
      "execution_count": 302,
      "metadata": {
        "id": "8b123bc6"
      },
      "outputs": [],
      "source": [
        "transfer_layer = vgg.get_layer('block5_pool')\n",
        "vgg.trainable = False\n",
        "\n",
        "x = Flatten()(transfer_layer.output)\n",
        "\n",
        "x = Dense(256, activation = 'relu')(x)\n",
        "x = Dense(128, activation = 'relu')(x)\n",
        "x = Dropout(0.3)(x)\n",
        "x = Dense(64, activation = 'relu')(x)\n",
        "x = BatchNormalization()(x)\n",
        "pred = Dense(4, activation='softmax')(x)\n",
        "\n",
        "vgg_transfer_model = Model(vgg.input, pred)"
      ]
    },
    {
      "cell_type": "markdown",
      "metadata": {
        "id": "t6vK7u7w8GsM"
      },
      "source": [
        "### **Compiling and Training the VGG16 Model**"
      ]
    },
    {
      "cell_type": "code",
      "execution_count": 303,
      "metadata": {},
      "outputs": [],
      "source": [
        "vgg_transfer_model.compile(optimizer = Adam(learning_rate = 0.001),\n",
        "                           loss = 'categorical_crossentropy', metrics = ['accuracy'])"
      ]
    },
    {
      "cell_type": "code",
      "execution_count": 304,
      "metadata": {
        "id": "86b249f1"
      },
      "outputs": [],
      "source": [
        "vgg_transfer_model_file = os.path.abspath(out_directory + \"/vgg_transfer_model{epoch}_max_accuracy.keras\")\n",
        "checkpoint = ModelCheckpoint(vgg_transfer_model_file, \n",
        "                             monitor = 'val_loss',\n",
        "                             verbose = 1,\n",
        "                             save_best_only = True,\n",
        "                             mode = 'max')\n",
        "\n",
        "early_stopping = EarlyStopping(monitor = 'val_loss',\n",
        "                          min_delta = 0,\n",
        "                          patience = 3,\n",
        "                          verbose = 1,\n",
        "                          restore_best_weights = True)\n",
        "\n",
        "reduce_learningrate = ReduceLROnPlateau(monitor = 'val_loss',\n",
        "                              factor = 0.2,\n",
        "                              patience = 3,\n",
        "                              verbose = 1,\n",
        "                              min_delta = 0.0001)\n",
        "\n",
        "callbacks_list = [early_stopping, checkpoint, reduce_learningrate]"
      ]
    },
    {
      "cell_type": "code",
      "execution_count": 305,
      "metadata": {},
      "outputs": [
        {
          "name": "stdout",
          "output_type": "stream",
          "text": [
            "Epoch 1/20\n",
            "\u001b[1m199/473\u001b[0m \u001b[32m━━━━━━━━\u001b[0m\u001b[37m━━━━━━━━━━━━\u001b[0m \u001b[1m1:14\u001b[0m 274ms/step - accuracy: 0.3692 - loss: 1.4741"
          ]
        },
        {
          "ename": "KeyboardInterrupt",
          "evalue": "",
          "output_type": "error",
          "traceback": [
            "\u001b[1;31m---------------------------------------------------------------------------\u001b[0m",
            "\u001b[1;31mKeyboardInterrupt\u001b[0m                         Traceback (most recent call last)",
            "Cell \u001b[1;32mIn[305], line 2\u001b[0m\n\u001b[0;32m      1\u001b[0m epochs \u001b[38;5;241m=\u001b[39m \u001b[38;5;241m20\u001b[39m\n\u001b[1;32m----> 2\u001b[0m vgg_model_history \u001b[38;5;241m=\u001b[39m vgg_transfer_model\u001b[38;5;241m.\u001b[39mfit(tl_training_data,\n\u001b[0;32m      3\u001b[0m                                          validation_data \u001b[38;5;241m=\u001b[39m tl_validation_data,\n\u001b[0;32m      4\u001b[0m                                          epochs \u001b[38;5;241m=\u001b[39m epochs,\n\u001b[0;32m      5\u001b[0m                                          callbacks \u001b[38;5;241m=\u001b[39m callbacks_list)\n",
            "File \u001b[1;32mc:\\Users\\amit_\\anaconda3\\Lib\\site-packages\\keras\\src\\utils\\traceback_utils.py:117\u001b[0m, in \u001b[0;36mfilter_traceback.<locals>.error_handler\u001b[1;34m(*args, **kwargs)\u001b[0m\n\u001b[0;32m    115\u001b[0m filtered_tb \u001b[38;5;241m=\u001b[39m \u001b[38;5;28;01mNone\u001b[39;00m\n\u001b[0;32m    116\u001b[0m \u001b[38;5;28;01mtry\u001b[39;00m:\n\u001b[1;32m--> 117\u001b[0m     \u001b[38;5;28;01mreturn\u001b[39;00m fn(\u001b[38;5;241m*\u001b[39margs, \u001b[38;5;241m*\u001b[39m\u001b[38;5;241m*\u001b[39mkwargs)\n\u001b[0;32m    118\u001b[0m \u001b[38;5;28;01mexcept\u001b[39;00m \u001b[38;5;167;01mException\u001b[39;00m \u001b[38;5;28;01mas\u001b[39;00m e:\n\u001b[0;32m    119\u001b[0m     filtered_tb \u001b[38;5;241m=\u001b[39m _process_traceback_frames(e\u001b[38;5;241m.\u001b[39m__traceback__)\n",
            "File \u001b[1;32mc:\\Users\\amit_\\anaconda3\\Lib\\site-packages\\keras\\src\\backend\\tensorflow\\trainer.py:371\u001b[0m, in \u001b[0;36mTensorFlowTrainer.fit\u001b[1;34m(self, x, y, batch_size, epochs, verbose, callbacks, validation_split, validation_data, shuffle, class_weight, sample_weight, initial_epoch, steps_per_epoch, validation_steps, validation_batch_size, validation_freq)\u001b[0m\n\u001b[0;32m    369\u001b[0m \u001b[38;5;28;01mfor\u001b[39;00m step, iterator \u001b[38;5;129;01min\u001b[39;00m epoch_iterator:\n\u001b[0;32m    370\u001b[0m     callbacks\u001b[38;5;241m.\u001b[39mon_train_batch_begin(step)\n\u001b[1;32m--> 371\u001b[0m     logs \u001b[38;5;241m=\u001b[39m \u001b[38;5;28mself\u001b[39m\u001b[38;5;241m.\u001b[39mtrain_function(iterator)\n\u001b[0;32m    372\u001b[0m     callbacks\u001b[38;5;241m.\u001b[39mon_train_batch_end(step, logs)\n\u001b[0;32m    373\u001b[0m     \u001b[38;5;28;01mif\u001b[39;00m \u001b[38;5;28mself\u001b[39m\u001b[38;5;241m.\u001b[39mstop_training:\n",
            "File \u001b[1;32mc:\\Users\\amit_\\anaconda3\\Lib\\site-packages\\keras\\src\\backend\\tensorflow\\trainer.py:219\u001b[0m, in \u001b[0;36mTensorFlowTrainer._make_function.<locals>.function\u001b[1;34m(iterator)\u001b[0m\n\u001b[0;32m    215\u001b[0m \u001b[38;5;28;01mdef\u001b[39;00m \u001b[38;5;21mfunction\u001b[39m(iterator):\n\u001b[0;32m    216\u001b[0m     \u001b[38;5;28;01mif\u001b[39;00m \u001b[38;5;28misinstance\u001b[39m(\n\u001b[0;32m    217\u001b[0m         iterator, (tf\u001b[38;5;241m.\u001b[39mdata\u001b[38;5;241m.\u001b[39mIterator, tf\u001b[38;5;241m.\u001b[39mdistribute\u001b[38;5;241m.\u001b[39mDistributedIterator)\n\u001b[0;32m    218\u001b[0m     ):\n\u001b[1;32m--> 219\u001b[0m         opt_outputs \u001b[38;5;241m=\u001b[39m multi_step_on_iterator(iterator)\n\u001b[0;32m    220\u001b[0m         \u001b[38;5;28;01mif\u001b[39;00m \u001b[38;5;129;01mnot\u001b[39;00m opt_outputs\u001b[38;5;241m.\u001b[39mhas_value():\n\u001b[0;32m    221\u001b[0m             \u001b[38;5;28;01mraise\u001b[39;00m \u001b[38;5;167;01mStopIteration\u001b[39;00m\n",
            "File \u001b[1;32mc:\\Users\\amit_\\anaconda3\\Lib\\site-packages\\tensorflow\\python\\util\\traceback_utils.py:150\u001b[0m, in \u001b[0;36mfilter_traceback.<locals>.error_handler\u001b[1;34m(*args, **kwargs)\u001b[0m\n\u001b[0;32m    148\u001b[0m filtered_tb \u001b[38;5;241m=\u001b[39m \u001b[38;5;28;01mNone\u001b[39;00m\n\u001b[0;32m    149\u001b[0m \u001b[38;5;28;01mtry\u001b[39;00m:\n\u001b[1;32m--> 150\u001b[0m   \u001b[38;5;28;01mreturn\u001b[39;00m fn(\u001b[38;5;241m*\u001b[39margs, \u001b[38;5;241m*\u001b[39m\u001b[38;5;241m*\u001b[39mkwargs)\n\u001b[0;32m    151\u001b[0m \u001b[38;5;28;01mexcept\u001b[39;00m \u001b[38;5;167;01mException\u001b[39;00m \u001b[38;5;28;01mas\u001b[39;00m e:\n\u001b[0;32m    152\u001b[0m   filtered_tb \u001b[38;5;241m=\u001b[39m _process_traceback_frames(e\u001b[38;5;241m.\u001b[39m__traceback__)\n",
            "File \u001b[1;32mc:\\Users\\amit_\\anaconda3\\Lib\\site-packages\\tensorflow\\python\\eager\\polymorphic_function\\polymorphic_function.py:833\u001b[0m, in \u001b[0;36mFunction.__call__\u001b[1;34m(self, *args, **kwds)\u001b[0m\n\u001b[0;32m    830\u001b[0m compiler \u001b[38;5;241m=\u001b[39m \u001b[38;5;124m\"\u001b[39m\u001b[38;5;124mxla\u001b[39m\u001b[38;5;124m\"\u001b[39m \u001b[38;5;28;01mif\u001b[39;00m \u001b[38;5;28mself\u001b[39m\u001b[38;5;241m.\u001b[39m_jit_compile \u001b[38;5;28;01melse\u001b[39;00m \u001b[38;5;124m\"\u001b[39m\u001b[38;5;124mnonXla\u001b[39m\u001b[38;5;124m\"\u001b[39m\n\u001b[0;32m    832\u001b[0m \u001b[38;5;28;01mwith\u001b[39;00m OptionalXlaContext(\u001b[38;5;28mself\u001b[39m\u001b[38;5;241m.\u001b[39m_jit_compile):\n\u001b[1;32m--> 833\u001b[0m   result \u001b[38;5;241m=\u001b[39m \u001b[38;5;28mself\u001b[39m\u001b[38;5;241m.\u001b[39m_call(\u001b[38;5;241m*\u001b[39margs, \u001b[38;5;241m*\u001b[39m\u001b[38;5;241m*\u001b[39mkwds)\n\u001b[0;32m    835\u001b[0m new_tracing_count \u001b[38;5;241m=\u001b[39m \u001b[38;5;28mself\u001b[39m\u001b[38;5;241m.\u001b[39mexperimental_get_tracing_count()\n\u001b[0;32m    836\u001b[0m without_tracing \u001b[38;5;241m=\u001b[39m (tracing_count \u001b[38;5;241m==\u001b[39m new_tracing_count)\n",
            "File \u001b[1;32mc:\\Users\\amit_\\anaconda3\\Lib\\site-packages\\tensorflow\\python\\eager\\polymorphic_function\\polymorphic_function.py:878\u001b[0m, in \u001b[0;36mFunction._call\u001b[1;34m(self, *args, **kwds)\u001b[0m\n\u001b[0;32m    875\u001b[0m \u001b[38;5;28mself\u001b[39m\u001b[38;5;241m.\u001b[39m_lock\u001b[38;5;241m.\u001b[39mrelease()\n\u001b[0;32m    876\u001b[0m \u001b[38;5;66;03m# In this case we have not created variables on the first call. So we can\u001b[39;00m\n\u001b[0;32m    877\u001b[0m \u001b[38;5;66;03m# run the first trace but we should fail if variables are created.\u001b[39;00m\n\u001b[1;32m--> 878\u001b[0m results \u001b[38;5;241m=\u001b[39m tracing_compilation\u001b[38;5;241m.\u001b[39mcall_function(\n\u001b[0;32m    879\u001b[0m     args, kwds, \u001b[38;5;28mself\u001b[39m\u001b[38;5;241m.\u001b[39m_variable_creation_config\n\u001b[0;32m    880\u001b[0m )\n\u001b[0;32m    881\u001b[0m \u001b[38;5;28;01mif\u001b[39;00m \u001b[38;5;28mself\u001b[39m\u001b[38;5;241m.\u001b[39m_created_variables:\n\u001b[0;32m    882\u001b[0m   \u001b[38;5;28;01mraise\u001b[39;00m \u001b[38;5;167;01mValueError\u001b[39;00m(\u001b[38;5;124m\"\u001b[39m\u001b[38;5;124mCreating variables on a non-first call to a function\u001b[39m\u001b[38;5;124m\"\u001b[39m\n\u001b[0;32m    883\u001b[0m                    \u001b[38;5;124m\"\u001b[39m\u001b[38;5;124m decorated with tf.function.\u001b[39m\u001b[38;5;124m\"\u001b[39m)\n",
            "File \u001b[1;32mc:\\Users\\amit_\\anaconda3\\Lib\\site-packages\\tensorflow\\python\\eager\\polymorphic_function\\tracing_compilation.py:139\u001b[0m, in \u001b[0;36mcall_function\u001b[1;34m(args, kwargs, tracing_options)\u001b[0m\n\u001b[0;32m    137\u001b[0m bound_args \u001b[38;5;241m=\u001b[39m function\u001b[38;5;241m.\u001b[39mfunction_type\u001b[38;5;241m.\u001b[39mbind(\u001b[38;5;241m*\u001b[39margs, \u001b[38;5;241m*\u001b[39m\u001b[38;5;241m*\u001b[39mkwargs)\n\u001b[0;32m    138\u001b[0m flat_inputs \u001b[38;5;241m=\u001b[39m function\u001b[38;5;241m.\u001b[39mfunction_type\u001b[38;5;241m.\u001b[39munpack_inputs(bound_args)\n\u001b[1;32m--> 139\u001b[0m \u001b[38;5;28;01mreturn\u001b[39;00m function\u001b[38;5;241m.\u001b[39m_call_flat(  \u001b[38;5;66;03m# pylint: disable=protected-access\u001b[39;00m\n\u001b[0;32m    140\u001b[0m     flat_inputs, captured_inputs\u001b[38;5;241m=\u001b[39mfunction\u001b[38;5;241m.\u001b[39mcaptured_inputs\n\u001b[0;32m    141\u001b[0m )\n",
            "File \u001b[1;32mc:\\Users\\amit_\\anaconda3\\Lib\\site-packages\\tensorflow\\python\\eager\\polymorphic_function\\concrete_function.py:1322\u001b[0m, in \u001b[0;36mConcreteFunction._call_flat\u001b[1;34m(self, tensor_inputs, captured_inputs)\u001b[0m\n\u001b[0;32m   1318\u001b[0m possible_gradient_type \u001b[38;5;241m=\u001b[39m gradients_util\u001b[38;5;241m.\u001b[39mPossibleTapeGradientTypes(args)\n\u001b[0;32m   1319\u001b[0m \u001b[38;5;28;01mif\u001b[39;00m (possible_gradient_type \u001b[38;5;241m==\u001b[39m gradients_util\u001b[38;5;241m.\u001b[39mPOSSIBLE_GRADIENT_TYPES_NONE\n\u001b[0;32m   1320\u001b[0m     \u001b[38;5;129;01mand\u001b[39;00m executing_eagerly):\n\u001b[0;32m   1321\u001b[0m   \u001b[38;5;66;03m# No tape is watching; skip to running the function.\u001b[39;00m\n\u001b[1;32m-> 1322\u001b[0m   \u001b[38;5;28;01mreturn\u001b[39;00m \u001b[38;5;28mself\u001b[39m\u001b[38;5;241m.\u001b[39m_inference_function\u001b[38;5;241m.\u001b[39mcall_preflattened(args)\n\u001b[0;32m   1323\u001b[0m forward_backward \u001b[38;5;241m=\u001b[39m \u001b[38;5;28mself\u001b[39m\u001b[38;5;241m.\u001b[39m_select_forward_and_backward_functions(\n\u001b[0;32m   1324\u001b[0m     args,\n\u001b[0;32m   1325\u001b[0m     possible_gradient_type,\n\u001b[0;32m   1326\u001b[0m     executing_eagerly)\n\u001b[0;32m   1327\u001b[0m forward_function, args_with_tangents \u001b[38;5;241m=\u001b[39m forward_backward\u001b[38;5;241m.\u001b[39mforward()\n",
            "File \u001b[1;32mc:\\Users\\amit_\\anaconda3\\Lib\\site-packages\\tensorflow\\python\\eager\\polymorphic_function\\atomic_function.py:216\u001b[0m, in \u001b[0;36mAtomicFunction.call_preflattened\u001b[1;34m(self, args)\u001b[0m\n\u001b[0;32m    214\u001b[0m \u001b[38;5;28;01mdef\u001b[39;00m \u001b[38;5;21mcall_preflattened\u001b[39m(\u001b[38;5;28mself\u001b[39m, args: Sequence[core\u001b[38;5;241m.\u001b[39mTensor]) \u001b[38;5;241m-\u001b[39m\u001b[38;5;241m>\u001b[39m Any:\n\u001b[0;32m    215\u001b[0m \u001b[38;5;250m  \u001b[39m\u001b[38;5;124;03m\"\"\"Calls with flattened tensor inputs and returns the structured output.\"\"\"\u001b[39;00m\n\u001b[1;32m--> 216\u001b[0m   flat_outputs \u001b[38;5;241m=\u001b[39m \u001b[38;5;28mself\u001b[39m\u001b[38;5;241m.\u001b[39mcall_flat(\u001b[38;5;241m*\u001b[39margs)\n\u001b[0;32m    217\u001b[0m   \u001b[38;5;28;01mreturn\u001b[39;00m \u001b[38;5;28mself\u001b[39m\u001b[38;5;241m.\u001b[39mfunction_type\u001b[38;5;241m.\u001b[39mpack_output(flat_outputs)\n",
            "File \u001b[1;32mc:\\Users\\amit_\\anaconda3\\Lib\\site-packages\\tensorflow\\python\\eager\\polymorphic_function\\atomic_function.py:251\u001b[0m, in \u001b[0;36mAtomicFunction.call_flat\u001b[1;34m(self, *args)\u001b[0m\n\u001b[0;32m    249\u001b[0m \u001b[38;5;28;01mwith\u001b[39;00m record\u001b[38;5;241m.\u001b[39mstop_recording():\n\u001b[0;32m    250\u001b[0m   \u001b[38;5;28;01mif\u001b[39;00m \u001b[38;5;28mself\u001b[39m\u001b[38;5;241m.\u001b[39m_bound_context\u001b[38;5;241m.\u001b[39mexecuting_eagerly():\n\u001b[1;32m--> 251\u001b[0m     outputs \u001b[38;5;241m=\u001b[39m \u001b[38;5;28mself\u001b[39m\u001b[38;5;241m.\u001b[39m_bound_context\u001b[38;5;241m.\u001b[39mcall_function(\n\u001b[0;32m    252\u001b[0m         \u001b[38;5;28mself\u001b[39m\u001b[38;5;241m.\u001b[39mname,\n\u001b[0;32m    253\u001b[0m         \u001b[38;5;28mlist\u001b[39m(args),\n\u001b[0;32m    254\u001b[0m         \u001b[38;5;28mlen\u001b[39m(\u001b[38;5;28mself\u001b[39m\u001b[38;5;241m.\u001b[39mfunction_type\u001b[38;5;241m.\u001b[39mflat_outputs),\n\u001b[0;32m    255\u001b[0m     )\n\u001b[0;32m    256\u001b[0m   \u001b[38;5;28;01melse\u001b[39;00m:\n\u001b[0;32m    257\u001b[0m     outputs \u001b[38;5;241m=\u001b[39m make_call_op_in_graph(\n\u001b[0;32m    258\u001b[0m         \u001b[38;5;28mself\u001b[39m,\n\u001b[0;32m    259\u001b[0m         \u001b[38;5;28mlist\u001b[39m(args),\n\u001b[0;32m    260\u001b[0m         \u001b[38;5;28mself\u001b[39m\u001b[38;5;241m.\u001b[39m_bound_context\u001b[38;5;241m.\u001b[39mfunction_call_options\u001b[38;5;241m.\u001b[39mas_attrs(),\n\u001b[0;32m    261\u001b[0m     )\n",
            "File \u001b[1;32mc:\\Users\\amit_\\anaconda3\\Lib\\site-packages\\tensorflow\\python\\eager\\context.py:1683\u001b[0m, in \u001b[0;36mContext.call_function\u001b[1;34m(self, name, tensor_inputs, num_outputs)\u001b[0m\n\u001b[0;32m   1681\u001b[0m cancellation_context \u001b[38;5;241m=\u001b[39m cancellation\u001b[38;5;241m.\u001b[39mcontext()\n\u001b[0;32m   1682\u001b[0m \u001b[38;5;28;01mif\u001b[39;00m cancellation_context \u001b[38;5;129;01mis\u001b[39;00m \u001b[38;5;28;01mNone\u001b[39;00m:\n\u001b[1;32m-> 1683\u001b[0m   outputs \u001b[38;5;241m=\u001b[39m execute\u001b[38;5;241m.\u001b[39mexecute(\n\u001b[0;32m   1684\u001b[0m       name\u001b[38;5;241m.\u001b[39mdecode(\u001b[38;5;124m\"\u001b[39m\u001b[38;5;124mutf-8\u001b[39m\u001b[38;5;124m\"\u001b[39m),\n\u001b[0;32m   1685\u001b[0m       num_outputs\u001b[38;5;241m=\u001b[39mnum_outputs,\n\u001b[0;32m   1686\u001b[0m       inputs\u001b[38;5;241m=\u001b[39mtensor_inputs,\n\u001b[0;32m   1687\u001b[0m       attrs\u001b[38;5;241m=\u001b[39mattrs,\n\u001b[0;32m   1688\u001b[0m       ctx\u001b[38;5;241m=\u001b[39m\u001b[38;5;28mself\u001b[39m,\n\u001b[0;32m   1689\u001b[0m   )\n\u001b[0;32m   1690\u001b[0m \u001b[38;5;28;01melse\u001b[39;00m:\n\u001b[0;32m   1691\u001b[0m   outputs \u001b[38;5;241m=\u001b[39m execute\u001b[38;5;241m.\u001b[39mexecute_with_cancellation(\n\u001b[0;32m   1692\u001b[0m       name\u001b[38;5;241m.\u001b[39mdecode(\u001b[38;5;124m\"\u001b[39m\u001b[38;5;124mutf-8\u001b[39m\u001b[38;5;124m\"\u001b[39m),\n\u001b[0;32m   1693\u001b[0m       num_outputs\u001b[38;5;241m=\u001b[39mnum_outputs,\n\u001b[1;32m   (...)\u001b[0m\n\u001b[0;32m   1697\u001b[0m       cancellation_manager\u001b[38;5;241m=\u001b[39mcancellation_context,\n\u001b[0;32m   1698\u001b[0m   )\n",
            "File \u001b[1;32mc:\\Users\\amit_\\anaconda3\\Lib\\site-packages\\tensorflow\\python\\eager\\execute.py:53\u001b[0m, in \u001b[0;36mquick_execute\u001b[1;34m(op_name, num_outputs, inputs, attrs, ctx, name)\u001b[0m\n\u001b[0;32m     51\u001b[0m \u001b[38;5;28;01mtry\u001b[39;00m:\n\u001b[0;32m     52\u001b[0m   ctx\u001b[38;5;241m.\u001b[39mensure_initialized()\n\u001b[1;32m---> 53\u001b[0m   tensors \u001b[38;5;241m=\u001b[39m pywrap_tfe\u001b[38;5;241m.\u001b[39mTFE_Py_Execute(ctx\u001b[38;5;241m.\u001b[39m_handle, device_name, op_name,\n\u001b[0;32m     54\u001b[0m                                       inputs, attrs, num_outputs)\n\u001b[0;32m     55\u001b[0m \u001b[38;5;28;01mexcept\u001b[39;00m core\u001b[38;5;241m.\u001b[39m_NotOkStatusException \u001b[38;5;28;01mas\u001b[39;00m e:\n\u001b[0;32m     56\u001b[0m   \u001b[38;5;28;01mif\u001b[39;00m name \u001b[38;5;129;01mis\u001b[39;00m \u001b[38;5;129;01mnot\u001b[39;00m \u001b[38;5;28;01mNone\u001b[39;00m:\n",
            "\u001b[1;31mKeyboardInterrupt\u001b[0m: "
          ]
        }
      ],
      "source": [
        "epochs = 20\n",
        "vgg_model_history = vgg_transfer_model.fit(tl_training_data,\n",
        "                                         validation_data = tl_validation_data,\n",
        "                                         epochs = epochs,\n",
        "                                         callbacks = callbacks_list)"
      ]
    },
    {
      "cell_type": "markdown",
      "metadata": {
        "id": "Un-19jPckK07"
      },
      "source": [
        "### **Evaluating the VGG16 model**"
      ]
    },
    {
      "cell_type": "code",
      "execution_count": null,
      "metadata": {
        "id": "t6Y_bSLCkcvr"
      },
      "outputs": [],
      "source": []
    },
    {
      "cell_type": "markdown",
      "metadata": {
        "id": "tW6kPSky59Gv"
      },
      "source": [
        "**Think About It:**\n",
        "\n",
        "- What do you infer from the general trend in the training performance? \n",
        "- Is the training accuracy consistently improving? \n",
        "- Is the validation accuracy also improving similarly?"
      ]
    },
    {
      "cell_type": "markdown",
      "metadata": {
        "id": "YuTi6OAx8q_r"
      },
      "source": [
        "**Observations and Insights:__**"
      ]
    },
    {
      "cell_type": "markdown",
      "metadata": {
        "id": "AfC2Kx0v7Sa1"
      },
      "source": [
        "**Note: You can even go back and build your own architecture on top of the VGG16 Transfer layer and see if you can improve the performance**"
      ]
    },
    {
      "cell_type": "markdown",
      "metadata": {
        "id": "E0Mew4Cc7u7k"
      },
      "source": [
        "## **ResNet V2 Model**"
      ]
    },
    {
      "cell_type": "code",
      "execution_count": null,
      "metadata": {
        "id": "568a5c9a",
        "scrolled": false
      },
      "outputs": [],
      "source": []
    },
    {
      "cell_type": "markdown",
      "metadata": {
        "id": "ay4RedCQlL4O"
      },
      "source": [
        "### **Model Building**\n",
        "\n",
        "- Import Resnet v2 upto the layer of your choice and add Fully Connected layers on top of it."
      ]
    },
    {
      "cell_type": "code",
      "execution_count": null,
      "metadata": {
        "id": "911d3335"
      },
      "outputs": [],
      "source": []
    },
    {
      "cell_type": "markdown",
      "metadata": {
        "id": "Tmtcd1ZElpJy"
      },
      "source": [
        "### **Compiling and Training the Model**"
      ]
    },
    {
      "cell_type": "code",
      "execution_count": null,
      "metadata": {
        "id": "fe959789"
      },
      "outputs": [],
      "source": []
    },
    {
      "cell_type": "markdown",
      "metadata": {
        "id": "McHEzBlhxw39"
      },
      "source": [
        "### **Evaluating the ResNet Model**"
      ]
    },
    {
      "cell_type": "code",
      "execution_count": null,
      "metadata": {
        "id": "IEl6IQf0xwci"
      },
      "outputs": [],
      "source": []
    },
    {
      "cell_type": "markdown",
      "metadata": {
        "id": "3htKZRdomiOY"
      },
      "source": [
        "**Observations and Insights:__**\n",
        "\n",
        "**Note: You can even go back and build your own architecture on top of the ResNet Transfer layer and see if you can improve the performance.**"
      ]
    },
    {
      "cell_type": "markdown",
      "metadata": {
        "id": "FmnDG4ZbncoR"
      },
      "source": [
        "## **EfficientNet Model**"
      ]
    },
    {
      "cell_type": "code",
      "execution_count": null,
      "metadata": {
        "id": "613c7a71"
      },
      "outputs": [],
      "source": []
    },
    {
      "cell_type": "markdown",
      "metadata": {
        "id": "6kDNE8pVngqC"
      },
      "source": [
        "### **Model Building**\n",
        "\n",
        "- Import EfficientNet upto the layer of your choice and add Fully Connected layers on top of it."
      ]
    },
    {
      "cell_type": "code",
      "execution_count": null,
      "metadata": {
        "id": "2b27a6e1"
      },
      "outputs": [],
      "source": []
    },
    {
      "cell_type": "markdown",
      "metadata": {
        "id": "hVv4Df_In32Y"
      },
      "source": [
        "### **Compiling and Training the Model**"
      ]
    },
    {
      "cell_type": "code",
      "execution_count": null,
      "metadata": {
        "id": "dc326cd3"
      },
      "outputs": [],
      "source": []
    },
    {
      "cell_type": "markdown",
      "metadata": {
        "id": "2xjrzYpgoQnN"
      },
      "source": [
        "### **Evaluating the EfficientnetNet Model**"
      ]
    },
    {
      "cell_type": "code",
      "execution_count": null,
      "metadata": {
        "id": "WJVFenvnoQnN"
      },
      "outputs": [],
      "source": []
    },
    {
      "cell_type": "markdown",
      "metadata": {
        "id": "kWlk14FOoQnN"
      },
      "source": [
        "**Observations and Insights:__**\n",
        "\n",
        "**Note: You can even go back and build your own architecture on top of the VGG16 Transfer layer and see if you can improve the performance.**"
      ]
    },
    {
      "cell_type": "markdown",
      "metadata": {
        "id": "fk6QAcv5odNF"
      },
      "source": [
        "**Think About It:**\n",
        "\n",
        "* What is your overall performance of these Transfer Learning Architectures? Can we draw a comparison of these models' performances. Are we satisfied with the accuracies that we have received?\n",
        "* Do you think our issue lies with 'rgb' color_mode?"
      ]
    },
    {
      "cell_type": "markdown",
      "metadata": {
        "id": "-EH3atQP8q_v"
      },
      "source": [
        "Now that we have tried multiple pre-trained models, let's build a complex CNN architecture and see if we can get better performance."
      ]
    },
    {
      "cell_type": "markdown",
      "metadata": {
        "id": "SjKlBaZDpWoV"
      },
      "source": [
        "## **Building a Complex Neural Network Architecture**"
      ]
    },
    {
      "cell_type": "markdown",
      "metadata": {
        "id": "-bMFUj3Fpe75"
      },
      "source": [
        "In this section, we will build a more complex Convolutional Neural Network Model that has close to as many parameters as we had in our Transfer Learning Models. However, we will have only 1 input channel for our input images."
      ]
    },
    {
      "cell_type": "markdown",
      "metadata": {
        "id": "ejGfyYSbtx-F"
      },
      "source": [
        "## **Creating our Data Loaders**\n",
        "\n",
        "In this section, we are creating data loaders which we will use as inputs to the more Complicated Convolutional Neural Network. We will go ahead with color_mode = 'grayscale'."
      ]
    },
    {
      "cell_type": "code",
      "execution_count": null,
      "metadata": {
        "id": "xj1hM5_ttx-F"
      },
      "outputs": [],
      "source": []
    },
    {
      "cell_type": "markdown",
      "metadata": {
        "id": "Ft5U6f1Wie2R"
      },
      "source": [
        "### **Model Building**\n",
        "\n",
        "- Try building a layer with 5 Convolutional Blocks and see if performance increases."
      ]
    },
    {
      "cell_type": "code",
      "execution_count": null,
      "metadata": {
        "id": "37f9194d"
      },
      "outputs": [],
      "source": []
    },
    {
      "cell_type": "markdown",
      "metadata": {
        "id": "fyc0B--hwTHS"
      },
      "source": [
        "### **Compiling and Training the Model**"
      ]
    },
    {
      "cell_type": "code",
      "execution_count": null,
      "metadata": {
        "id": "0edabf52"
      },
      "outputs": [],
      "source": []
    },
    {
      "cell_type": "markdown",
      "metadata": {
        "id": "BbAqrAQQVjIR"
      },
      "source": [
        "### **Evaluating the Model on Test Set**"
      ]
    },
    {
      "cell_type": "code",
      "execution_count": null,
      "metadata": {
        "id": "uO26AYRuVm7F"
      },
      "outputs": [],
      "source": []
    },
    {
      "cell_type": "markdown",
      "metadata": {
        "id": "81uYGSmHwxfD"
      },
      "source": [
        "**Observations and Insights:__**"
      ]
    },
    {
      "cell_type": "markdown",
      "metadata": {
        "id": "GNWc6agwxJ_z"
      },
      "source": [
        "### **Plotting the Confusion Matrix for the chosen final model**"
      ]
    },
    {
      "cell_type": "code",
      "execution_count": null,
      "metadata": {
        "id": "SFTRyIk-yjoQ"
      },
      "outputs": [],
      "source": []
    },
    {
      "cell_type": "markdown",
      "metadata": {
        "id": "LGgvpOrP8q_x"
      },
      "source": [
        "**Observations and Insights:__**"
      ]
    },
    {
      "cell_type": "markdown",
      "metadata": {
        "id": "6s_baiF_KllW"
      },
      "source": [
        "## **Conclusion:____________**"
      ]
    },
    {
      "cell_type": "markdown",
      "metadata": {
        "id": "MEZPA_mN0tUo"
      },
      "source": [
        "### **Insights**\n",
        "\n",
        "### **Refined insights**:\n",
        "- What are the most meaningful insights from the data relevant to the problem?\n",
        "\n",
        "### **Comparison of various techniques and their relative performance**:\n",
        "- How do different techniques perform? Which one is performing relatively better? Is there scope to improve the performance further?\n",
        "\n",
        "### **Proposal for the final solution design**:\n",
        "- What model do you propose to be adopted? Why is this the best solution to adopt?"
      ]
    }
  ],
  "metadata": {
    "colab": {
      "provenance": []
    },
    "kernelspec": {
      "display_name": "base",
      "language": "python",
      "name": "python3"
    },
    "language_info": {
      "codemirror_mode": {
        "name": "ipython",
        "version": 3
      },
      "file_extension": ".py",
      "mimetype": "text/x-python",
      "name": "python",
      "nbconvert_exporter": "python",
      "pygments_lexer": "ipython3",
      "version": "3.12.4"
    }
  },
  "nbformat": 4,
  "nbformat_minor": 0
}
