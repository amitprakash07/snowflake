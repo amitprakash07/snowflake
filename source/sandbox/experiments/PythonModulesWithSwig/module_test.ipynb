{
 "cells": [
  {
   "cell_type": "code",
   "execution_count": 1,
   "metadata": {},
   "outputs": [],
   "source": [
    "import os,sys\n",
    "python_module = \"D:\\\\develop\\\\GitHub\\\\personal_account\\\\snowflake\\\\tmp\\\\output\\\\x64\\\\bin\\\\PythonModuleTest.dll\"\n",
    "python_module_path = \"D:\\\\develop\\\\GitHub\\\\personal_account\\\\snowflake\\\\tmp\\\\output\\\\x64\\\\bin\"\n",
    "if not os.path.exists(python_module_path):\n",
    "    print(\"Module Path doesn't exist\")\n",
    "else:\n",
    "    sys.path.append(python_module_path)\n",
    "    os.environ[\"PATH\"] += os.pathsep + os.path.abspath(python_module_path)"
   ]
  },
  {
   "cell_type": "code",
   "execution_count": 2,
   "metadata": {},
   "outputs": [],
   "source": [
    "import spam as sp"
   ]
  },
  {
   "cell_type": "code",
   "execution_count": 3,
   "metadata": {},
   "outputs": [
    {
     "data": {
      "text/plain": [
       "0"
      ]
     },
     "execution_count": 3,
     "metadata": {},
     "output_type": "execute_result"
    }
   ],
   "source": [
    "sp.system(\"dir\")\n",
    "sp.system(\"\")"
   ]
  }
 ],
 "metadata": {
  "kernelspec": {
   "display_name": "python3_11_9",
   "language": "python",
   "name": "python3"
  },
  "language_info": {
   "codemirror_mode": {
    "name": "ipython",
    "version": 3
   },
   "file_extension": ".py",
   "mimetype": "text/x-python",
   "name": "python",
   "nbconvert_exporter": "python",
   "pygments_lexer": "ipython3",
   "version": "3.11.9"
  }
 },
 "nbformat": 4,
 "nbformat_minor": 2
}
